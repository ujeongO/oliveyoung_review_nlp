{
 "cells": [
  {
   "cell_type": "code",
   "execution_count": 1,
   "id": "3c599047-abc1-4f6c-a30e-f5e4c20ab0cd",
   "metadata": {
    "tags": []
   },
   "outputs": [],
   "source": [
    "import pandas as pd"
   ]
  },
  {
   "cell_type": "code",
   "execution_count": 2,
   "id": "e00b0d9b-8439-4916-aa8b-84bc0d826720",
   "metadata": {
    "tags": []
   },
   "outputs": [],
   "source": [
    "df = pd.read_csv(\"./oliveyoung_review_tokenize.csv\")"
   ]
  },
  {
   "cell_type": "code",
   "execution_count": 3,
   "id": "61035a2c-ed70-47bd-bebd-495f92b550ed",
   "metadata": {
    "tags": []
   },
   "outputs": [
    {
     "data": {
      "text/html": [
       "<div>\n",
       "<style scoped>\n",
       "    .dataframe tbody tr th:only-of-type {\n",
       "        vertical-align: middle;\n",
       "    }\n",
       "\n",
       "    .dataframe tbody tr th {\n",
       "        vertical-align: top;\n",
       "    }\n",
       "\n",
       "    .dataframe thead th {\n",
       "        text-align: right;\n",
       "    }\n",
       "</style>\n",
       "<table border=\"1\" class=\"dataframe\">\n",
       "  <thead>\n",
       "    <tr style=\"text-align: right;\">\n",
       "      <th></th>\n",
       "      <th>item_number</th>\n",
       "      <th>brand_name</th>\n",
       "      <th>sanitary_type</th>\n",
       "      <th>item_option</th>\n",
       "      <th>review_content</th>\n",
       "      <th>absorption_encoded</th>\n",
       "      <th>stimulation_encoded</th>\n",
       "      <th>texture_encoded</th>\n",
       "      <th>nouns</th>\n",
       "    </tr>\n",
       "  </thead>\n",
       "  <tbody>\n",
       "    <tr>\n",
       "      <th>0</th>\n",
       "      <td>A000000191350</td>\n",
       "      <td>마리솜</td>\n",
       "      <td>pad</td>\n",
       "      <td></td>\n",
       "      <td>너무 귀여워서 살수 밖에 없었어요 사실 쿠로미 가지고싶었는데 마멜 당첨 됬지만 너무...</td>\n",
       "      <td>3.0</td>\n",
       "      <td>2.0</td>\n",
       "      <td>3.0</td>\n",
       "      <td>['너무', '귀엽', '살수', '밖', '없', '사실', '쿠로미', '마멜'...</td>\n",
       "    </tr>\n",
       "    <tr>\n",
       "      <th>1</th>\n",
       "      <td>A000000191350</td>\n",
       "      <td>마리솜</td>\n",
       "      <td>pad</td>\n",
       "      <td></td>\n",
       "      <td>종류별로 다양하게 담겨있어서 좋아요  오버나이트가 급히 필요해서 뜯어 써봤는데 진짜...</td>\n",
       "      <td>2.0</td>\n",
       "      <td>3.0</td>\n",
       "      <td>2.0</td>\n",
       "      <td>['종류', '다양', '좋', '오버나이트', '급히', '필요', '진짜', '...</td>\n",
       "    </tr>\n",
       "    <tr>\n",
       "      <th>2</th>\n",
       "      <td>A000000193819</td>\n",
       "      <td>마리솜</td>\n",
       "      <td>pad</td>\n",
       "      <td></td>\n",
       "      <td>조카가 얼마전에 생리시작해서 생리대 선물해 주려고했는데 마침 퍼스트박스 세트가 있어...</td>\n",
       "      <td>3.0</td>\n",
       "      <td>3.0</td>\n",
       "      <td>3.0</td>\n",
       "      <td>['조카', '얼마', '전', '생리', '시작', '생리대', '선물', '마침...</td>\n",
       "    </tr>\n",
       "    <tr>\n",
       "      <th>3</th>\n",
       "      <td>A000000191350</td>\n",
       "      <td>마리솜</td>\n",
       "      <td>pad</td>\n",
       "      <td></td>\n",
       "      <td>아직 사용 전이에요 그래도 리뷰 남겨요 패키징 귀여워요 마이멜로디 기대했는데에 시나모롤툭</td>\n",
       "      <td>3.0</td>\n",
       "      <td>3.0</td>\n",
       "      <td>3.0</td>\n",
       "      <td>['아직', '사용', '전', '리뷰', '패', '징', '귀엽', '마이멜로디...</td>\n",
       "    </tr>\n",
       "    <tr>\n",
       "      <th>4</th>\n",
       "      <td>A000000191350</td>\n",
       "      <td>마리솜</td>\n",
       "      <td>pad</td>\n",
       "      <td></td>\n",
       "      <td>박스상태  그냥 상자에 넣어서 보내버려서 택배오는동안 망가졌네요 뽁뽁이 해야할거같아...</td>\n",
       "      <td>2.0</td>\n",
       "      <td>2.0</td>\n",
       "      <td>2.0</td>\n",
       "      <td>['박스', '상태', '그냥', '상자', '택배', '동안', '뽁뽁이', '같...</td>\n",
       "    </tr>\n",
       "    <tr>\n",
       "      <th>...</th>\n",
       "      <td>...</td>\n",
       "      <td>...</td>\n",
       "      <td>...</td>\n",
       "      <td>...</td>\n",
       "      <td>...</td>\n",
       "      <td>...</td>\n",
       "      <td>...</td>\n",
       "      <td>...</td>\n",
       "      <td>...</td>\n",
       "    </tr>\n",
       "    <tr>\n",
       "      <th>21987</th>\n",
       "      <td>A000000006723</td>\n",
       "      <td>유기농본</td>\n",
       "      <td>pad</td>\n",
       "      <td></td>\n",
       "      <td>세일할때 처음 써보고 그 후에 자주 사고있어요 쓰고나면 확실히 이전꺼보다 사용감좋은...</td>\n",
       "      <td>3.0</td>\n",
       "      <td>3.0</td>\n",
       "      <td>3.0</td>\n",
       "      <td>['세일', '때', '처음', '그 후', '자주', '확실히', '이전', '사...</td>\n",
       "    </tr>\n",
       "    <tr>\n",
       "      <th>21988</th>\n",
       "      <td>A000000006723</td>\n",
       "      <td>유기농본</td>\n",
       "      <td>pad</td>\n",
       "      <td></td>\n",
       "      <td>넘무긴오버나이트만사놓는바람에적당한길이에얋은게필요했는데마침들른올리브영에서세일도하고있는...</td>\n",
       "      <td>2.0</td>\n",
       "      <td>2.0</td>\n",
       "      <td>2.0</td>\n",
       "      <td>[]</td>\n",
       "    </tr>\n",
       "    <tr>\n",
       "      <th>21989</th>\n",
       "      <td>A000000006723</td>\n",
       "      <td>유기농본</td>\n",
       "      <td>pad</td>\n",
       "      <td></td>\n",
       "      <td>사용해 온 기간은 정말 오래되어서 그냥 자연스럽게 선택하는 제품입니다 특별히 나쁜 ...</td>\n",
       "      <td>3.0</td>\n",
       "      <td>3.0</td>\n",
       "      <td>3.0</td>\n",
       "      <td>['사용', '기간', '정말', '그냥', '자연', '선택', '제품', '특별...</td>\n",
       "    </tr>\n",
       "    <tr>\n",
       "      <th>21990</th>\n",
       "      <td>A000000006723</td>\n",
       "      <td>유기농본</td>\n",
       "      <td>pad</td>\n",
       "      <td></td>\n",
       "      <td>너무좋아요 너무좋스버다  사용해보니 너무좋습니다</td>\n",
       "      <td>2.0</td>\n",
       "      <td>2.0</td>\n",
       "      <td>2.0</td>\n",
       "      <td>['너무', '좋', '사용', '너무', '좋']</td>\n",
       "    </tr>\n",
       "    <tr>\n",
       "      <th>21991</th>\n",
       "      <td>A000000006723</td>\n",
       "      <td>유기농본</td>\n",
       "      <td>pad</td>\n",
       "      <td></td>\n",
       "      <td>양 많은날이나 잘때 착용하면 셀 걱정이 없어요중학생아이도 생리 시작 후부터 꾸준히 ...</td>\n",
       "      <td>3.0</td>\n",
       "      <td>3.0</td>\n",
       "      <td>3.0</td>\n",
       "      <td>['많', '날', '잘', '때', '착용', '세', '걱정', '없어', '요...</td>\n",
       "    </tr>\n",
       "  </tbody>\n",
       "</table>\n",
       "<p>21992 rows × 9 columns</p>\n",
       "</div>"
      ],
      "text/plain": [
       "         item_number brand_name sanitary_type item_option  \\\n",
       "0      A000000191350        마리솜           pad               \n",
       "1      A000000191350        마리솜           pad               \n",
       "2      A000000193819        마리솜           pad               \n",
       "3      A000000191350        마리솜           pad               \n",
       "4      A000000191350        마리솜           pad               \n",
       "...              ...        ...           ...         ...   \n",
       "21987  A000000006723       유기농본           pad               \n",
       "21988  A000000006723       유기농본           pad               \n",
       "21989  A000000006723       유기농본           pad               \n",
       "21990  A000000006723       유기농본           pad               \n",
       "21991  A000000006723       유기농본           pad               \n",
       "\n",
       "                                          review_content  absorption_encoded  \\\n",
       "0      너무 귀여워서 살수 밖에 없었어요 사실 쿠로미 가지고싶었는데 마멜 당첨 됬지만 너무...                 3.0   \n",
       "1      종류별로 다양하게 담겨있어서 좋아요  오버나이트가 급히 필요해서 뜯어 써봤는데 진짜...                 2.0   \n",
       "2      조카가 얼마전에 생리시작해서 생리대 선물해 주려고했는데 마침 퍼스트박스 세트가 있어...                 3.0   \n",
       "3      아직 사용 전이에요 그래도 리뷰 남겨요 패키징 귀여워요 마이멜로디 기대했는데에 시나모롤툭                 3.0   \n",
       "4      박스상태  그냥 상자에 넣어서 보내버려서 택배오는동안 망가졌네요 뽁뽁이 해야할거같아...                 2.0   \n",
       "...                                                  ...                 ...   \n",
       "21987  세일할때 처음 써보고 그 후에 자주 사고있어요 쓰고나면 확실히 이전꺼보다 사용감좋은...                 3.0   \n",
       "21988  넘무긴오버나이트만사놓는바람에적당한길이에얋은게필요했는데마침들른올리브영에서세일도하고있는...                 2.0   \n",
       "21989  사용해 온 기간은 정말 오래되어서 그냥 자연스럽게 선택하는 제품입니다 특별히 나쁜 ...                 3.0   \n",
       "21990                         너무좋아요 너무좋스버다  사용해보니 너무좋습니다                 2.0   \n",
       "21991  양 많은날이나 잘때 착용하면 셀 걱정이 없어요중학생아이도 생리 시작 후부터 꾸준히 ...                 3.0   \n",
       "\n",
       "       stimulation_encoded  texture_encoded  \\\n",
       "0                      2.0              3.0   \n",
       "1                      3.0              2.0   \n",
       "2                      3.0              3.0   \n",
       "3                      3.0              3.0   \n",
       "4                      2.0              2.0   \n",
       "...                    ...              ...   \n",
       "21987                  3.0              3.0   \n",
       "21988                  2.0              2.0   \n",
       "21989                  3.0              3.0   \n",
       "21990                  2.0              2.0   \n",
       "21991                  3.0              3.0   \n",
       "\n",
       "                                                   nouns  \n",
       "0      ['너무', '귀엽', '살수', '밖', '없', '사실', '쿠로미', '마멜'...  \n",
       "1      ['종류', '다양', '좋', '오버나이트', '급히', '필요', '진짜', '...  \n",
       "2      ['조카', '얼마', '전', '생리', '시작', '생리대', '선물', '마침...  \n",
       "3      ['아직', '사용', '전', '리뷰', '패', '징', '귀엽', '마이멜로디...  \n",
       "4      ['박스', '상태', '그냥', '상자', '택배', '동안', '뽁뽁이', '같...  \n",
       "...                                                  ...  \n",
       "21987  ['세일', '때', '처음', '그 후', '자주', '확실히', '이전', '사...  \n",
       "21988                                                 []  \n",
       "21989  ['사용', '기간', '정말', '그냥', '자연', '선택', '제품', '특별...  \n",
       "21990                       ['너무', '좋', '사용', '너무', '좋']  \n",
       "21991  ['많', '날', '잘', '때', '착용', '세', '걱정', '없어', '요...  \n",
       "\n",
       "[21992 rows x 9 columns]"
      ]
     },
     "execution_count": 3,
     "metadata": {},
     "output_type": "execute_result"
    }
   ],
   "source": [
    "df"
   ]
  },
  {
   "cell_type": "markdown",
   "id": "573a64f4-7ed3-4358-b1b2-e8f5fb5521db",
   "metadata": {
    "tags": []
   },
   "source": [
    "### df.isnull().sum()"
   ]
  },
  {
   "cell_type": "code",
   "execution_count": 5,
   "id": "a21a78a5-9585-4480-ad41-a4a58a87615e",
   "metadata": {
    "tags": []
   },
   "outputs": [
    {
     "data": {
      "text/plain": [
       "array(['마리솜', '좋은느낌', '라엘', '이너시아', '유기농본', '쏘피', '아임오', '라네이처', '예지미인',\n",
       "       '루나', '티읕', '한나', '해피문데이', '템포', '순수한면', '화이트', '나트라케어'],\n",
       "      dtype=object)"
      ]
     },
     "execution_count": 5,
     "metadata": {},
     "output_type": "execute_result"
    }
   ],
   "source": [
    "df[\"brand_name\"].unique()"
   ]
  },
  {
   "cell_type": "code",
   "execution_count": 291,
   "id": "9565bac1-b8a5-4a53-8197-873aeb06b9bf",
   "metadata": {
    "tags": []
   },
   "outputs": [
    {
     "data": {
      "text/plain": [
       "array(['A000000191350', 'A000000193819', 'A000000192900', 'A000000191605',\n",
       "       'A000000131345', 'A000000131341', 'A000000131349', 'A000000148241',\n",
       "       'A000000191348', 'A000000014786', 'A000000187776', 'A000000189998',\n",
       "       'A000000187774', 'A000000189999', 'A000000192669', 'A000000170423',\n",
       "       'A000000014793', 'A000000114373', 'A000000105853', 'A000000117619',\n",
       "       'A000000014788', 'A000000014792', 'A000000154575', 'A000000157118',\n",
       "       'A000000168848', 'A000000168883', 'A000000007225', 'A000000160619',\n",
       "       'A000000007229', 'A000000160621', 'A000000160821', 'A000000189827',\n",
       "       'A000000189327', 'A000000172347', 'A000000189918', 'A000000154732',\n",
       "       'A000000154164', 'A000000155212', 'A000000154165', 'A000000159671',\n",
       "       'A000000172919', 'A000000156954', 'A000000156952', 'A000000156953',\n",
       "       'A000000156946', 'A000000178799', 'A000000185976', 'A000000164619',\n",
       "       'A000000164621', 'A000000164617', 'A000000155771', 'A000000180731',\n",
       "       'A000000170374', 'A000000191547', 'A000000170376', 'A000000170378',\n",
       "       'A000000184421', 'A000000189043', 'A000000188195', 'A000000161340',\n",
       "       'A000000158968', 'A000000158969', 'A000000188686', 'A000000158959',\n",
       "       'A000000158970', 'A000000183045', 'A000000167587', 'A000000167586',\n",
       "       'A000000167588', 'A000000188190', 'A000000183555', 'A000000173458',\n",
       "       'A000000009140', 'A000000006723'], dtype=object)"
      ]
     },
     "execution_count": 291,
     "metadata": {},
     "output_type": "execute_result"
    }
   ],
   "source": [
    "df[\"item_number\"].unique()"
   ]
  },
  {
   "cell_type": "code",
   "execution_count": 145,
   "id": "4f496c47-b08d-4254-be4e-63918701a7c0",
   "metadata": {
    "tags": []
   },
   "outputs": [],
   "source": [
    "# df.loc[df['brand_name'] == '유기농분', 'brand_name'] = '유기농본'"
   ]
  },
  {
   "cell_type": "code",
   "execution_count": null,
   "id": "c770e6af-535a-4800-87fa-c82ec1fc37bf",
   "metadata": {},
   "outputs": [],
   "source": []
  },
  {
   "cell_type": "markdown",
   "id": "3597e99d-9358-476f-9636-3ed0725cef45",
   "metadata": {},
   "source": [
    "### 흡수력, 자극, 촉감 모두 nan인 것들 뽑기"
   ]
  },
  {
   "cell_type": "code",
   "execution_count": 10,
   "id": "5e610910-a905-42f4-a025-c7ab44930f12",
   "metadata": {
    "collapsed": true,
    "jupyter": {
     "outputs_hidden": true
    },
    "tags": []
   },
   "outputs": [
    {
     "data": {
      "text/html": [
       "<div>\n",
       "<style scoped>\n",
       "    .dataframe tbody tr th:only-of-type {\n",
       "        vertical-align: middle;\n",
       "    }\n",
       "\n",
       "    .dataframe tbody tr th {\n",
       "        vertical-align: top;\n",
       "    }\n",
       "\n",
       "    .dataframe thead th {\n",
       "        text-align: right;\n",
       "    }\n",
       "</style>\n",
       "<table border=\"1\" class=\"dataframe\">\n",
       "  <thead>\n",
       "    <tr style=\"text-align: right;\">\n",
       "      <th></th>\n",
       "      <th>item_number</th>\n",
       "      <th>brand_name</th>\n",
       "      <th>sanitary_type</th>\n",
       "      <th>item_option</th>\n",
       "      <th>review_content</th>\n",
       "      <th>absorption_encoded</th>\n",
       "      <th>stimulation_encoded</th>\n",
       "      <th>texture_encoded</th>\n",
       "      <th>nouns</th>\n",
       "    </tr>\n",
       "  </thead>\n",
       "  <tbody>\n",
       "    <tr>\n",
       "      <th>1760</th>\n",
       "      <td>A000000191350</td>\n",
       "      <td>마리솜</td>\n",
       "      <td>pad</td>\n",
       "      <td></td>\n",
       "      <td>너무 귀여워서 살수 밖에 없었어요 사실 쿠로미 가지고싶었는데 마멜 당첨 됬지만 너무...</td>\n",
       "      <td>NaN</td>\n",
       "      <td>NaN</td>\n",
       "      <td>NaN</td>\n",
       "      <td>['너무', '귀엽', '살수', '밖', '없', '사실', '쿠로미', '마멜'...</td>\n",
       "    </tr>\n",
       "    <tr>\n",
       "      <th>1762</th>\n",
       "      <td>A000000191350</td>\n",
       "      <td>마리솜</td>\n",
       "      <td>pad</td>\n",
       "      <td></td>\n",
       "      <td>종류별로 다양하게 담겨있어서 좋아요  오버나이트가 급히 필요해서 뜯어 써봤는데 진짜...</td>\n",
       "      <td>NaN</td>\n",
       "      <td>NaN</td>\n",
       "      <td>NaN</td>\n",
       "      <td>['종류', '다양', '좋', '오버나이트', '급히', '필요', '진짜', '...</td>\n",
       "    </tr>\n",
       "    <tr>\n",
       "      <th>1765</th>\n",
       "      <td>A000000191350</td>\n",
       "      <td>마리솜</td>\n",
       "      <td>pad</td>\n",
       "      <td></td>\n",
       "      <td>아직 사용 전이에요 그래도 리뷰 남겨요 패키징 귀여워요 마이멜로디 기대했는데에 시나모롤툭</td>\n",
       "      <td>NaN</td>\n",
       "      <td>NaN</td>\n",
       "      <td>NaN</td>\n",
       "      <td>['아직', '사용', '전', '리뷰', '패', '징', '귀엽', '마이멜로디...</td>\n",
       "    </tr>\n",
       "    <tr>\n",
       "      <th>1771</th>\n",
       "      <td>A000000191350</td>\n",
       "      <td>마리솜</td>\n",
       "      <td>pad</td>\n",
       "      <td></td>\n",
       "      <td>박스상태  그냥 상자에 넣어서 보내버려서 택배오는동안 망가졌네요 뽁뽁이 해야할거같아...</td>\n",
       "      <td>NaN</td>\n",
       "      <td>NaN</td>\n",
       "      <td>NaN</td>\n",
       "      <td>['박스', '상태', '그냥', '상자', '택배', '동안', '뽁뽁이', '같...</td>\n",
       "    </tr>\n",
       "    <tr>\n",
       "      <th>1772</th>\n",
       "      <td>A000000191350</td>\n",
       "      <td>마리솜</td>\n",
       "      <td>pad</td>\n",
       "      <td></td>\n",
       "      <td>파우치능 블랙 쿠루미가 옴양도 많구 잘 구매했어여 넘귀욤귀용</td>\n",
       "      <td>NaN</td>\n",
       "      <td>NaN</td>\n",
       "      <td>NaN</td>\n",
       "      <td>['파우치', '능', '블랙', '쿠루', '미', '옴', '양도', '많', ...</td>\n",
       "    </tr>\n",
       "    <tr>\n",
       "      <th>...</th>\n",
       "      <td>...</td>\n",
       "      <td>...</td>\n",
       "      <td>...</td>\n",
       "      <td>...</td>\n",
       "      <td>...</td>\n",
       "      <td>...</td>\n",
       "      <td>...</td>\n",
       "      <td>...</td>\n",
       "      <td>...</td>\n",
       "    </tr>\n",
       "    <tr>\n",
       "      <th>20017</th>\n",
       "      <td>A000000191348</td>\n",
       "      <td>마리솜</td>\n",
       "      <td>pad</td>\n",
       "      <td>헬로키티 롱라이너 20P</td>\n",
       "      <td>라이너는 자주 사용해서 항상 넉넉하게 구비해놓고 있어요</td>\n",
       "      <td>NaN</td>\n",
       "      <td>NaN</td>\n",
       "      <td>NaN</td>\n",
       "      <td>['라이너', '자주', '사용', '항상', '넉넉', '구비']</td>\n",
       "    </tr>\n",
       "    <tr>\n",
       "      <th>20018</th>\n",
       "      <td>A000000191348</td>\n",
       "      <td>마리솜</td>\n",
       "      <td>pad</td>\n",
       "      <td>헬로키티 롱라이너 20P</td>\n",
       "      <td>헬로키티NN년차 덕후로써 안살수가 없었어요 너무 기여워요 추천합니다 이렇게 키티 생...</td>\n",
       "      <td>NaN</td>\n",
       "      <td>NaN</td>\n",
       "      <td>NaN</td>\n",
       "      <td>['헬로키티', 'NN', '덕후', '살수', '없', '너무', '추천', '이...</td>\n",
       "    </tr>\n",
       "    <tr>\n",
       "      <th>20019</th>\n",
       "      <td>A000000191348</td>\n",
       "      <td>마리솜</td>\n",
       "      <td>pad</td>\n",
       "      <td>쿠로미 오버나이트 8P</td>\n",
       "      <td>잘 때는 오버나이트 자주 사용하고 있어요 순면이라 더 안심하고 사용할 수 있네요</td>\n",
       "      <td>NaN</td>\n",
       "      <td>NaN</td>\n",
       "      <td>NaN</td>\n",
       "      <td>['잘', '때', '오버나이트', '자주', '사용', '순면', '더', '안심...</td>\n",
       "    </tr>\n",
       "    <tr>\n",
       "      <th>20020</th>\n",
       "      <td>A000000191348</td>\n",
       "      <td>마리솜</td>\n",
       "      <td>pad</td>\n",
       "      <td>헬로키티 롱라이너 20P</td>\n",
       "      <td>길이 적당하고 촉감 부드러워서 잘 사용할 것 같네요 키티도 귀여워요</td>\n",
       "      <td>NaN</td>\n",
       "      <td>NaN</td>\n",
       "      <td>NaN</td>\n",
       "      <td>['길', '적당', '촉감', '부드럽', '잘', '사용', '같', '키티',...</td>\n",
       "    </tr>\n",
       "    <tr>\n",
       "      <th>20025</th>\n",
       "      <td>A000000191348</td>\n",
       "      <td>마리솜</td>\n",
       "      <td>pad</td>\n",
       "      <td>헬로키티 롱라이너 20P</td>\n",
       "      <td>신제품이고 산리오 제품이라서 구매해보았는데 제품도 좋습니다</td>\n",
       "      <td>NaN</td>\n",
       "      <td>NaN</td>\n",
       "      <td>NaN</td>\n",
       "      <td>['신제품', '산리오', '제품', '구매', '제품', '좋']</td>\n",
       "    </tr>\n",
       "  </tbody>\n",
       "</table>\n",
       "<p>157 rows × 9 columns</p>\n",
       "</div>"
      ],
      "text/plain": [
       "         item_number brand_name sanitary_type    item_option  \\\n",
       "1760   A000000191350        마리솜           pad                  \n",
       "1762   A000000191350        마리솜           pad                  \n",
       "1765   A000000191350        마리솜           pad                  \n",
       "1771   A000000191350        마리솜           pad                  \n",
       "1772   A000000191350        마리솜           pad                  \n",
       "...              ...        ...           ...            ...   \n",
       "20017  A000000191348        마리솜           pad  헬로키티 롱라이너 20P   \n",
       "20018  A000000191348        마리솜           pad  헬로키티 롱라이너 20P   \n",
       "20019  A000000191348        마리솜           pad   쿠로미 오버나이트 8P   \n",
       "20020  A000000191348        마리솜           pad  헬로키티 롱라이너 20P   \n",
       "20025  A000000191348        마리솜           pad  헬로키티 롱라이너 20P   \n",
       "\n",
       "                                          review_content  absorption_encoded  \\\n",
       "1760   너무 귀여워서 살수 밖에 없었어요 사실 쿠로미 가지고싶었는데 마멜 당첨 됬지만 너무...                 NaN   \n",
       "1762   종류별로 다양하게 담겨있어서 좋아요  오버나이트가 급히 필요해서 뜯어 써봤는데 진짜...                 NaN   \n",
       "1765   아직 사용 전이에요 그래도 리뷰 남겨요 패키징 귀여워요 마이멜로디 기대했는데에 시나모롤툭                 NaN   \n",
       "1771   박스상태  그냥 상자에 넣어서 보내버려서 택배오는동안 망가졌네요 뽁뽁이 해야할거같아...                 NaN   \n",
       "1772                   파우치능 블랙 쿠루미가 옴양도 많구 잘 구매했어여 넘귀욤귀용                 NaN   \n",
       "...                                                  ...                 ...   \n",
       "20017                     라이너는 자주 사용해서 항상 넉넉하게 구비해놓고 있어요                 NaN   \n",
       "20018  헬로키티NN년차 덕후로써 안살수가 없었어요 너무 기여워요 추천합니다 이렇게 키티 생...                 NaN   \n",
       "20019       잘 때는 오버나이트 자주 사용하고 있어요 순면이라 더 안심하고 사용할 수 있네요                 NaN   \n",
       "20020              길이 적당하고 촉감 부드러워서 잘 사용할 것 같네요 키티도 귀여워요                 NaN   \n",
       "20025                   신제품이고 산리오 제품이라서 구매해보았는데 제품도 좋습니다                 NaN   \n",
       "\n",
       "       stimulation_encoded  texture_encoded  \\\n",
       "1760                   NaN              NaN   \n",
       "1762                   NaN              NaN   \n",
       "1765                   NaN              NaN   \n",
       "1771                   NaN              NaN   \n",
       "1772                   NaN              NaN   \n",
       "...                    ...              ...   \n",
       "20017                  NaN              NaN   \n",
       "20018                  NaN              NaN   \n",
       "20019                  NaN              NaN   \n",
       "20020                  NaN              NaN   \n",
       "20025                  NaN              NaN   \n",
       "\n",
       "                                                   nouns  \n",
       "1760   ['너무', '귀엽', '살수', '밖', '없', '사실', '쿠로미', '마멜'...  \n",
       "1762   ['종류', '다양', '좋', '오버나이트', '급히', '필요', '진짜', '...  \n",
       "1765   ['아직', '사용', '전', '리뷰', '패', '징', '귀엽', '마이멜로디...  \n",
       "1771   ['박스', '상태', '그냥', '상자', '택배', '동안', '뽁뽁이', '같...  \n",
       "1772   ['파우치', '능', '블랙', '쿠루', '미', '옴', '양도', '많', ...  \n",
       "...                                                  ...  \n",
       "20017              ['라이너', '자주', '사용', '항상', '넉넉', '구비']  \n",
       "20018  ['헬로키티', 'NN', '덕후', '살수', '없', '너무', '추천', '이...  \n",
       "20019  ['잘', '때', '오버나이트', '자주', '사용', '순면', '더', '안심...  \n",
       "20020  ['길', '적당', '촉감', '부드럽', '잘', '사용', '같', '키티',...  \n",
       "20025              ['신제품', '산리오', '제품', '구매', '제품', '좋']  \n",
       "\n",
       "[157 rows x 9 columns]"
      ]
     },
     "execution_count": 10,
     "metadata": {},
     "output_type": "execute_result"
    }
   ],
   "source": [
    "df[(df[\"sanitary_type\"]!=\"cup\") & (df[\"absorption_encoded\"].isnull()) & (df[\"stimulation_encoded\"].isnull()) & (df[\"texture_encoded\"].isnull())]\n",
    "\n",
    "# 컵 타입: 958개\n",
    "# 나머지: 157개"
   ]
  },
  {
   "cell_type": "code",
   "execution_count": 83,
   "id": "7b9fea73-5208-4ce6-825e-534aeb4c4179",
   "metadata": {
    "collapsed": true,
    "jupyter": {
     "outputs_hidden": true
    },
    "tags": []
   },
   "outputs": [
    {
     "data": {
      "text/html": [
       "<div>\n",
       "<style scoped>\n",
       "    .dataframe tbody tr th:only-of-type {\n",
       "        vertical-align: middle;\n",
       "    }\n",
       "\n",
       "    .dataframe tbody tr th {\n",
       "        vertical-align: top;\n",
       "    }\n",
       "\n",
       "    .dataframe thead th {\n",
       "        text-align: right;\n",
       "    }\n",
       "</style>\n",
       "<table border=\"1\" class=\"dataframe\">\n",
       "  <thead>\n",
       "    <tr style=\"text-align: right;\">\n",
       "      <th></th>\n",
       "      <th>item_number</th>\n",
       "      <th>brand_name</th>\n",
       "      <th>sanitary_type</th>\n",
       "      <th>item_option</th>\n",
       "      <th>review_content</th>\n",
       "      <th>absorption_encoded</th>\n",
       "      <th>stimulation_encoded</th>\n",
       "      <th>texture_encoded</th>\n",
       "      <th>nouns</th>\n",
       "    </tr>\n",
       "  </thead>\n",
       "  <tbody>\n",
       "    <tr>\n",
       "      <th>107</th>\n",
       "      <td>A000000192900</td>\n",
       "      <td>좋은느낌</td>\n",
       "      <td>pad</td>\n",
       "      <td>입오버 중형 4P 1+1 기획</td>\n",
       "      <td>사용 후기 일단 아쉬웠던 점은 하루특가로 홍보하는 메인 사진에는 박스에 들어 있는것...</td>\n",
       "      <td>1.0</td>\n",
       "      <td>3.0</td>\n",
       "      <td>3.0</td>\n",
       "      <td>['사용', '후기', '일단', '아쉽', '하루', '특가', '홍보', '메인...</td>\n",
       "    </tr>\n",
       "    <tr>\n",
       "      <th>163</th>\n",
       "      <td>A000000191605</td>\n",
       "      <td>좋은느낌</td>\n",
       "      <td>pad</td>\n",
       "      <td>좋은느낌 입오버 중형 3+1P</td>\n",
       "      <td>다른 브랜드에 비해 저렴해서 구매해봤는데 비추천합니다 일단 너무 간지럽고 따가워요 ...</td>\n",
       "      <td>3.0</td>\n",
       "      <td>1.0</td>\n",
       "      <td>1.0</td>\n",
       "      <td>['브랜드', '저렴', '구매', '추천', '일단', '너무', '간지럽', '...</td>\n",
       "    </tr>\n",
       "    <tr>\n",
       "      <th>174</th>\n",
       "      <td>A000000192900</td>\n",
       "      <td>좋은느낌</td>\n",
       "      <td>pad</td>\n",
       "      <td>입오버 중형 4P 1+1 기획</td>\n",
       "      <td>좋아요 흡수력이 좋아요 그래서 재구매 했는데 행사라 가성비 갑</td>\n",
       "      <td>2.0</td>\n",
       "      <td>1.0</td>\n",
       "      <td>2.0</td>\n",
       "      <td>['좋', '흡수력', '좋', '재구매', '행사', '가성비', '갑']</td>\n",
       "    </tr>\n",
       "    <tr>\n",
       "      <th>213</th>\n",
       "      <td>A000000191605</td>\n",
       "      <td>좋은느낌</td>\n",
       "      <td>pad</td>\n",
       "      <td>좋은느낌 입오버 대형 3+1P</td>\n",
       "      <td>허리 가랑이그 어느 부위도 안정적으로 고정이 안 됨 좀만 움직여도 생리대가 이리저리...</td>\n",
       "      <td>2.0</td>\n",
       "      <td>1.0</td>\n",
       "      <td>2.0</td>\n",
       "      <td>['허리', '가랑이', '부위', '안정', '고정', '안', '좀', '생리대...</td>\n",
       "    </tr>\n",
       "    <tr>\n",
       "      <th>261</th>\n",
       "      <td>A000000192900</td>\n",
       "      <td>좋은느낌</td>\n",
       "      <td>pad</td>\n",
       "      <td>입오버 대형 4P 1+1 기획</td>\n",
       "      <td>세 번째 구매인데요타사이크에서도 구매함 이거 없었을 시절엔 어케 살았나싶어요 짱편해요</td>\n",
       "      <td>1.0</td>\n",
       "      <td>1.0</td>\n",
       "      <td>1.0</td>\n",
       "      <td>['구매', '요타', '사이크', '구매', '없', '시절', '어', '짱',...</td>\n",
       "    </tr>\n",
       "    <tr>\n",
       "      <th>...</th>\n",
       "      <td>...</td>\n",
       "      <td>...</td>\n",
       "      <td>...</td>\n",
       "      <td>...</td>\n",
       "      <td>...</td>\n",
       "      <td>...</td>\n",
       "      <td>...</td>\n",
       "      <td>...</td>\n",
       "      <td>...</td>\n",
       "    </tr>\n",
       "    <tr>\n",
       "      <th>21751</th>\n",
       "      <td>A000000006723</td>\n",
       "      <td>유기농본</td>\n",
       "      <td>pad</td>\n",
       "      <td></td>\n",
       "      <td>저는 엄청 예민하고 접촉성 피부염에 과민반응 환자입니다 저와 비슷한 분들의 리뷰를 ...</td>\n",
       "      <td>1.0</td>\n",
       "      <td>1.0</td>\n",
       "      <td>3.0</td>\n",
       "      <td>['엄청', '예민', '접촉', '피부염', '과민반응', '환자', '비슷', ...</td>\n",
       "    </tr>\n",
       "    <tr>\n",
       "      <th>21770</th>\n",
       "      <td>A000000006723</td>\n",
       "      <td>유기농본</td>\n",
       "      <td>pad</td>\n",
       "      <td></td>\n",
       "      <td>엄청 얇은편이고 다른 두꺼운 생리대들 보다는 확실이 흡수량이 적긴해요 옆에 샘방지라...</td>\n",
       "      <td>1.0</td>\n",
       "      <td>3.0</td>\n",
       "      <td>3.0</td>\n",
       "      <td>['엄청', '얇', '두껍', '생리대', '확실이', '흡수', '적기', '옆...</td>\n",
       "    </tr>\n",
       "    <tr>\n",
       "      <th>21833</th>\n",
       "      <td>A000000006723</td>\n",
       "      <td>유기농본</td>\n",
       "      <td>pad</td>\n",
       "      <td></td>\n",
       "      <td>쟁여놓은 사진보면 아시겠죠 몇 년째 이 제품만 계속해서 사용하고 있긴한데 진짜 솔직...</td>\n",
       "      <td>1.0</td>\n",
       "      <td>3.0</td>\n",
       "      <td>2.0</td>\n",
       "      <td>['쟁여', '사', '진보면', '제품', '계속', '사용', '진짜', '솔직...</td>\n",
       "    </tr>\n",
       "    <tr>\n",
       "      <th>21842</th>\n",
       "      <td>A000000006723</td>\n",
       "      <td>유기농본</td>\n",
       "      <td>pad</td>\n",
       "      <td></td>\n",
       "      <td>오버나이트치고 흡수가 잘 안되는 느낌을 받았습니다   생리대 뒷부분이 타제품보다 넓...</td>\n",
       "      <td>1.0</td>\n",
       "      <td>3.0</td>\n",
       "      <td>3.0</td>\n",
       "      <td>['오버나이트', '흡수', '잘', '안', '느낌', '생리대', '뒷부분', ...</td>\n",
       "    </tr>\n",
       "    <tr>\n",
       "      <th>21862</th>\n",
       "      <td>A000000006723</td>\n",
       "      <td>유기농본</td>\n",
       "      <td>pad</td>\n",
       "      <td></td>\n",
       "      <td>소형 중형 대형 팬티라이너로 쓰던 제품인데 오버나이트는 처음 써봤어요 급해서 길이도...</td>\n",
       "      <td>1.0</td>\n",
       "      <td>3.0</td>\n",
       "      <td>3.0</td>\n",
       "      <td>['소형', '중형', '대형', '팬티라이너', '제품', '오버나이트', '처음...</td>\n",
       "    </tr>\n",
       "  </tbody>\n",
       "</table>\n",
       "<p>426 rows × 9 columns</p>\n",
       "</div>"
      ],
      "text/plain": [
       "         item_number brand_name sanitary_type       item_option  \\\n",
       "107    A000000192900       좋은느낌           pad  입오버 중형 4P 1+1 기획   \n",
       "163    A000000191605       좋은느낌           pad  좋은느낌 입오버 중형 3+1P   \n",
       "174    A000000192900       좋은느낌           pad  입오버 중형 4P 1+1 기획   \n",
       "213    A000000191605       좋은느낌           pad  좋은느낌 입오버 대형 3+1P   \n",
       "261    A000000192900       좋은느낌           pad  입오버 대형 4P 1+1 기획   \n",
       "...              ...        ...           ...               ...   \n",
       "21751  A000000006723       유기농본           pad                     \n",
       "21770  A000000006723       유기농본           pad                     \n",
       "21833  A000000006723       유기농본           pad                     \n",
       "21842  A000000006723       유기농본           pad                     \n",
       "21862  A000000006723       유기농본           pad                     \n",
       "\n",
       "                                          review_content  absorption_encoded  \\\n",
       "107    사용 후기 일단 아쉬웠던 점은 하루특가로 홍보하는 메인 사진에는 박스에 들어 있는것...                 1.0   \n",
       "163    다른 브랜드에 비해 저렴해서 구매해봤는데 비추천합니다 일단 너무 간지럽고 따가워요 ...                 3.0   \n",
       "174                   좋아요 흡수력이 좋아요 그래서 재구매 했는데 행사라 가성비 갑                 2.0   \n",
       "213    허리 가랑이그 어느 부위도 안정적으로 고정이 안 됨 좀만 움직여도 생리대가 이리저리...                 2.0   \n",
       "261      세 번째 구매인데요타사이크에서도 구매함 이거 없었을 시절엔 어케 살았나싶어요 짱편해요                 1.0   \n",
       "...                                                  ...                 ...   \n",
       "21751  저는 엄청 예민하고 접촉성 피부염에 과민반응 환자입니다 저와 비슷한 분들의 리뷰를 ...                 1.0   \n",
       "21770  엄청 얇은편이고 다른 두꺼운 생리대들 보다는 확실이 흡수량이 적긴해요 옆에 샘방지라...                 1.0   \n",
       "21833  쟁여놓은 사진보면 아시겠죠 몇 년째 이 제품만 계속해서 사용하고 있긴한데 진짜 솔직...                 1.0   \n",
       "21842  오버나이트치고 흡수가 잘 안되는 느낌을 받았습니다   생리대 뒷부분이 타제품보다 넓...                 1.0   \n",
       "21862  소형 중형 대형 팬티라이너로 쓰던 제품인데 오버나이트는 처음 써봤어요 급해서 길이도...                 1.0   \n",
       "\n",
       "       stimulation_encoded  texture_encoded  \\\n",
       "107                    3.0              3.0   \n",
       "163                    1.0              1.0   \n",
       "174                    1.0              2.0   \n",
       "213                    1.0              2.0   \n",
       "261                    1.0              1.0   \n",
       "...                    ...              ...   \n",
       "21751                  1.0              3.0   \n",
       "21770                  3.0              3.0   \n",
       "21833                  3.0              2.0   \n",
       "21842                  3.0              3.0   \n",
       "21862                  3.0              3.0   \n",
       "\n",
       "                                                   nouns  \n",
       "107    ['사용', '후기', '일단', '아쉽', '하루', '특가', '홍보', '메인...  \n",
       "163    ['브랜드', '저렴', '구매', '추천', '일단', '너무', '간지럽', '...  \n",
       "174           ['좋', '흡수력', '좋', '재구매', '행사', '가성비', '갑']  \n",
       "213    ['허리', '가랑이', '부위', '안정', '고정', '안', '좀', '생리대...  \n",
       "261    ['구매', '요타', '사이크', '구매', '없', '시절', '어', '짱',...  \n",
       "...                                                  ...  \n",
       "21751  ['엄청', '예민', '접촉', '피부염', '과민반응', '환자', '비슷', ...  \n",
       "21770  ['엄청', '얇', '두껍', '생리대', '확실이', '흡수', '적기', '옆...  \n",
       "21833  ['쟁여', '사', '진보면', '제품', '계속', '사용', '진짜', '솔직...  \n",
       "21842  ['오버나이트', '흡수', '잘', '안', '느낌', '생리대', '뒷부분', ...  \n",
       "21862  ['소형', '중형', '대형', '팬티라이너', '제품', '오버나이트', '처음...  \n",
       "\n",
       "[426 rows x 9 columns]"
      ]
     },
     "execution_count": 83,
     "metadata": {},
     "output_type": "execute_result"
    }
   ],
   "source": [
    "df[(df[\"absorption_encoded\"]==1) | (df[\"stimulation_encoded\"]==1) | (df[\"texture_encoded\"]==1)]\n",
    "\n",
    "# 하나라도 1점인 것: 426개"
   ]
  },
  {
   "cell_type": "code",
   "execution_count": 28,
   "id": "ab4abcca-827e-4761-ab01-0180cb6a4c97",
   "metadata": {
    "tags": []
   },
   "outputs": [],
   "source": [
    "from matplotlib import pyplot as plt\n",
    "import seaborn as sns"
   ]
  },
  {
   "cell_type": "code",
   "execution_count": 111,
   "id": "4770edcc-aebb-4d44-b55e-00ea7b8fedb4",
   "metadata": {
    "tags": []
   },
   "outputs": [
    {
     "data": {
      "text/plain": [
       "sanitary_type\n",
       "cup           0.0\n",
       "pad       37203.0\n",
       "tampon    18696.0\n",
       "Name: absorption_encoded, dtype: float64"
      ]
     },
     "execution_count": 111,
     "metadata": {},
     "output_type": "execute_result"
    }
   ],
   "source": [
    "df.groupby(\"sanitary_type\")[\"absorption_encoded\"].sum()"
   ]
  },
  {
   "cell_type": "code",
   "execution_count": 114,
   "id": "bca7d08d-dd54-4f84-8369-b6201be858e8",
   "metadata": {
    "tags": []
   },
   "outputs": [
    {
     "data": {
      "text/plain": [
       "7104"
      ]
     },
     "execution_count": 114,
     "metadata": {},
     "output_type": "execute_result"
    }
   ],
   "source": [
    "len(df[df[\"sanitary_type\"]==\"tampon\"])"
   ]
  },
  {
   "cell_type": "code",
   "execution_count": 127,
   "id": "6b66abfe-184d-4b06-81e8-4686f9d3e883",
   "metadata": {
    "tags": []
   },
   "outputs": [
    {
     "name": "stdout",
     "output_type": "stream",
     "text": [
      "  sanitary_type  absorption_encoded  absorp_count\n",
      "0           pad                 3.0      0.698995\n",
      "1           pad                 2.0      0.283561\n",
      "2           pad                 1.0      0.006604\n",
      "3        tampon                 3.0      0.652872\n",
      "4        tampon                 2.0      0.327140\n",
      "5        tampon                 1.0      0.018863\n"
     ]
    }
   ],
   "source": [
    "import pandas as pd\n",
    "\n",
    "# 데이터 생성\n",
    "data = {\n",
    "    'sanitary_type': ['pad', 'pad', 'pad', 'tampon', 'tampon', 'tampon'],\n",
    "    'absorption_encoded': [3.0, 2.0, 1.0, 3.0, 2.0, 1.0],\n",
    "    'absorp_count': [9737 / 13930, 3950 / 13930, 92 / 13930, 4638 / 7104, 2324 / 7104, 134 / 7104]\n",
    "}\n",
    "\n",
    "ratio = pd.DataFrame(data)\n",
    "\n",
    "# 데이터프레임 출력\n",
    "print(ratio)\n"
   ]
  },
  {
   "cell_type": "code",
   "execution_count": 128,
   "id": "bc3ee723-c8d9-4535-82a7-28882a127095",
   "metadata": {
    "tags": []
   },
   "outputs": [
    {
     "data": {
      "text/html": [
       "<div>\n",
       "<style scoped>\n",
       "    .dataframe tbody tr th:only-of-type {\n",
       "        vertical-align: middle;\n",
       "    }\n",
       "\n",
       "    .dataframe tbody tr th {\n",
       "        vertical-align: top;\n",
       "    }\n",
       "\n",
       "    .dataframe thead th {\n",
       "        text-align: right;\n",
       "    }\n",
       "</style>\n",
       "<table border=\"1\" class=\"dataframe\">\n",
       "  <thead>\n",
       "    <tr style=\"text-align: right;\">\n",
       "      <th></th>\n",
       "      <th>sanitary_type</th>\n",
       "      <th>absorption_encoded</th>\n",
       "      <th>absorp_count</th>\n",
       "    </tr>\n",
       "  </thead>\n",
       "  <tbody>\n",
       "    <tr>\n",
       "      <th>0</th>\n",
       "      <td>pad</td>\n",
       "      <td>3.0</td>\n",
       "      <td>0.698995</td>\n",
       "    </tr>\n",
       "    <tr>\n",
       "      <th>1</th>\n",
       "      <td>pad</td>\n",
       "      <td>2.0</td>\n",
       "      <td>0.283561</td>\n",
       "    </tr>\n",
       "    <tr>\n",
       "      <th>2</th>\n",
       "      <td>pad</td>\n",
       "      <td>1.0</td>\n",
       "      <td>0.006604</td>\n",
       "    </tr>\n",
       "    <tr>\n",
       "      <th>3</th>\n",
       "      <td>tampon</td>\n",
       "      <td>3.0</td>\n",
       "      <td>0.652872</td>\n",
       "    </tr>\n",
       "    <tr>\n",
       "      <th>4</th>\n",
       "      <td>tampon</td>\n",
       "      <td>2.0</td>\n",
       "      <td>0.327140</td>\n",
       "    </tr>\n",
       "    <tr>\n",
       "      <th>5</th>\n",
       "      <td>tampon</td>\n",
       "      <td>1.0</td>\n",
       "      <td>0.018863</td>\n",
       "    </tr>\n",
       "  </tbody>\n",
       "</table>\n",
       "</div>"
      ],
      "text/plain": [
       "  sanitary_type  absorption_encoded  absorp_count\n",
       "0           pad                 3.0      0.698995\n",
       "1           pad                 2.0      0.283561\n",
       "2           pad                 1.0      0.006604\n",
       "3        tampon                 3.0      0.652872\n",
       "4        tampon                 2.0      0.327140\n",
       "5        tampon                 1.0      0.018863"
      ]
     },
     "execution_count": 128,
     "metadata": {},
     "output_type": "execute_result"
    }
   ],
   "source": [
    "ratio"
   ]
  },
  {
   "cell_type": "code",
   "execution_count": 136,
   "id": "42d048f7-0f3c-4075-b41e-b53738aa125e",
   "metadata": {
    "tags": []
   },
   "outputs": [
    {
     "data": {
      "text/plain": [
       "sanitary_type\n",
       "cup         722\n",
       "pad       13094\n",
       "tampon     5777\n",
       "Name: review_content, dtype: int64"
      ]
     },
     "execution_count": 136,
     "metadata": {},
     "output_type": "execute_result"
    }
   ],
   "source": [
    "df.groupby(\"sanitary_type\")[\"review_content\"].nunique()"
   ]
  },
  {
   "cell_type": "code",
   "execution_count": 137,
   "id": "ea810716-4477-4336-a51b-146c82dbe454",
   "metadata": {
    "tags": []
   },
   "outputs": [],
   "source": [
    "# pie chart\n",
    "slang_usage = [\"cup\", \"pad\", \"tampon\"]\n",
    "values = [722, 13094, 5777]"
   ]
  },
  {
   "cell_type": "code",
   "execution_count": 141,
   "id": "1468bb38-61ab-4f0b-8071-cb463dce94b3",
   "metadata": {
    "tags": []
   },
   "outputs": [
    {
     "data": {
      "text/plain": [
       "([<matplotlib.patches.Wedge at 0x17c779a10>,\n",
       "  <matplotlib.patches.Wedge at 0x17c77b7d0>,\n",
       "  <matplotlib.patches.Wedge at 0x17c778b10>],\n",
       " [Text(-0.12705983521178893, 1.0926370844319504, 'cup'),\n",
       "  Text(-0.8695845338645942, -0.826935752319064, 'pad'),\n",
       "  Text(0.879342176338847, 0.660876188791562, 'tampon')])"
      ]
     },
     "execution_count": 141,
     "metadata": {},
     "output_type": "execute_result"
    },
    {
     "data": {
      "image/png": "[encoded data removed]",
      "text/plain": [
       "<Figure size 640x480 with 1 Axes>"
      ]
     },
     "metadata": {},
     "output_type": "display_data"
    }
   ],
   "source": [
    "exp = [0, 0.1, 0]\n",
    "plt.pie(values, labels=slang_usage, explode=exp, startangle=90)"
   ]
  },
  {
   "cell_type": "code",
   "execution_count": 147,
   "id": "25828dba-11a9-4d99-8df4-78f6d9de4ac4",
   "metadata": {
    "tags": []
   },
   "outputs": [
    {
     "name": "stdout",
     "output_type": "stream",
     "text": [
      "['루나' '티읕' '한나' '라엘' '해피문데이']\n"
     ]
    }
   ],
   "source": [
    "print(df[df[\"sanitary_type\"]==\"cup\"][\"brand_name\"].unique())"
   ]
  },
  {
   "cell_type": "code",
   "execution_count": 152,
   "id": "c02de921-7bcc-488a-88d4-2f25b129f58e",
   "metadata": {
    "tags": []
   },
   "outputs": [
    {
     "data": {
      "text/plain": [
       "brand_name\n",
       "라엘        21\n",
       "루나       335\n",
       "티읕       347\n",
       "한나         8\n",
       "해피문데이     12\n",
       "Name: review_content, dtype: int64"
      ]
     },
     "execution_count": 152,
     "metadata": {},
     "output_type": "execute_result"
    }
   ],
   "source": [
    "df[df[\"sanitary_type\"]==\"cup\"].groupby(\"brand_name\")[\"review_content\"].nunique()"
   ]
  },
  {
   "cell_type": "code",
   "execution_count": null,
   "id": "58b4b425-0bfc-4f76-91ae-b6afba0b1fa2",
   "metadata": {},
   "outputs": [],
   "source": [
    "# 데이터프레임 생성\n",
    "data = {\n",
    "    'brand_name': ['라네이처', '라엘', '마리솜', '쏘피', '아임오', '예지미인', '유기농본', '이너시아', '좋은느낌'],\n",
    "    'count': [485, 1100, 149, 1932, 86, 673, 1901, 950, 5854]\n",
    "}\n",
    "\n",
    "pad = pd.DataFrame(data)"
   ]
  },
  {
   "cell_type": "code",
   "execution_count": 151,
   "id": "4f5fca2d-66d3-4958-a400-c4599b79f4cd",
   "metadata": {
    "tags": []
   },
   "outputs": [],
   "source": [
    "data = {\n",
    "    'brand_name': ['나트라케어', '라엘', '순수한면', '좋은느낌', '템포', '해피문데이', '화이트'],\n",
    "    'count': [334, 166, 957, 111, 2575, 1073, 599]\n",
    "}\n",
    "\n",
    "tampon = pd.DataFrame(data)"
   ]
  },
  {
   "cell_type": "code",
   "execution_count": 153,
   "id": "231f4f1b-6044-4b7b-a148-1184de3003d0",
   "metadata": {
    "tags": []
   },
   "outputs": [],
   "source": [
    "data = {\n",
    "    'brand_name': ['라엘', '루나컵', '티읕', '한나', '해피문데이'],\n",
    "    'count': [21, 335, 347, 8, 12]\n",
    "}\n",
    "\n",
    "cup = pd.DataFrame(data)"
   ]
  },
  {
   "cell_type": "code",
   "execution_count": null,
   "id": "e1692dde-f4f7-40d3-be9c-617f4fa9afb2",
   "metadata": {},
   "outputs": [],
   "source": [
    "# 생리컵 -> \"재구매\" 키워드\n",
    "plt.figure(figsize=(10,5))\n",
    "plt.rc(\"font\", family=\"AppleGothic\")\n",
    "\n",
    "plt.subplot(1, 2, 1)\n",
    "plt.bar(grouped_sum_cup.index, grouped_sum_cup.values, color='blue')\n",
    "plt.xticks(rotation=90)\n",
    "plt.title('Repurchase Sum')\n",
    "\n",
    "plt.subplot(1, 2, 2)\n",
    "plt.bar(grouped_ratio_cup.index, grouped_ratio_cup.values, color='blue')\n",
    "plt.xticks(rotation=90)\n",
    "plt.title('Repurchase Ratio')"
   ]
  },
  {
   "cell_type": "code",
   "execution_count": 165,
   "id": "3b53fa45-5fbd-49a6-806d-7a6e8e2a2c4a",
   "metadata": {
    "tags": []
   },
   "outputs": [
    {
     "data": {
      "text/plain": [
       "Text(0.5, 1.0, '컵형 리뷰 수')"
      ]
     },
     "execution_count": 165,
     "metadata": {},
     "output_type": "execute_result"
    },
    {
     "data": {
      "image/png": "[encoded data removed]",
      "text/plain": [
       "<Figure size 1500x500 with 3 Axes>"
      ]
     },
     "metadata": {},
     "output_type": "display_data"
    }
   ],
   "source": [
    "import matplotlib.pyplot as plt\n",
    "import pandas as pd\n",
    "\n",
    "plt.figure(figsize=(15,5))\n",
    "plt.rc(\"font\", family=\"AppleGothic\")\n",
    "\n",
    "plt.subplot(1,3,1)\n",
    "plt.bar(pad['brand_name'], pad['count'], color='skyblue')\n",
    "plt.xticks(rotation=90)\n",
    "plt.xlabel('brand_name')\n",
    "plt.ylabel('Count')\n",
    "plt.title('패드형 리뷰 수')\n",
    "\n",
    "plt.subplot(1,3,2)\n",
    "plt.bar(tampon['brand_name'], tampon['count'], color='skyblue')\n",
    "plt.xticks(rotation=90)\n",
    "plt.xlabel('brand_name')\n",
    "plt.ylabel('Count')\n",
    "plt.title('탐폰형 리뷰 수')\n",
    "\n",
    "plt.subplot(1,3,3)\n",
    "plt.bar(cup['brand_name'], cup['count'], color='skyblue')\n",
    "plt.xticks(rotation=90)\n",
    "plt.xlabel('brand_name')\n",
    "plt.ylabel('Count')\n",
    "plt.title('컵형 리뷰 수')\n"
   ]
  },
  {
   "cell_type": "code",
   "execution_count": null,
   "id": "4d2f557e-d53e-402a-89d9-1cccab9d9361",
   "metadata": {},
   "outputs": [],
   "source": []
  },
  {
   "cell_type": "code",
   "execution_count": null,
   "id": "c7a6f360-e40f-4ea9-b6c0-7dace22e8d05",
   "metadata": {},
   "outputs": [],
   "source": []
  },
  {
   "cell_type": "code",
   "execution_count": 129,
   "id": "070d73d4-6617-4b85-a5ec-6d1b0d64a16a",
   "metadata": {
    "tags": []
   },
   "outputs": [
    {
     "data": {
      "image/png": "[encoded data removed]",
      "text/plain": [
       "<Figure size 640x480 with 1 Axes>"
      ]
     },
     "metadata": {},
     "output_type": "display_data"
    }
   ],
   "source": [
    "sns.barplot(x=\"sanitary_type\", y=\"absorp_count\", hue=\"absorption_encoded\", data=ratio)\n",
    "plt.title(\"Count by Sanitary Type and Absorption\")\n",
    "plt.xlabel(\"Sanitary Type\")\n",
    "plt.ylabel(\"Count\")\n",
    "plt.legend(title=\"Absorption\")\n",
    "plt.show()\n"
   ]
  },
  {
   "cell_type": "code",
   "execution_count": 166,
   "id": "94c25881-a0fa-4630-8b56-7a064be70961",
   "metadata": {
    "tags": []
   },
   "outputs": [
    {
     "data": {
      "text/plain": [
       "sanitary_type  absorption_encoded\n",
       "pad            3.0                   9737\n",
       "               2.0                   3950\n",
       "               1.0                     92\n",
       "tampon         3.0                   4638\n",
       "               2.0                   2324\n",
       "               1.0                    134\n",
       "Name: count, dtype: int64"
      ]
     },
     "execution_count": 166,
     "metadata": {},
     "output_type": "execute_result"
    }
   ],
   "source": [
    "df.groupby(\"sanitary_type\")[\"absorption_encoded\"].value_counts()"
   ]
  },
  {
   "cell_type": "code",
   "execution_count": 101,
   "id": "7cc42aec-ac50-49c3-a42e-25f653d909fc",
   "metadata": {
    "tags": []
   },
   "outputs": [
    {
     "data": {
      "text/plain": [
       "Text(0.5, 0, 'Texture')"
      ]
     },
     "execution_count": 101,
     "metadata": {},
     "output_type": "execute_result"
    },
    {
     "data": {
      "image/png": "[encoded data removed]",
      "text/plain": [
       "<Figure size 1500x500 with 3 Axes>"
      ]
     },
     "metadata": {},
     "output_type": "display_data"
    }
   ],
   "source": [
    "fig, axes = plt.subplots(nrows=1, ncols=3, figsize=(15, 5))\n",
    "\n",
    "df.groupby(\"sanitary_type\")[\"absorption_encoded\"].value_counts().unstack().plot(kind=\"bar\", stacked=False, ax=axes[0])\n",
    "axes[0].set_title(\"Sanitary Type - Absorption\")\n",
    "axes[0].set_xlabel(\"Absorption\")\n",
    "axes[0].set_ylabel(\"Count\")\n",
    "\n",
    "df.groupby(\"sanitary_type\")[\"stimulation_encoded\"].value_counts().unstack().plot(kind=\"bar\", stacked=False, ax=axes[1])\n",
    "axes[1].set_title(\"Sanitary Type - Stimulation\")\n",
    "axes[1].set_xlabel(\"Stimulation\")\n",
    "# axes[1].set_ylabel(\"Count\")\n",
    "\n",
    "df.groupby(\"sanitary_type\")[\"texture_encoded\"].value_counts().unstack().plot(kind=\"bar\", stacked=False, ax=axes[2])\n",
    "axes[2].set_title(\"Sanitary Type - Texture\")\n",
    "axes[2].set_xlabel(\"Texture\")\n",
    "# axes[2].set_ylabel(\"Count\")"
   ]
  },
  {
   "cell_type": "code",
   "execution_count": 181,
   "id": "8b03fd71-d80c-4728-8ae5-0dde62bc5a6d",
   "metadata": {
    "tags": []
   },
   "outputs": [
    {
     "data": {
      "text/plain": [
       "sanitary_type\n",
       "cup            NaN\n",
       "pad       2.699978\n",
       "tampon    2.634724\n",
       "Name: absorption_encoded, dtype: float64"
      ]
     },
     "execution_count": 181,
     "metadata": {},
     "output_type": "execute_result"
    }
   ],
   "source": [
    "df.groupby(\"sanitary_type\")[\"absorption_encoded\"].mean()"
   ]
  },
  {
   "cell_type": "code",
   "execution_count": 176,
   "id": "50a0b8c9-6699-4aa5-8f22-da5d6913e066",
   "metadata": {
    "tags": []
   },
   "outputs": [
    {
     "data": {
      "text/plain": [
       "Text(0.5, 0, 'Texture')"
      ]
     },
     "execution_count": 176,
     "metadata": {},
     "output_type": "execute_result"
    },
    {
     "data": {
      "image/png": "[encoded data removed]",
      "text/plain": [
       "<Figure size 1500x500 with 3 Axes>"
      ]
     },
     "metadata": {},
     "output_type": "display_data"
    }
   ],
   "source": [
    "fig, axes = plt.subplots(nrows=1, ncols=3, figsize=(15, 5))\n",
    "\n",
    "df.groupby(\"sanitary_type\")[\"absorption_encoded\"].mean().plot(kind=\"bar\", stacked=False, ax=axes[0])\n",
    "axes[0].set_title(\"Sanitary Type - Absorption\")\n",
    "axes[0].set_xlabel(\"Absorption\")\n",
    "axes[0].set_ylabel(\"Count\")\n",
    "\n",
    "df.groupby(\"sanitary_type\")[\"stimulation_encoded\"].mean().plot(kind=\"bar\", stacked=False, ax=axes[1])\n",
    "axes[1].set_title(\"Sanitary Type - Stimulation\")\n",
    "axes[1].set_xlabel(\"Stimulation\")\n",
    "# axes[1].set_ylabel(\"Count\")\n",
    "\n",
    "df.groupby(\"sanitary_type\")[\"texture_encoded\"].mean().plot(kind=\"bar\", stacked=False, ax=axes[2])\n",
    "axes[2].set_title(\"Sanitary Type - Texture\")\n",
    "axes[2].set_xlabel(\"Texture\")\n",
    "# axes[2].set_ylabel(\"Count\")"
   ]
  },
  {
   "cell_type": "code",
   "execution_count": 147,
   "id": "ad9bff48-18f9-4f9f-bc90-e98a9e58edc4",
   "metadata": {
    "tags": []
   },
   "outputs": [
    {
     "data": {
      "text/html": [
       "<div>\n",
       "<style scoped>\n",
       "    .dataframe tbody tr th:only-of-type {\n",
       "        vertical-align: middle;\n",
       "    }\n",
       "\n",
       "    .dataframe tbody tr th {\n",
       "        vertical-align: top;\n",
       "    }\n",
       "\n",
       "    .dataframe thead th {\n",
       "        text-align: right;\n",
       "    }\n",
       "</style>\n",
       "<table border=\"1\" class=\"dataframe\">\n",
       "  <thead>\n",
       "    <tr style=\"text-align: right;\">\n",
       "      <th></th>\n",
       "      <th>absorption_encoded</th>\n",
       "      <th>stimulation_encoded</th>\n",
       "      <th>texture_encoded</th>\n",
       "    </tr>\n",
       "  </thead>\n",
       "  <tbody>\n",
       "    <tr>\n",
       "      <th>0</th>\n",
       "      <td>3.0</td>\n",
       "      <td>2.0</td>\n",
       "      <td>3.0</td>\n",
       "    </tr>\n",
       "    <tr>\n",
       "      <th>1</th>\n",
       "      <td>2.0</td>\n",
       "      <td>3.0</td>\n",
       "      <td>2.0</td>\n",
       "    </tr>\n",
       "    <tr>\n",
       "      <th>2</th>\n",
       "      <td>3.0</td>\n",
       "      <td>3.0</td>\n",
       "      <td>3.0</td>\n",
       "    </tr>\n",
       "    <tr>\n",
       "      <th>3</th>\n",
       "      <td>3.0</td>\n",
       "      <td>3.0</td>\n",
       "      <td>3.0</td>\n",
       "    </tr>\n",
       "    <tr>\n",
       "      <th>4</th>\n",
       "      <td>2.0</td>\n",
       "      <td>2.0</td>\n",
       "      <td>2.0</td>\n",
       "    </tr>\n",
       "    <tr>\n",
       "      <th>...</th>\n",
       "      <td>...</td>\n",
       "      <td>...</td>\n",
       "      <td>...</td>\n",
       "    </tr>\n",
       "    <tr>\n",
       "      <th>21987</th>\n",
       "      <td>3.0</td>\n",
       "      <td>3.0</td>\n",
       "      <td>3.0</td>\n",
       "    </tr>\n",
       "    <tr>\n",
       "      <th>21988</th>\n",
       "      <td>2.0</td>\n",
       "      <td>2.0</td>\n",
       "      <td>2.0</td>\n",
       "    </tr>\n",
       "    <tr>\n",
       "      <th>21989</th>\n",
       "      <td>3.0</td>\n",
       "      <td>3.0</td>\n",
       "      <td>3.0</td>\n",
       "    </tr>\n",
       "    <tr>\n",
       "      <th>21990</th>\n",
       "      <td>2.0</td>\n",
       "      <td>2.0</td>\n",
       "      <td>2.0</td>\n",
       "    </tr>\n",
       "    <tr>\n",
       "      <th>21991</th>\n",
       "      <td>3.0</td>\n",
       "      <td>3.0</td>\n",
       "      <td>3.0</td>\n",
       "    </tr>\n",
       "  </tbody>\n",
       "</table>\n",
       "<p>21992 rows × 3 columns</p>\n",
       "</div>"
      ],
      "text/plain": [
       "       absorption_encoded  stimulation_encoded  texture_encoded\n",
       "0                     3.0                  2.0              3.0\n",
       "1                     2.0                  3.0              2.0\n",
       "2                     3.0                  3.0              3.0\n",
       "3                     3.0                  3.0              3.0\n",
       "4                     2.0                  2.0              2.0\n",
       "...                   ...                  ...              ...\n",
       "21987                 3.0                  3.0              3.0\n",
       "21988                 2.0                  2.0              2.0\n",
       "21989                 3.0                  3.0              3.0\n",
       "21990                 2.0                  2.0              2.0\n",
       "21991                 3.0                  3.0              3.0\n",
       "\n",
       "[21992 rows x 3 columns]"
      ]
     },
     "execution_count": 147,
     "metadata": {},
     "output_type": "execute_result"
    }
   ],
   "source": [
    "df[[\"absorption_encoded\", \"stimulation_encoded\", \"texture_encoded\"]]"
   ]
  },
  {
   "cell_type": "code",
   "execution_count": 4,
   "id": "0c261466-bc45-4800-830f-a91a92ef9c32",
   "metadata": {
    "tags": []
   },
   "outputs": [],
   "source": [
    "df[\"avg\"] = df[[\"absorption_encoded\", \"stimulation_encoded\", \"texture_encoded\"]].mean(axis=1)"
   ]
  },
  {
   "cell_type": "code",
   "execution_count": 5,
   "id": "e2a047af-e070-4d75-8b87-1d43a492d149",
   "metadata": {
    "tags": []
   },
   "outputs": [
    {
     "data": {
      "text/html": [
       "<div>\n",
       "<style scoped>\n",
       "    .dataframe tbody tr th:only-of-type {\n",
       "        vertical-align: middle;\n",
       "    }\n",
       "\n",
       "    .dataframe tbody tr th {\n",
       "        vertical-align: top;\n",
       "    }\n",
       "\n",
       "    .dataframe thead th {\n",
       "        text-align: right;\n",
       "    }\n",
       "</style>\n",
       "<table border=\"1\" class=\"dataframe\">\n",
       "  <thead>\n",
       "    <tr style=\"text-align: right;\">\n",
       "      <th></th>\n",
       "      <th>item_number</th>\n",
       "      <th>brand_name</th>\n",
       "      <th>sanitary_type</th>\n",
       "      <th>item_option</th>\n",
       "      <th>review_content</th>\n",
       "      <th>absorption_encoded</th>\n",
       "      <th>stimulation_encoded</th>\n",
       "      <th>texture_encoded</th>\n",
       "      <th>nouns</th>\n",
       "      <th>avg</th>\n",
       "    </tr>\n",
       "  </thead>\n",
       "  <tbody>\n",
       "    <tr>\n",
       "      <th>0</th>\n",
       "      <td>A000000191350</td>\n",
       "      <td>마리솜</td>\n",
       "      <td>pad</td>\n",
       "      <td></td>\n",
       "      <td>너무 귀여워서 살수 밖에 없었어요 사실 쿠로미 가지고싶었는데 마멜 당첨 됬지만 너무...</td>\n",
       "      <td>3.0</td>\n",
       "      <td>2.0</td>\n",
       "      <td>3.0</td>\n",
       "      <td>['너무', '귀엽', '살수', '밖', '없', '사실', '쿠로미', '마멜'...</td>\n",
       "      <td>2.666667</td>\n",
       "    </tr>\n",
       "    <tr>\n",
       "      <th>1</th>\n",
       "      <td>A000000191350</td>\n",
       "      <td>마리솜</td>\n",
       "      <td>pad</td>\n",
       "      <td></td>\n",
       "      <td>종류별로 다양하게 담겨있어서 좋아요  오버나이트가 급히 필요해서 뜯어 써봤는데 진짜...</td>\n",
       "      <td>2.0</td>\n",
       "      <td>3.0</td>\n",
       "      <td>2.0</td>\n",
       "      <td>['종류', '다양', '좋', '오버나이트', '급히', '필요', '진짜', '...</td>\n",
       "      <td>2.333333</td>\n",
       "    </tr>\n",
       "    <tr>\n",
       "      <th>2</th>\n",
       "      <td>A000000193819</td>\n",
       "      <td>마리솜</td>\n",
       "      <td>pad</td>\n",
       "      <td></td>\n",
       "      <td>조카가 얼마전에 생리시작해서 생리대 선물해 주려고했는데 마침 퍼스트박스 세트가 있어...</td>\n",
       "      <td>3.0</td>\n",
       "      <td>3.0</td>\n",
       "      <td>3.0</td>\n",
       "      <td>['조카', '얼마', '전', '생리', '시작', '생리대', '선물', '마침...</td>\n",
       "      <td>3.000000</td>\n",
       "    </tr>\n",
       "  </tbody>\n",
       "</table>\n",
       "</div>"
      ],
      "text/plain": [
       "     item_number brand_name sanitary_type item_option  \\\n",
       "0  A000000191350        마리솜           pad               \n",
       "1  A000000191350        마리솜           pad               \n",
       "2  A000000193819        마리솜           pad               \n",
       "\n",
       "                                      review_content  absorption_encoded  \\\n",
       "0  너무 귀여워서 살수 밖에 없었어요 사실 쿠로미 가지고싶었는데 마멜 당첨 됬지만 너무...                 3.0   \n",
       "1  종류별로 다양하게 담겨있어서 좋아요  오버나이트가 급히 필요해서 뜯어 써봤는데 진짜...                 2.0   \n",
       "2  조카가 얼마전에 생리시작해서 생리대 선물해 주려고했는데 마침 퍼스트박스 세트가 있어...                 3.0   \n",
       "\n",
       "   stimulation_encoded  texture_encoded  \\\n",
       "0                  2.0              3.0   \n",
       "1                  3.0              2.0   \n",
       "2                  3.0              3.0   \n",
       "\n",
       "                                               nouns       avg  \n",
       "0  ['너무', '귀엽', '살수', '밖', '없', '사실', '쿠로미', '마멜'...  2.666667  \n",
       "1  ['종류', '다양', '좋', '오버나이트', '급히', '필요', '진짜', '...  2.333333  \n",
       "2  ['조카', '얼마', '전', '생리', '시작', '생리대', '선물', '마침...  3.000000  "
      ]
     },
     "execution_count": 5,
     "metadata": {},
     "output_type": "execute_result"
    }
   ],
   "source": [
    "df.head(3)"
   ]
  },
  {
   "cell_type": "code",
   "execution_count": 130,
   "id": "ae5e0150-8c6f-4b29-ace8-58adfe12dc70",
   "metadata": {
    "tags": []
   },
   "outputs": [
    {
     "data": {
      "text/plain": [
       "brand_name\n",
       "라네이처     485\n",
       "라엘      1100\n",
       "마리솜      149\n",
       "쏘피      1932\n",
       "아임오       86\n",
       "예지미인     673\n",
       "유기농본    1901\n",
       "이너시아     950\n",
       "좋은느낌    5854\n",
       "Name: review_content, dtype: int64"
      ]
     },
     "execution_count": 130,
     "metadata": {},
     "output_type": "execute_result"
    }
   ],
   "source": [
    "df[df[\"sanitary_type\"]==\"pad\"].groupby(\"brand_name\")[\"review_content\"].nunique()"
   ]
  },
  {
   "cell_type": "markdown",
   "id": "01a57608-458b-4e36-9fd2-5b1725cb957e",
   "metadata": {},
   "source": [
    "# 만족도 평균 점수 가장 높은 & 낮은 제품/브랜드는?"
   ]
  },
  {
   "cell_type": "code",
   "execution_count": 125,
   "id": "8979f025-f5d6-492e-966b-b23bc2098e3c",
   "metadata": {
    "tags": []
   },
   "outputs": [
    {
     "data": {
      "image/png": "[encoded data removed]",
      "text/plain": [
       "<Figure size 640x480 with 1 Axes>"
      ]
     },
     "metadata": {},
     "output_type": "display_data"
    }
   ],
   "source": [
    "filtered_df = df[df[\"sanitary_type\"].isin([\"tampon\", \"pad\"])]\n",
    "\n",
    "# Boxplot을 그립니다.\n",
    "sns.boxplot(x=\"sanitary_type\", y=\"avg\", data=filtered_df)\n",
    "\n",
    "plt.title(\"Sanitary Type - Average\")\n",
    "plt.xlabel(\"Sanitary Type\")\n",
    "plt.ylabel(\"Average\")\n",
    "\n",
    "plt.show()"
   ]
  },
  {
   "cell_type": "code",
   "execution_count": 116,
   "id": "7a030e75-4363-4d5b-beb8-6d89bad3bd65",
   "metadata": {
    "tags": []
   },
   "outputs": [
    {
     "data": {
      "text/html": [
       "<div>\n",
       "<style scoped>\n",
       "    .dataframe tbody tr th:only-of-type {\n",
       "        vertical-align: middle;\n",
       "    }\n",
       "\n",
       "    .dataframe tbody tr th {\n",
       "        vertical-align: top;\n",
       "    }\n",
       "\n",
       "    .dataframe thead th {\n",
       "        text-align: right;\n",
       "    }\n",
       "</style>\n",
       "<table border=\"1\" class=\"dataframe\">\n",
       "  <thead>\n",
       "    <tr style=\"text-align: right;\">\n",
       "      <th></th>\n",
       "      <th>sanitary_type</th>\n",
       "    </tr>\n",
       "  </thead>\n",
       "  <tbody>\n",
       "    <tr>\n",
       "      <th>12525</th>\n",
       "      <td>cup</td>\n",
       "    </tr>\n",
       "    <tr>\n",
       "      <th>12526</th>\n",
       "      <td>cup</td>\n",
       "    </tr>\n",
       "    <tr>\n",
       "      <th>12527</th>\n",
       "      <td>cup</td>\n",
       "    </tr>\n",
       "    <tr>\n",
       "      <th>12528</th>\n",
       "      <td>cup</td>\n",
       "    </tr>\n",
       "    <tr>\n",
       "      <th>12529</th>\n",
       "      <td>cup</td>\n",
       "    </tr>\n",
       "    <tr>\n",
       "      <th>12530</th>\n",
       "      <td>cup</td>\n",
       "    </tr>\n",
       "    <tr>\n",
       "      <th>12531</th>\n",
       "      <td>cup</td>\n",
       "    </tr>\n",
       "    <tr>\n",
       "      <th>12532</th>\n",
       "      <td>cup</td>\n",
       "    </tr>\n",
       "  </tbody>\n",
       "</table>\n",
       "</div>"
      ],
      "text/plain": [
       "      sanitary_type\n",
       "12525           cup\n",
       "12526           cup\n",
       "12527           cup\n",
       "12528           cup\n",
       "12529           cup\n",
       "12530           cup\n",
       "12531           cup\n",
       "12532           cup"
      ]
     },
     "execution_count": 116,
     "metadata": {},
     "output_type": "execute_result"
    }
   ],
   "source": [
    "df[df[\"brand_name\"]==\"한나\"][[\"sanitary_type\"]]"
   ]
  },
  {
   "cell_type": "code",
   "execution_count": 139,
   "id": "e2ebe3f9-d209-4e7f-9991-5fd694dc1b57",
   "metadata": {
    "tags": []
   },
   "outputs": [
    {
     "data": {
      "text/html": [
       "<div>\n",
       "<style scoped>\n",
       "    .dataframe tbody tr th:only-of-type {\n",
       "        vertical-align: middle;\n",
       "    }\n",
       "\n",
       "    .dataframe tbody tr th {\n",
       "        vertical-align: top;\n",
       "    }\n",
       "\n",
       "    .dataframe thead th {\n",
       "        text-align: right;\n",
       "    }\n",
       "</style>\n",
       "<table border=\"1\" class=\"dataframe\">\n",
       "  <thead>\n",
       "    <tr style=\"text-align: right;\">\n",
       "      <th></th>\n",
       "      <th>item_number</th>\n",
       "      <th>brand_name</th>\n",
       "      <th>sanitary_type</th>\n",
       "      <th>item_option</th>\n",
       "      <th>review_content</th>\n",
       "      <th>absorption_encoded</th>\n",
       "      <th>stimulation_encoded</th>\n",
       "      <th>texture_encoded</th>\n",
       "      <th>nouns</th>\n",
       "      <th>avg</th>\n",
       "    </tr>\n",
       "  </thead>\n",
       "  <tbody>\n",
       "    <tr>\n",
       "      <th>0</th>\n",
       "      <td>A000000191350</td>\n",
       "      <td>마리솜</td>\n",
       "      <td>pad</td>\n",
       "      <td></td>\n",
       "      <td>너무 귀여워서 살수 밖에 없었어요 사실 쿠로미 가지고싶었는데 마멜 당첨 됬지만 너무...</td>\n",
       "      <td>3.0</td>\n",
       "      <td>2.0</td>\n",
       "      <td>3.0</td>\n",
       "      <td>['너무', '귀엽', '살수', '밖', '없', '사실', '쿠로미', '마멜'...</td>\n",
       "      <td>2.666667</td>\n",
       "    </tr>\n",
       "    <tr>\n",
       "      <th>1</th>\n",
       "      <td>A000000191350</td>\n",
       "      <td>마리솜</td>\n",
       "      <td>pad</td>\n",
       "      <td></td>\n",
       "      <td>종류별로 다양하게 담겨있어서 좋아요  오버나이트가 급히 필요해서 뜯어 써봤는데 진짜...</td>\n",
       "      <td>2.0</td>\n",
       "      <td>3.0</td>\n",
       "      <td>2.0</td>\n",
       "      <td>['종류', '다양', '좋', '오버나이트', '급히', '필요', '진짜', '...</td>\n",
       "      <td>2.333333</td>\n",
       "    </tr>\n",
       "  </tbody>\n",
       "</table>\n",
       "</div>"
      ],
      "text/plain": [
       "     item_number brand_name sanitary_type item_option  \\\n",
       "0  A000000191350        마리솜           pad               \n",
       "1  A000000191350        마리솜           pad               \n",
       "\n",
       "                                      review_content  absorption_encoded  \\\n",
       "0  너무 귀여워서 살수 밖에 없었어요 사실 쿠로미 가지고싶었는데 마멜 당첨 됬지만 너무...                 3.0   \n",
       "1  종류별로 다양하게 담겨있어서 좋아요  오버나이트가 급히 필요해서 뜯어 써봤는데 진짜...                 2.0   \n",
       "\n",
       "   stimulation_encoded  texture_encoded  \\\n",
       "0                  2.0              3.0   \n",
       "1                  3.0              2.0   \n",
       "\n",
       "                                               nouns       avg  \n",
       "0  ['너무', '귀엽', '살수', '밖', '없', '사실', '쿠로미', '마멜'...  2.666667  \n",
       "1  ['종류', '다양', '좋', '오버나이트', '급히', '필요', '진짜', '...  2.333333  "
      ]
     },
     "execution_count": 139,
     "metadata": {},
     "output_type": "execute_result"
    }
   ],
   "source": [
    "df.head(2)"
   ]
  },
  {
   "cell_type": "code",
   "execution_count": 251,
   "id": "f9ea902c-60c3-49cf-91ac-c729082a453c",
   "metadata": {
    "tags": []
   },
   "outputs": [],
   "source": [
    "# 생리컵 브랜드 제외\n",
    "filtered_brand = df[(~df[\"brand_name\"].isin([\"루나\", \"티읕\", \"한나\"]))]"
   ]
  },
  {
   "cell_type": "code",
   "execution_count": 252,
   "id": "a33f7f3d-4206-4c3c-bd07-57826ac177e9",
   "metadata": {
    "tags": []
   },
   "outputs": [
    {
     "data": {
      "text/html": [
       "<div>\n",
       "<style scoped>\n",
       "    .dataframe tbody tr th:only-of-type {\n",
       "        vertical-align: middle;\n",
       "    }\n",
       "\n",
       "    .dataframe tbody tr th {\n",
       "        vertical-align: top;\n",
       "    }\n",
       "\n",
       "    .dataframe thead th {\n",
       "        text-align: right;\n",
       "    }\n",
       "</style>\n",
       "<table border=\"1\" class=\"dataframe\">\n",
       "  <thead>\n",
       "    <tr style=\"text-align: right;\">\n",
       "      <th></th>\n",
       "      <th>absorption_encoded</th>\n",
       "      <th>stimulation_encoded</th>\n",
       "      <th>texture_encoded</th>\n",
       "    </tr>\n",
       "    <tr>\n",
       "      <th>brand_name</th>\n",
       "      <th></th>\n",
       "      <th></th>\n",
       "      <th></th>\n",
       "    </tr>\n",
       "  </thead>\n",
       "  <tbody>\n",
       "    <tr>\n",
       "      <th>나트라케어</th>\n",
       "      <td>2.600592</td>\n",
       "      <td>2.621302</td>\n",
       "      <td>2.497041</td>\n",
       "    </tr>\n",
       "    <tr>\n",
       "      <th>라네이처</th>\n",
       "      <td>2.626923</td>\n",
       "      <td>2.698077</td>\n",
       "      <td>2.665385</td>\n",
       "    </tr>\n",
       "    <tr>\n",
       "      <th>라엘</th>\n",
       "      <td>2.682945</td>\n",
       "      <td>2.750729</td>\n",
       "      <td>2.720117</td>\n",
       "    </tr>\n",
       "    <tr>\n",
       "      <th>마리솜</th>\n",
       "      <td>2.618644</td>\n",
       "      <td>2.652542</td>\n",
       "      <td>2.652542</td>\n",
       "    </tr>\n",
       "    <tr>\n",
       "      <th>순수한면</th>\n",
       "      <td>2.569882</td>\n",
       "      <td>2.552165</td>\n",
       "      <td>2.537402</td>\n",
       "    </tr>\n",
       "    <tr>\n",
       "      <th>쏘피</th>\n",
       "      <td>2.684500</td>\n",
       "      <td>2.699000</td>\n",
       "      <td>2.662500</td>\n",
       "    </tr>\n",
       "    <tr>\n",
       "      <th>아임오</th>\n",
       "      <td>2.516129</td>\n",
       "      <td>2.666667</td>\n",
       "      <td>2.645161</td>\n",
       "    </tr>\n",
       "    <tr>\n",
       "      <th>예지미인</th>\n",
       "      <td>2.663421</td>\n",
       "      <td>2.706537</td>\n",
       "      <td>2.716273</td>\n",
       "    </tr>\n",
       "    <tr>\n",
       "      <th>유기농본</th>\n",
       "      <td>2.682678</td>\n",
       "      <td>2.806435</td>\n",
       "      <td>2.757793</td>\n",
       "    </tr>\n",
       "    <tr>\n",
       "      <th>이너시아</th>\n",
       "      <td>2.802803</td>\n",
       "      <td>2.835836</td>\n",
       "      <td>2.813814</td>\n",
       "    </tr>\n",
       "    <tr>\n",
       "      <th>좋은느낌</th>\n",
       "      <td>2.706111</td>\n",
       "      <td>2.707361</td>\n",
       "      <td>2.696237</td>\n",
       "    </tr>\n",
       "    <tr>\n",
       "      <th>템포</th>\n",
       "      <td>2.640832</td>\n",
       "      <td>2.614998</td>\n",
       "      <td>2.607104</td>\n",
       "    </tr>\n",
       "    <tr>\n",
       "      <th>해피문데이</th>\n",
       "      <td>2.684857</td>\n",
       "      <td>2.718781</td>\n",
       "      <td>2.712389</td>\n",
       "    </tr>\n",
       "    <tr>\n",
       "      <th>화이트</th>\n",
       "      <td>2.615748</td>\n",
       "      <td>2.622047</td>\n",
       "      <td>2.644094</td>\n",
       "    </tr>\n",
       "  </tbody>\n",
       "</table>\n",
       "</div>"
      ],
      "text/plain": [
       "            absorption_encoded  stimulation_encoded  texture_encoded\n",
       "brand_name                                                          \n",
       "나트라케어                 2.600592             2.621302         2.497041\n",
       "라네이처                  2.626923             2.698077         2.665385\n",
       "라엘                    2.682945             2.750729         2.720117\n",
       "마리솜                   2.618644             2.652542         2.652542\n",
       "순수한면                  2.569882             2.552165         2.537402\n",
       "쏘피                    2.684500             2.699000         2.662500\n",
       "아임오                   2.516129             2.666667         2.645161\n",
       "예지미인                  2.663421             2.706537         2.716273\n",
       "유기농본                  2.682678             2.806435         2.757793\n",
       "이너시아                  2.802803             2.835836         2.813814\n",
       "좋은느낌                  2.706111             2.707361         2.696237\n",
       "템포                    2.640832             2.614998         2.607104\n",
       "해피문데이                 2.684857             2.718781         2.712389\n",
       "화이트                   2.615748             2.622047         2.644094"
      ]
     },
     "execution_count": 252,
     "metadata": {},
     "output_type": "execute_result"
    }
   ],
   "source": [
    "filtered_brand.groupby(\"brand_name\")[[\"absorption_encoded\", \"stimulation_encoded\", \"texture_encoded\"]]\\\n",
    "    .mean()"
   ]
  },
  {
   "cell_type": "code",
   "execution_count": 172,
   "id": "acaf0e4f-b853-41d8-8941-8c0548dfbd2d",
   "metadata": {
    "tags": []
   },
   "outputs": [
    {
     "data": {
      "image/png": "[encoded data removed]",
      "text/plain": [
       "<Figure size 1000x500 with 1 Axes>"
      ]
     },
     "metadata": {},
     "output_type": "display_data"
    }
   ],
   "source": [
    "plt.figure(figsize=(10,5))\n",
    "plt.rc(\"font\", family=\"AppleGothic\")\n",
    "sns.boxplot(x=\"brand_name\", y=\"avg\", data=filtered_df)\n",
    "\n",
    "plt.title(\"Pad, Tampon - Average\")\n",
    "plt.xlabel(\"Brand Name\")\n",
    "plt.xticks(rotation=45)\n",
    "plt.ylabel(\"Average\")\n",
    "\n",
    "plt.show()\n",
    "\n",
    "# 컵형 브랜드 제외"
   ]
  },
  {
   "cell_type": "code",
   "execution_count": 253,
   "id": "dcdfa801-1c77-47a0-b53c-a084f541a6bf",
   "metadata": {
    "tags": []
   },
   "outputs": [
    {
     "data": {
      "text/plain": [
       "brand_name\n",
       "아임오        93\n",
       "나트라케어     338\n",
       "마리솜       382\n",
       "라네이처      520\n",
       "화이트       635\n",
       "예지미인      719\n",
       "이너시아      999\n",
       "순수한면     1016\n",
       "라엘       1393\n",
       "유기농본     1958\n",
       "쏘피       2000\n",
       "해피문데이    2046\n",
       "템포       2795\n",
       "좋은느낌     6173\n",
       "Name: brand_name, dtype: int64"
      ]
     },
     "execution_count": 253,
     "metadata": {},
     "output_type": "execute_result"
    }
   ],
   "source": [
    "filtered_brand.groupby(\"brand_name\")[\"brand_name\"].count().sort_values()"
   ]
  },
  {
   "cell_type": "code",
   "execution_count": 168,
   "id": "496f0f0c-8b3d-4296-8d4f-adc2257696d5",
   "metadata": {
    "tags": []
   },
   "outputs": [],
   "source": [
    "pad_brand = df[df[\"sanitary_type\"]==\"pad\"]"
   ]
  },
  {
   "cell_type": "code",
   "execution_count": 254,
   "id": "f746ef75-439b-4cef-ae41-152e6b49a499",
   "metadata": {
    "tags": []
   },
   "outputs": [
    {
     "data": {
      "text/plain": [
       "brand_name\n",
       "아임오       93\n",
       "마리솜      382\n",
       "라네이처     520\n",
       "예지미인     719\n",
       "이너시아     999\n",
       "라엘      1200\n",
       "유기농본    1958\n",
       "쏘피      2000\n",
       "좋은느낌    6059\n",
       "Name: brand_name, dtype: int64"
      ]
     },
     "execution_count": 254,
     "metadata": {},
     "output_type": "execute_result"
    }
   ],
   "source": [
    "pad_brand.groupby(\"brand_name\")[\"brand_name\"].count().sort_values()"
   ]
  },
  {
   "cell_type": "code",
   "execution_count": 169,
   "id": "5a5a4723-bf65-4aed-878e-9142edc13396",
   "metadata": {
    "tags": []
   },
   "outputs": [
    {
     "data": {
      "text/html": [
       "<div>\n",
       "<style scoped>\n",
       "    .dataframe tbody tr th:only-of-type {\n",
       "        vertical-align: middle;\n",
       "    }\n",
       "\n",
       "    .dataframe tbody tr th {\n",
       "        vertical-align: top;\n",
       "    }\n",
       "\n",
       "    .dataframe thead th {\n",
       "        text-align: right;\n",
       "    }\n",
       "</style>\n",
       "<table border=\"1\" class=\"dataframe\">\n",
       "  <thead>\n",
       "    <tr style=\"text-align: right;\">\n",
       "      <th></th>\n",
       "      <th>absorption_encoded</th>\n",
       "      <th>stimulation_encoded</th>\n",
       "      <th>texture_encoded</th>\n",
       "    </tr>\n",
       "    <tr>\n",
       "      <th>brand_name</th>\n",
       "      <th></th>\n",
       "      <th></th>\n",
       "      <th></th>\n",
       "    </tr>\n",
       "  </thead>\n",
       "  <tbody>\n",
       "    <tr>\n",
       "      <th>라네이처</th>\n",
       "      <td>2.626923</td>\n",
       "      <td>2.698077</td>\n",
       "      <td>2.665385</td>\n",
       "    </tr>\n",
       "    <tr>\n",
       "      <th>라엘</th>\n",
       "      <td>2.712500</td>\n",
       "      <td>2.785000</td>\n",
       "      <td>2.753333</td>\n",
       "    </tr>\n",
       "    <tr>\n",
       "      <th>마리솜</th>\n",
       "      <td>2.618644</td>\n",
       "      <td>2.652542</td>\n",
       "      <td>2.652542</td>\n",
       "    </tr>\n",
       "    <tr>\n",
       "      <th>쏘피</th>\n",
       "      <td>2.684500</td>\n",
       "      <td>2.699000</td>\n",
       "      <td>2.662500</td>\n",
       "    </tr>\n",
       "    <tr>\n",
       "      <th>아임오</th>\n",
       "      <td>2.516129</td>\n",
       "      <td>2.666667</td>\n",
       "      <td>2.645161</td>\n",
       "    </tr>\n",
       "    <tr>\n",
       "      <th>예지미인</th>\n",
       "      <td>2.663421</td>\n",
       "      <td>2.706537</td>\n",
       "      <td>2.716273</td>\n",
       "    </tr>\n",
       "    <tr>\n",
       "      <th>유기농본</th>\n",
       "      <td>2.682678</td>\n",
       "      <td>2.806435</td>\n",
       "      <td>2.757793</td>\n",
       "    </tr>\n",
       "    <tr>\n",
       "      <th>이너시아</th>\n",
       "      <td>2.802803</td>\n",
       "      <td>2.835836</td>\n",
       "      <td>2.813814</td>\n",
       "    </tr>\n",
       "    <tr>\n",
       "      <th>좋은느낌</th>\n",
       "      <td>2.707845</td>\n",
       "      <td>2.708457</td>\n",
       "      <td>2.697290</td>\n",
       "    </tr>\n",
       "  </tbody>\n",
       "</table>\n",
       "</div>"
      ],
      "text/plain": [
       "            absorption_encoded  stimulation_encoded  texture_encoded\n",
       "brand_name                                                          \n",
       "라네이처                  2.626923             2.698077         2.665385\n",
       "라엘                    2.712500             2.785000         2.753333\n",
       "마리솜                   2.618644             2.652542         2.652542\n",
       "쏘피                    2.684500             2.699000         2.662500\n",
       "아임오                   2.516129             2.666667         2.645161\n",
       "예지미인                  2.663421             2.706537         2.716273\n",
       "유기농본                  2.682678             2.806435         2.757793\n",
       "이너시아                  2.802803             2.835836         2.813814\n",
       "좋은느낌                  2.707845             2.708457         2.697290"
      ]
     },
     "execution_count": 169,
     "metadata": {},
     "output_type": "execute_result"
    }
   ],
   "source": [
    "pad_brand.groupby(\"brand_name\")[[\"absorption_encoded\", \"stimulation_encoded\", \"texture_encoded\"]]\\\n",
    "    .mean()"
   ]
  },
  {
   "cell_type": "code",
   "execution_count": 173,
   "id": "36d9560f-e6a5-4ed7-b30d-8744ffd5f682",
   "metadata": {
    "tags": []
   },
   "outputs": [
    {
     "data": {
      "image/png": "[encoded data removed]",
      "text/plain": [
       "<Figure size 1000x500 with 1 Axes>"
      ]
     },
     "metadata": {},
     "output_type": "display_data"
    }
   ],
   "source": [
    "plt.figure(figsize=(10,5))\n",
    "plt.rc(\"font\", family=\"AppleGothic\")\n",
    "sns.boxplot(x=\"brand_name\", y=\"avg\", data=pad_brand)\n",
    "\n",
    "plt.title(\"Pad - Average\")\n",
    "plt.xlabel(\"Pad Brand\")\n",
    "plt.xticks(rotation=45)\n",
    "plt.ylabel(\"Average\")\n",
    "\n",
    "plt.show()"
   ]
  },
  {
   "cell_type": "code",
   "execution_count": 53,
   "id": "0f67f756-4e90-4f18-85e3-896ee6aac947",
   "metadata": {
    "tags": []
   },
   "outputs": [],
   "source": [
    "tampon_brand = df[df[\"sanitary_type\"]==\"tampon\"]"
   ]
  },
  {
   "cell_type": "code",
   "execution_count": 54,
   "id": "0f3553b1-63d5-4b83-a5c9-a15e2de22e61",
   "metadata": {
    "tags": []
   },
   "outputs": [
    {
     "data": {
      "text/plain": [
       "brand_name\n",
       "좋은느낌      114\n",
       "라엘        172\n",
       "나트라케어     338\n",
       "화이트       635\n",
       "순수한면     1016\n",
       "해피문데이    2034\n",
       "템포       2795\n",
       "Name: brand_name, dtype: int64"
      ]
     },
     "execution_count": 54,
     "metadata": {},
     "output_type": "execute_result"
    }
   ],
   "source": [
    "tampon_brand.groupby(\"brand_name\")[\"brand_name\"].count().sort_values()"
   ]
  },
  {
   "cell_type": "code",
   "execution_count": 55,
   "id": "ec86234e-3145-4ac5-8d9e-182ed90ddf64",
   "metadata": {
    "tags": []
   },
   "outputs": [
    {
     "data": {
      "text/html": [
       "<div>\n",
       "<style scoped>\n",
       "    .dataframe tbody tr th:only-of-type {\n",
       "        vertical-align: middle;\n",
       "    }\n",
       "\n",
       "    .dataframe tbody tr th {\n",
       "        vertical-align: top;\n",
       "    }\n",
       "\n",
       "    .dataframe thead th {\n",
       "        text-align: right;\n",
       "    }\n",
       "</style>\n",
       "<table border=\"1\" class=\"dataframe\">\n",
       "  <thead>\n",
       "    <tr style=\"text-align: right;\">\n",
       "      <th></th>\n",
       "      <th>absorption_encoded</th>\n",
       "      <th>stimulation_encoded</th>\n",
       "      <th>texture_encoded</th>\n",
       "    </tr>\n",
       "    <tr>\n",
       "      <th>brand_name</th>\n",
       "      <th></th>\n",
       "      <th></th>\n",
       "      <th></th>\n",
       "    </tr>\n",
       "  </thead>\n",
       "  <tbody>\n",
       "    <tr>\n",
       "      <th>나트라케어</th>\n",
       "      <td>2.600592</td>\n",
       "      <td>2.621302</td>\n",
       "      <td>2.497041</td>\n",
       "    </tr>\n",
       "    <tr>\n",
       "      <th>라엘</th>\n",
       "      <td>2.476744</td>\n",
       "      <td>2.511628</td>\n",
       "      <td>2.488372</td>\n",
       "    </tr>\n",
       "    <tr>\n",
       "      <th>순수한면</th>\n",
       "      <td>2.569882</td>\n",
       "      <td>2.552165</td>\n",
       "      <td>2.537402</td>\n",
       "    </tr>\n",
       "    <tr>\n",
       "      <th>좋은느낌</th>\n",
       "      <td>2.614035</td>\n",
       "      <td>2.649123</td>\n",
       "      <td>2.640351</td>\n",
       "    </tr>\n",
       "    <tr>\n",
       "      <th>템포</th>\n",
       "      <td>2.640832</td>\n",
       "      <td>2.614998</td>\n",
       "      <td>2.607104</td>\n",
       "    </tr>\n",
       "    <tr>\n",
       "      <th>해피문데이</th>\n",
       "      <td>2.684857</td>\n",
       "      <td>2.718781</td>\n",
       "      <td>2.712389</td>\n",
       "    </tr>\n",
       "    <tr>\n",
       "      <th>화이트</th>\n",
       "      <td>2.615748</td>\n",
       "      <td>2.622047</td>\n",
       "      <td>2.644094</td>\n",
       "    </tr>\n",
       "  </tbody>\n",
       "</table>\n",
       "</div>"
      ],
      "text/plain": [
       "            absorption_encoded  stimulation_encoded  texture_encoded\n",
       "brand_name                                                          \n",
       "나트라케어                 2.600592             2.621302         2.497041\n",
       "라엘                    2.476744             2.511628         2.488372\n",
       "순수한면                  2.569882             2.552165         2.537402\n",
       "좋은느낌                  2.614035             2.649123         2.640351\n",
       "템포                    2.640832             2.614998         2.607104\n",
       "해피문데이                 2.684857             2.718781         2.712389\n",
       "화이트                   2.615748             2.622047         2.644094"
      ]
     },
     "execution_count": 55,
     "metadata": {},
     "output_type": "execute_result"
    }
   ],
   "source": [
    "tampon_brand.groupby(\"brand_name\")[[\"absorption_encoded\", \"stimulation_encoded\", \"texture_encoded\"]]\\\n",
    "    .mean()"
   ]
  },
  {
   "cell_type": "code",
   "execution_count": 56,
   "id": "402434e7-3e66-46d8-acce-72738d342ebc",
   "metadata": {
    "tags": []
   },
   "outputs": [
    {
     "data": {
      "image/png": "[encoded data removed]",
      "text/plain": [
       "<Figure size 1000x500 with 1 Axes>"
      ]
     },
     "metadata": {},
     "output_type": "display_data"
    }
   ],
   "source": [
    "plt.figure(figsize=(10,5))\n",
    "plt.rc(\"font\", family=\"AppleGothic\")\n",
    "sns.boxplot(x=\"brand_name\", y=\"avg\", data=tampon_brand)\n",
    "\n",
    "plt.title(\"Tampon - Average\")\n",
    "plt.xlabel(\"Tampon Brand\")\n",
    "plt.xticks(rotation=45)\n",
    "plt.ylabel(\"Average\")\n",
    "\n",
    "plt.show()"
   ]
  },
  {
   "cell_type": "code",
   "execution_count": null,
   "id": "07ac4eee-e41e-4047-b415-214c51c7ae34",
   "metadata": {},
   "outputs": [],
   "source": []
  },
  {
   "cell_type": "code",
   "execution_count": null,
   "id": "dc30aa74-3473-492d-8217-4e7f9adbc0a2",
   "metadata": {},
   "outputs": [],
   "source": []
  },
  {
   "cell_type": "code",
   "execution_count": null,
   "id": "dbbbc4f8-4a7d-4661-a8ec-7374567b9688",
   "metadata": {},
   "outputs": [],
   "source": []
  },
  {
   "cell_type": "markdown",
   "id": "0ad4d021-be83-45ed-bb72-93c9f810cc91",
   "metadata": {
    "tags": []
   },
   "source": [
    "# 가설1) 탐폰이 패드보다 흡수율 만족도가 높을 것이다.\n",
    "- 탐폰과 패드의 absorption_encoded 값의 평균으로 계산"
   ]
  },
  {
   "cell_type": "code",
   "execution_count": 31,
   "id": "f5f78e1c-5c7e-4884-b1e5-e39743b86843",
   "metadata": {
    "tags": []
   },
   "outputs": [
    {
     "data": {
      "text/html": [
       "<div>\n",
       "<style scoped>\n",
       "    .dataframe tbody tr th:only-of-type {\n",
       "        vertical-align: middle;\n",
       "    }\n",
       "\n",
       "    .dataframe tbody tr th {\n",
       "        vertical-align: top;\n",
       "    }\n",
       "\n",
       "    .dataframe thead th {\n",
       "        text-align: right;\n",
       "    }\n",
       "</style>\n",
       "<table border=\"1\" class=\"dataframe\">\n",
       "  <thead>\n",
       "    <tr style=\"text-align: right;\">\n",
       "      <th></th>\n",
       "      <th>item_number</th>\n",
       "      <th>brand_name</th>\n",
       "      <th>sanitary_type</th>\n",
       "      <th>item_option</th>\n",
       "      <th>review_content</th>\n",
       "      <th>absorption_encoded</th>\n",
       "      <th>stimulation_encoded</th>\n",
       "      <th>texture_encoded</th>\n",
       "      <th>nouns</th>\n",
       "    </tr>\n",
       "  </thead>\n",
       "  <tbody>\n",
       "    <tr>\n",
       "      <th>12777</th>\n",
       "      <td>A000000164619</td>\n",
       "      <td>템포</td>\n",
       "      <td>tampon</td>\n",
       "      <td>템포 내추럴 슈퍼 10P</td>\n",
       "      <td>잘 쓰고 있는 제품입니다 세일을 노려서 구매하면 싸게 살수도 있습니디</td>\n",
       "      <td>2.0</td>\n",
       "      <td>3.0</td>\n",
       "      <td>3.0</td>\n",
       "      <td>['잘', '제품', '세일', '구매', '살수']</td>\n",
       "    </tr>\n",
       "    <tr>\n",
       "      <th>12778</th>\n",
       "      <td>A000000164619</td>\n",
       "      <td>템포</td>\n",
       "      <td>tampon</td>\n",
       "      <td>템포 내추럴 레귤러 10P</td>\n",
       "      <td>템포를 쓰기 전과 후는 완전 달라요 너무 편해요  생리대는 다시 못 쓸 거 같아요</td>\n",
       "      <td>3.0</td>\n",
       "      <td>3.0</td>\n",
       "      <td>3.0</td>\n",
       "      <td>['템포', '쓰기', '전과', '후', '완전', '다르', '너무', '편하'...</td>\n",
       "    </tr>\n",
       "    <tr>\n",
       "      <th>12779</th>\n",
       "      <td>A000000164619</td>\n",
       "      <td>템포</td>\n",
       "      <td>tampon</td>\n",
       "      <td>템포 내추럴 슈퍼 10P</td>\n",
       "      <td>양많은 날 사용하기 좋아요 수영장 갈때 사용하는 편입니다</td>\n",
       "      <td>3.0</td>\n",
       "      <td>2.0</td>\n",
       "      <td>2.0</td>\n",
       "      <td>['양', '많', '날', '사용', '좋', '수영장', '때', '사용']</td>\n",
       "    </tr>\n",
       "    <tr>\n",
       "      <th>12780</th>\n",
       "      <td>A000000164619</td>\n",
       "      <td>템포</td>\n",
       "      <td>tampon</td>\n",
       "      <td>템포 내추럴 레귤러 10P</td>\n",
       "      <td>다른 탐폰들보다 좀더 사용이 편리한것 같아요 잘 쓰고 있습니다</td>\n",
       "      <td>3.0</td>\n",
       "      <td>3.0</td>\n",
       "      <td>3.0</td>\n",
       "      <td>['탐폰', '좀', '더', '사용', '편리', '같', '잘']</td>\n",
       "    </tr>\n",
       "    <tr>\n",
       "      <th>12781</th>\n",
       "      <td>A000000164619</td>\n",
       "      <td>템포</td>\n",
       "      <td>tampon</td>\n",
       "      <td>템포 내추럴 슈퍼 10P</td>\n",
       "      <td>한번만 쓰는 사람은 없을것 같은데 생리대때문에 피부가 너무 짓무르고 상해서 시작즈음...</td>\n",
       "      <td>3.0</td>\n",
       "      <td>2.0</td>\n",
       "      <td>3.0</td>\n",
       "      <td>['사람', '없', '같', '생리대', '피부', '너무', '짓', '시작',...</td>\n",
       "    </tr>\n",
       "    <tr>\n",
       "      <th>...</th>\n",
       "      <td>...</td>\n",
       "      <td>...</td>\n",
       "      <td>...</td>\n",
       "      <td>...</td>\n",
       "      <td>...</td>\n",
       "      <td>...</td>\n",
       "      <td>...</td>\n",
       "      <td>...</td>\n",
       "      <td>...</td>\n",
       "    </tr>\n",
       "    <tr>\n",
       "      <th>19876</th>\n",
       "      <td>A000000173458</td>\n",
       "      <td>라엘</td>\n",
       "      <td>tampon</td>\n",
       "      <td>라엘 컴팩트 순면 탐폰 레귤러</td>\n",
       "      <td>컴팩트가 가지고 다니기 아주 좋고 오랫동안 써왓던 제품이고 만족스럽습니다</td>\n",
       "      <td>3.0</td>\n",
       "      <td>3.0</td>\n",
       "      <td>3.0</td>\n",
       "      <td>['컴팩트', '아주', '좋', '오랫동안', '제품', '만족']</td>\n",
       "    </tr>\n",
       "    <tr>\n",
       "      <th>19877</th>\n",
       "      <td>A000000173458</td>\n",
       "      <td>라엘</td>\n",
       "      <td>tampon</td>\n",
       "      <td>라엘 컴팩트 순면 탐폰 라이트</td>\n",
       "      <td>최근 탐폰 사용하는 날이 많은데 컴팩트해서 보관하고 좋습니다</td>\n",
       "      <td>2.0</td>\n",
       "      <td>2.0</td>\n",
       "      <td>2.0</td>\n",
       "      <td>['최근', '탐폰', '사용', '날', '많', '컴팩트', '보관', '좋']</td>\n",
       "    </tr>\n",
       "    <tr>\n",
       "      <th>19878</th>\n",
       "      <td>A000000173458</td>\n",
       "      <td>라엘</td>\n",
       "      <td>tampon</td>\n",
       "      <td>라엘 컴팩트 순면 탐폰 슈퍼</td>\n",
       "      <td>기존에 사용했던 탐폰은 흡수력이 만족스럽지 않아서 새롭게 구매해 보았습니다</td>\n",
       "      <td>2.0</td>\n",
       "      <td>3.0</td>\n",
       "      <td>2.0</td>\n",
       "      <td>['기존', '사용', '탐폰', '흡수력', '만족', '새롭', '구매']</td>\n",
       "    </tr>\n",
       "    <tr>\n",
       "      <th>19879</th>\n",
       "      <td>A000000173458</td>\n",
       "      <td>라엘</td>\n",
       "      <td>tampon</td>\n",
       "      <td>라엘 컴팩트 순면 탐폰 슈퍼</td>\n",
       "      <td>다른 탐폰들과 달라서 낯설긴 했지만 일반 탐폰과 별다를게 없어요 좀 더 사용해봐야겠...</td>\n",
       "      <td>2.0</td>\n",
       "      <td>2.0</td>\n",
       "      <td>2.0</td>\n",
       "      <td>['탐폰', '다르', '낯설', '일반', '탐폰', '별다르', '없', '좀'...</td>\n",
       "    </tr>\n",
       "    <tr>\n",
       "      <th>19880</th>\n",
       "      <td>A000000173458</td>\n",
       "      <td>라엘</td>\n",
       "      <td>tampon</td>\n",
       "      <td>라엘 컴팩트 순면 탐폰 슈퍼</td>\n",
       "      <td>기존이 쓰던 템보다 별로에요 환불고 안되고그냥 이전에 쓰던걸로 다시 구매해요</td>\n",
       "      <td>1.0</td>\n",
       "      <td>1.0</td>\n",
       "      <td>1.0</td>\n",
       "      <td>['기존', '별로', '환불', '안', '그냥', '이전', '다시', '구매']</td>\n",
       "    </tr>\n",
       "  </tbody>\n",
       "</table>\n",
       "<p>7104 rows × 9 columns</p>\n",
       "</div>"
      ],
      "text/plain": [
       "         item_number brand_name sanitary_type       item_option  \\\n",
       "12777  A000000164619         템포        tampon     템포 내추럴 슈퍼 10P   \n",
       "12778  A000000164619         템포        tampon    템포 내추럴 레귤러 10P   \n",
       "12779  A000000164619         템포        tampon     템포 내추럴 슈퍼 10P   \n",
       "12780  A000000164619         템포        tampon    템포 내추럴 레귤러 10P   \n",
       "12781  A000000164619         템포        tampon     템포 내추럴 슈퍼 10P   \n",
       "...              ...        ...           ...               ...   \n",
       "19876  A000000173458         라엘        tampon  라엘 컴팩트 순면 탐폰 레귤러   \n",
       "19877  A000000173458         라엘        tampon  라엘 컴팩트 순면 탐폰 라이트   \n",
       "19878  A000000173458         라엘        tampon   라엘 컴팩트 순면 탐폰 슈퍼   \n",
       "19879  A000000173458         라엘        tampon   라엘 컴팩트 순면 탐폰 슈퍼   \n",
       "19880  A000000173458         라엘        tampon   라엘 컴팩트 순면 탐폰 슈퍼   \n",
       "\n",
       "                                          review_content  absorption_encoded  \\\n",
       "12777             잘 쓰고 있는 제품입니다 세일을 노려서 구매하면 싸게 살수도 있습니디                 2.0   \n",
       "12778      템포를 쓰기 전과 후는 완전 달라요 너무 편해요  생리대는 다시 못 쓸 거 같아요                 3.0   \n",
       "12779                    양많은 날 사용하기 좋아요 수영장 갈때 사용하는 편입니다                 3.0   \n",
       "12780                 다른 탐폰들보다 좀더 사용이 편리한것 같아요 잘 쓰고 있습니다                 3.0   \n",
       "12781  한번만 쓰는 사람은 없을것 같은데 생리대때문에 피부가 너무 짓무르고 상해서 시작즈음...                 3.0   \n",
       "...                                                  ...                 ...   \n",
       "19876           컴팩트가 가지고 다니기 아주 좋고 오랫동안 써왓던 제품이고 만족스럽습니다                 3.0   \n",
       "19877                  최근 탐폰 사용하는 날이 많은데 컴팩트해서 보관하고 좋습니다                 2.0   \n",
       "19878          기존에 사용했던 탐폰은 흡수력이 만족스럽지 않아서 새롭게 구매해 보았습니다                 2.0   \n",
       "19879  다른 탐폰들과 달라서 낯설긴 했지만 일반 탐폰과 별다를게 없어요 좀 더 사용해봐야겠...                 2.0   \n",
       "19880         기존이 쓰던 템보다 별로에요 환불고 안되고그냥 이전에 쓰던걸로 다시 구매해요                 1.0   \n",
       "\n",
       "       stimulation_encoded  texture_encoded  \\\n",
       "12777                  3.0              3.0   \n",
       "12778                  3.0              3.0   \n",
       "12779                  2.0              2.0   \n",
       "12780                  3.0              3.0   \n",
       "12781                  2.0              3.0   \n",
       "...                    ...              ...   \n",
       "19876                  3.0              3.0   \n",
       "19877                  2.0              2.0   \n",
       "19878                  3.0              2.0   \n",
       "19879                  2.0              2.0   \n",
       "19880                  1.0              1.0   \n",
       "\n",
       "                                                   nouns  \n",
       "12777                      ['잘', '제품', '세일', '구매', '살수']  \n",
       "12778  ['템포', '쓰기', '전과', '후', '완전', '다르', '너무', '편하'...  \n",
       "12779       ['양', '많', '날', '사용', '좋', '수영장', '때', '사용']  \n",
       "12780             ['탐폰', '좀', '더', '사용', '편리', '같', '잘']  \n",
       "12781  ['사람', '없', '같', '생리대', '피부', '너무', '짓', '시작',...  \n",
       "...                                                  ...  \n",
       "19876             ['컴팩트', '아주', '좋', '오랫동안', '제품', '만족']  \n",
       "19877     ['최근', '탐폰', '사용', '날', '많', '컴팩트', '보관', '좋']  \n",
       "19878        ['기존', '사용', '탐폰', '흡수력', '만족', '새롭', '구매']  \n",
       "19879  ['탐폰', '다르', '낯설', '일반', '탐폰', '별다르', '없', '좀'...  \n",
       "19880    ['기존', '별로', '환불', '안', '그냥', '이전', '다시', '구매']  \n",
       "\n",
       "[7104 rows x 9 columns]"
      ]
     },
     "execution_count": 31,
     "metadata": {},
     "output_type": "execute_result"
    }
   ],
   "source": [
    "df[(df[\"sanitary_type\"]==\"tampon\")]"
   ]
  },
  {
   "cell_type": "code",
   "execution_count": 51,
   "id": "20b51516-1d8a-4b1a-8331-2e69c6be37c5",
   "metadata": {
    "tags": []
   },
   "outputs": [],
   "source": [
    "tampon_rows = df[df[\"sanitary_type\"] == \"tampon\"]\n",
    "pad_rows = df[df[\"sanitary_type\"] == \"pad\"]"
   ]
  },
  {
   "cell_type": "code",
   "execution_count": 59,
   "id": "6e2c05cc-a84a-4d93-ad86-89c1abd87731",
   "metadata": {
    "tags": []
   },
   "outputs": [
    {
     "data": {
      "text/plain": [
       "2.6347237880496053"
      ]
     },
     "execution_count": 59,
     "metadata": {},
     "output_type": "execute_result"
    }
   ],
   "source": [
    "tampon_abs_score = tampon_rows[\"absorption_encoded\"].mean()\n",
    "tampon_abs_score"
   ]
  },
  {
   "cell_type": "code",
   "execution_count": 60,
   "id": "4c08dc95-5189-40c5-8d50-47be578f2f52",
   "metadata": {
    "tags": []
   },
   "outputs": [
    {
     "data": {
      "text/plain": [
       "2.699978227737862"
      ]
     },
     "execution_count": 60,
     "metadata": {},
     "output_type": "execute_result"
    }
   ],
   "source": [
    "pad_abs_score = pad_rows[\"absorption_encoded\"].mean()\n",
    "pad_abs_score"
   ]
  },
  {
   "cell_type": "code",
   "execution_count": 74,
   "id": "faa3986c-0619-48ad-a4a3-061c5b6af63f",
   "metadata": {
    "tags": []
   },
   "outputs": [
    {
     "data": {
      "text/html": [
       "<div>\n",
       "<style scoped>\n",
       "    .dataframe tbody tr th:only-of-type {\n",
       "        vertical-align: middle;\n",
       "    }\n",
       "\n",
       "    .dataframe tbody tr th {\n",
       "        vertical-align: top;\n",
       "    }\n",
       "\n",
       "    .dataframe thead th {\n",
       "        text-align: right;\n",
       "    }\n",
       "</style>\n",
       "<table border=\"1\" class=\"dataframe\">\n",
       "  <thead>\n",
       "    <tr style=\"text-align: right;\">\n",
       "      <th></th>\n",
       "      <th>absorption_encoded</th>\n",
       "      <th>stimulation_encoded</th>\n",
       "      <th>texture_encoded</th>\n",
       "    </tr>\n",
       "    <tr>\n",
       "      <th>sanitary_type</th>\n",
       "      <th></th>\n",
       "      <th></th>\n",
       "      <th></th>\n",
       "    </tr>\n",
       "  </thead>\n",
       "  <tbody>\n",
       "    <tr>\n",
       "      <th>cup</th>\n",
       "      <td>NaN</td>\n",
       "      <td>NaN</td>\n",
       "      <td>NaN</td>\n",
       "    </tr>\n",
       "    <tr>\n",
       "      <th>pad</th>\n",
       "      <td>2.699978</td>\n",
       "      <td>2.735177</td>\n",
       "      <td>2.712834</td>\n",
       "    </tr>\n",
       "    <tr>\n",
       "      <th>tampon</th>\n",
       "      <td>2.634724</td>\n",
       "      <td>2.634724</td>\n",
       "      <td>2.623027</td>\n",
       "    </tr>\n",
       "  </tbody>\n",
       "</table>\n",
       "</div>"
      ],
      "text/plain": [
       "               absorption_encoded  stimulation_encoded  texture_encoded\n",
       "sanitary_type                                                          \n",
       "cup                           NaN                  NaN              NaN\n",
       "pad                      2.699978             2.735177         2.712834\n",
       "tampon                   2.634724             2.634724         2.623027"
      ]
     },
     "execution_count": 74,
     "metadata": {},
     "output_type": "execute_result"
    }
   ],
   "source": [
    "df.groupby([\"sanitary_type\"])[[\"absorption_encoded\", \"stimulation_encoded\", \"texture_encoded\"]].mean()"
   ]
  },
  {
   "cell_type": "markdown",
   "id": "eba831ad-a861-4177-aec1-0a46f2a0179a",
   "metadata": {},
   "source": [
    "### 패드의 평균점수가 통계적으로 정말 높은 것일까?\n",
    "- t-test로 검정"
   ]
  },
  {
   "cell_type": "code",
   "execution_count": 63,
   "id": "059fcb69-4410-4130-b0b1-60d656453fb0",
   "metadata": {
    "tags": []
   },
   "outputs": [],
   "source": [
    "from scipy import stats"
   ]
  },
  {
   "cell_type": "markdown",
   "id": "32e6c412-42bd-4175-b8c1-fa96cc59a808",
   "metadata": {},
   "source": [
    "#### 등분산 검정\n",
    "- H0: 이분산\n",
    "- H1: 등분산"
   ]
  },
  {
   "cell_type": "code",
   "execution_count": 77,
   "id": "c6b3dea9-d84e-4a63-b5c9-b397f8381bf9",
   "metadata": {
    "tags": []
   },
   "outputs": [],
   "source": [
    "# from scipy import stats\n",
    "\n",
    "# test_names = [\"absorption_encoded\", \"stimulation_encoded\", \"texture_encoded\"]\n",
    "\n",
    "# tampon_scores = df[df['sanitary_type'] == 'tampon'][['absorption_encoded', 'stimulation_encoded', 'texture_encoded']]\n",
    "# pad_scores = df[df['sanitary_type'] == 'pad'][['absorption_encoded', 'stimulation_encoded', 'texture_encoded']]\n",
    "\n",
    "# for test_name in test_names:\n",
    "#     _, p_value_levene = stats.levene(tampon_scores[test_name], pad_scores[test_name])\n",
    "#     if p_value_levene > 0.05:\n",
    "#         print(f\"{test_name} p-value: {p_value_levene}, 등분산 가정 만족\")\n",
    "#     else:\n",
    "#         print(f\"{test_name} p-value: {p_value_levene}, 이분산 가정 만족\")\n",
    "        \n",
    "# # 결측치가 있어서 nan값 반환함"
   ]
  },
  {
   "cell_type": "code",
   "execution_count": 78,
   "id": "c49d99a5-c106-4caa-a5f8-d27f476ed9cc",
   "metadata": {
    "tags": []
   },
   "outputs": [
    {
     "name": "stdout",
     "output_type": "stream",
     "text": [
      "absorption_encoded p-value: 7.252478056665965e-20, 이분산 가정 만족\n",
      "stimulation_encoded p-value: 3.0200106679055215e-46, 이분산 가정 만족\n",
      "texture_encoded p-value: 4.360187212184865e-38, 이분산 가정 만족\n"
     ]
    }
   ],
   "source": [
    "from scipy import stats\n",
    "\n",
    "test_names = [\"absorption_encoded\", \"stimulation_encoded\", \"texture_encoded\"]\n",
    "\n",
    "tampon_scores = df[df['sanitary_type'] == 'tampon'][['absorption_encoded', 'stimulation_encoded', 'texture_encoded']]\n",
    "pad_scores = df[df['sanitary_type'] == 'pad'][['absorption_encoded', 'stimulation_encoded', 'texture_encoded']]\n",
    "\n",
    "for test_name in test_names:\n",
    "    # 결측치를 제거한 후 등분산 검정 수행\n",
    "    tampon_data = tampon_scores[test_name].dropna()\n",
    "    pad_data = pad_scores[test_name].dropna()\n",
    "\n",
    "    _, p_value_levene = stats.levene(tampon_data, pad_data)\n",
    "    if p_value_levene > 0.05:\n",
    "        print(f\"{test_name} p-value: {p_value_levene}, 등분산 가정 만족\")\n",
    "    else:\n",
    "        print(f\"{test_name} p-value: {p_value_levene}, 이분산 가정 만족\")\n",
    "        \n",
    "# 모두 이분산 가정을 만족함"
   ]
  },
  {
   "cell_type": "markdown",
   "id": "6cf60a5d-e28f-455c-b179-cfc8a52fcb13",
   "metadata": {},
   "source": [
    "#### t-test 진행\n",
    "- H0: 두 그룹의 평균의 차이는 0이다. => 두 그룹의 평균이 같다.\n",
    "- H1: tampon 흡수율 점수 평균이 pad 흡수율의 점수 평균보다 작다."
   ]
  },
  {
   "cell_type": "code",
   "execution_count": 82,
   "id": "e6f01300-6f8a-4c51-b13f-f1e451a45802",
   "metadata": {
    "tags": []
   },
   "outputs": [
    {
     "name": "stdout",
     "output_type": "stream",
     "text": [
      "p-value: [4.40455278e-19 1.66825014e-42 3.87569542e-36]\n",
      "귀무 가설 기각: [ True  True  True]\n"
     ]
    }
   ],
   "source": [
    "t_statistic, p_value = stats.ttest_ind(\n",
    "    a=tampon_scores,\n",
    "    b=pad_scores,\n",
    "    alternative=\"less\",    # a < b\n",
    "    equal_var=False,\n",
    "    nan_policy=\"omit\"     # nan값 무시하고 진행\n",
    ")\n",
    "print(f\"p-value: {p_value}\")\n",
    "print(f\"귀무 가설 기각: {p_value < 0.05}\")\n",
    "\n",
    "# pad 흡수율 평균 점수가 tampon 흡수율 평균 점수보다 통계적으로 높다고 할 수 있다.\n",
    "# 또한, 나머지 자극 평균 점수와 촉감 평균 점수 모두 pad가 tampon보다 높다."
   ]
  },
  {
   "cell_type": "code",
   "execution_count": null,
   "id": "4139792f-93ad-4577-842e-cff303e7e0d2",
   "metadata": {},
   "outputs": [],
   "source": []
  },
  {
   "cell_type": "markdown",
   "id": "6246224a-0fb6-4e20-a2fc-dde708ded537",
   "metadata": {
    "tags": []
   },
   "source": [
    "# 가설2) 이너시아 vs 좋은느김 평균 만족도 비교\n",
    "- 이너시아 평균 점수가 좋은느낌 평균 점수보다 통계적으로 높은지 t-test로 검정"
   ]
  },
  {
   "cell_type": "code",
   "execution_count": 182,
   "id": "a5f543f9-8614-4c19-8e35-974042fa3189",
   "metadata": {
    "tags": []
   },
   "outputs": [],
   "source": [
    "filtered_brand = df[(df[\"brand_name\"].isin([\"이너시아\", \"좋은느낌\"])) & (df[\"sanitary_type\"]==\"pad\")]\n",
    "# filtered_brand"
   ]
  },
  {
   "cell_type": "markdown",
   "id": "d8eda8d5-a88a-46c9-b038-88261593f3f6",
   "metadata": {},
   "source": [
    "#### 등분산 검정\n",
    "- H0: 이분산\n",
    "- H1: 등분산"
   ]
  },
  {
   "cell_type": "code",
   "execution_count": 269,
   "id": "4a807d33-474e-4a11-b855-30bcb9801ce9",
   "metadata": {
    "tags": []
   },
   "outputs": [
    {
     "name": "stdout",
     "output_type": "stream",
     "text": [
      "absorption_encoded p-value: 1.3868906504511474e-09, 이분산 가정 만족\n",
      "stimulation_encoded p-value: 5.177768254692134e-16, 이분산 가정 만족\n",
      "texture_encoded p-value: 1.048266045871896e-13, 이분산 가정 만족\n",
      "avg p-value: 2.1120296643755174e-15, 이분산 가정 만족\n"
     ]
    }
   ],
   "source": [
    "from scipy import stats\n",
    "\n",
    "test_names = [\"absorption_encoded\", \"stimulation_encoded\", \"texture_encoded\", \"avg\"]\n",
    "\n",
    "innersia_scores = df[(df['brand_name'] == '이너시아') & (df[\"sanitary_type\"]==\"pad\")][[\"absorption_encoded\", \"stimulation_encoded\", \"texture_encoded\", \"avg\"]]\n",
    "feelgood_scores = df[(df['brand_name'] == '좋은느낌') & (df[\"sanitary_type\"]==\"pad\")][[\"absorption_encoded\", \"stimulation_encoded\", \"texture_encoded\", \"avg\"]]\n",
    "\n",
    "for test_name in test_names:\n",
    "    # 결측치를 제거한 후 등분산 검정 수행\n",
    "    innersia_data = innersia_scores[test_name].dropna()\n",
    "    feelgood_data = feelgood_scores[test_name].dropna()\n",
    "\n",
    "    _, p_value_levene = stats.levene(innersia_data, feelgood_data)\n",
    "    if p_value_levene > 0.05:\n",
    "        print(f\"{test_name} p-value: {p_value_levene}, 등분산 가정 만족\")\n",
    "    else:\n",
    "        print(f\"{test_name} p-value: {p_value_levene}, 이분산 가정 만족\")\n",
    "        \n",
    "# 모두 이분산 가정을 만족함"
   ]
  },
  {
   "cell_type": "markdown",
   "id": "341eec8d-a192-4a97-b705-d5e537a0a9b0",
   "metadata": {},
   "source": [
    "#### t-test 진행\n",
    "- H0: 두 그룹의 평균이 같다.\n",
    "- H1: 이너시아 평균 점수가 좋은느낌(패드) 평균 점수보다 높을 것이다."
   ]
  },
  {
   "cell_type": "code",
   "execution_count": 181,
   "id": "a012dd35-76ec-4228-9792-c5ee4ec34641",
   "metadata": {
    "tags": []
   },
   "outputs": [
    {
     "name": "stdout",
     "output_type": "stream",
     "text": [
      "p-value: [1.15298164e-11 2.56970783e-21 3.29872825e-17 1.17518537e-19]\n",
      "귀무 가설 기각: [ True  True  True  True]\n"
     ]
    }
   ],
   "source": [
    "t_statistic, p_value = stats.ttest_ind(\n",
    "    a=innersia_scores,\n",
    "    b=feelgood_scores,\n",
    "    alternative=\"greater\",    # a > b\n",
    "    equal_var=False,\n",
    "    nan_policy=\"omit\"     # nan값 무시하고 진행\n",
    ")\n",
    "print(f\"p-value: {p_value}\")\n",
    "print(f\"귀무 가설 기각: {p_value < 0.05}\")"
   ]
  },
  {
   "cell_type": "code",
   "execution_count": 183,
   "id": "d9053d6d-a613-4557-a70c-162c5f57ac70",
   "metadata": {
    "tags": []
   },
   "outputs": [],
   "source": [
    "# 이너시아 전체 평점에 대한 각 점수별 평점 비율\n",
    "# 3점, 2점, 1점이 몇%인"
   ]
  },
  {
   "cell_type": "code",
   "execution_count": 189,
   "id": "e91071d2-241e-4a02-bd65-76a152ff9e98",
   "metadata": {
    "tags": []
   },
   "outputs": [],
   "source": [
    "innersia = df[df[\"brand_name\"]=='이너시아'][[\"absorption_encoded\", \"stimulation_encoded\", \"texture_encoded\"]]"
   ]
  },
  {
   "cell_type": "code",
   "execution_count": 190,
   "id": "8b12e5e3-9cdd-44a2-a8c6-e0cc4bfcdd30",
   "metadata": {
    "tags": []
   },
   "outputs": [
    {
     "data": {
      "text/html": [
       "<div>\n",
       "<style scoped>\n",
       "    .dataframe tbody tr th:only-of-type {\n",
       "        vertical-align: middle;\n",
       "    }\n",
       "\n",
       "    .dataframe tbody tr th {\n",
       "        vertical-align: top;\n",
       "    }\n",
       "\n",
       "    .dataframe thead th {\n",
       "        text-align: right;\n",
       "    }\n",
       "</style>\n",
       "<table border=\"1\" class=\"dataframe\">\n",
       "  <thead>\n",
       "    <tr style=\"text-align: right;\">\n",
       "      <th></th>\n",
       "      <th>absorption_encoded</th>\n",
       "      <th>stimulation_encoded</th>\n",
       "      <th>texture_encoded</th>\n",
       "    </tr>\n",
       "  </thead>\n",
       "  <tbody>\n",
       "    <tr>\n",
       "      <th>2896</th>\n",
       "      <td>3.0</td>\n",
       "      <td>3.0</td>\n",
       "      <td>3.0</td>\n",
       "    </tr>\n",
       "    <tr>\n",
       "      <th>2897</th>\n",
       "      <td>3.0</td>\n",
       "      <td>3.0</td>\n",
       "      <td>3.0</td>\n",
       "    </tr>\n",
       "    <tr>\n",
       "      <th>2898</th>\n",
       "      <td>3.0</td>\n",
       "      <td>3.0</td>\n",
       "      <td>3.0</td>\n",
       "    </tr>\n",
       "    <tr>\n",
       "      <th>2899</th>\n",
       "      <td>2.0</td>\n",
       "      <td>2.0</td>\n",
       "      <td>2.0</td>\n",
       "    </tr>\n",
       "    <tr>\n",
       "      <th>2900</th>\n",
       "      <td>3.0</td>\n",
       "      <td>3.0</td>\n",
       "      <td>3.0</td>\n",
       "    </tr>\n",
       "    <tr>\n",
       "      <th>...</th>\n",
       "      <td>...</td>\n",
       "      <td>...</td>\n",
       "      <td>...</td>\n",
       "    </tr>\n",
       "    <tr>\n",
       "      <th>3890</th>\n",
       "      <td>3.0</td>\n",
       "      <td>2.0</td>\n",
       "      <td>2.0</td>\n",
       "    </tr>\n",
       "    <tr>\n",
       "      <th>3891</th>\n",
       "      <td>3.0</td>\n",
       "      <td>3.0</td>\n",
       "      <td>3.0</td>\n",
       "    </tr>\n",
       "    <tr>\n",
       "      <th>3892</th>\n",
       "      <td>3.0</td>\n",
       "      <td>3.0</td>\n",
       "      <td>3.0</td>\n",
       "    </tr>\n",
       "    <tr>\n",
       "      <th>3893</th>\n",
       "      <td>3.0</td>\n",
       "      <td>3.0</td>\n",
       "      <td>3.0</td>\n",
       "    </tr>\n",
       "    <tr>\n",
       "      <th>3894</th>\n",
       "      <td>2.0</td>\n",
       "      <td>2.0</td>\n",
       "      <td>2.0</td>\n",
       "    </tr>\n",
       "  </tbody>\n",
       "</table>\n",
       "<p>999 rows × 3 columns</p>\n",
       "</div>"
      ],
      "text/plain": [
       "      absorption_encoded  stimulation_encoded  texture_encoded\n",
       "2896                 3.0                  3.0              3.0\n",
       "2897                 3.0                  3.0              3.0\n",
       "2898                 3.0                  3.0              3.0\n",
       "2899                 2.0                  2.0              2.0\n",
       "2900                 3.0                  3.0              3.0\n",
       "...                  ...                  ...              ...\n",
       "3890                 3.0                  2.0              2.0\n",
       "3891                 3.0                  3.0              3.0\n",
       "3892                 3.0                  3.0              3.0\n",
       "3893                 3.0                  3.0              3.0\n",
       "3894                 2.0                  2.0              2.0\n",
       "\n",
       "[999 rows x 3 columns]"
      ]
     },
     "execution_count": 190,
     "metadata": {},
     "output_type": "execute_result"
    }
   ],
   "source": [
    "innersia"
   ]
  },
  {
   "cell_type": "markdown",
   "id": "520fbfef-547a-41c6-9b5e-7a8c2d40656a",
   "metadata": {},
   "source": [
    "#### 흡수력 각 점수 비율"
   ]
  },
  {
   "cell_type": "code",
   "execution_count": 214,
   "id": "cec57bcb-bba2-4d92-a5f6-effdcbad14bd",
   "metadata": {
    "tags": []
   },
   "outputs": [
    {
     "name": "stdout",
     "output_type": "stream",
     "text": [
      "The ratio of absorption_encoded being 3 for 이너시아: 80.48%\n"
     ]
    }
   ],
   "source": [
    "# \"brand_name\"이 '이너시아'이고, \"absorption_encoded\" 값이 3인 행들을 선택합니다.\n",
    "innersia_3 = df[(df[\"brand_name\"] == '이너시아') & (df[\"absorption_encoded\"] == 3.0)]\n",
    "\n",
    "# 선택된 행들 중 \"absorption_encoded\" 값이 3인 비율을 계산합니다.\n",
    "innersia_3_ratio = len(innersia_3) / len(df[df[\"brand_name\"] == '이너시아'])\n",
    "\n",
    "print(f\"The ratio of absorption_encoded being 3 for 이너시아: {innersia_3_ratio:.2%}\")"
   ]
  },
  {
   "cell_type": "code",
   "execution_count": 216,
   "id": "06c814d4-9a48-496b-b8b3-384baa683aa8",
   "metadata": {
    "tags": []
   },
   "outputs": [
    {
     "name": "stdout",
     "output_type": "stream",
     "text": [
      "The ratio of absorption_encoded being 2 for 이너시아: 19.32%\n"
     ]
    }
   ],
   "source": [
    "innersia_2 = df[(df[\"brand_name\"] == '이너시아') & (df[\"absorption_encoded\"] == 2.0)]\n",
    "innersia_2_ratio = len(innersia_2) / len(df[df[\"brand_name\"] == '이너시아'])\n",
    "\n",
    "print(f\"The ratio of absorption_encoded being 2 for 이너시아: {innersia_2_ratio:.2%}\")"
   ]
  },
  {
   "cell_type": "code",
   "execution_count": 217,
   "id": "b9b2ce1b-1764-4711-9cb5-9248b555ef56",
   "metadata": {
    "tags": []
   },
   "outputs": [
    {
     "name": "stdout",
     "output_type": "stream",
     "text": [
      "The ratio of absorption_encoded being 1 for 이너시아: 0.20%\n"
     ]
    }
   ],
   "source": [
    "innersia_1 = df[(df[\"brand_name\"] == '이너시아') & (df[\"absorption_encoded\"] == 1.0)]\n",
    "innersia_1_ratio = len(innersia_1) / len(df[df[\"brand_name\"] == '이너시아'])\n",
    "\n",
    "print(f\"The ratio of absorption_encoded being 1 for 이너시아: {innersia_1_ratio:.2%}\")"
   ]
  },
  {
   "cell_type": "code",
   "execution_count": 219,
   "id": "dee736da-c83e-4046-9d9a-98f07803d271",
   "metadata": {
    "tags": []
   },
   "outputs": [
    {
     "name": "stdout",
     "output_type": "stream",
     "text": [
      "The ratio of absorption_encoded being 3 for 좋은느낌: 71.30%\n"
     ]
    }
   ],
   "source": [
    "# \"brand_name\"이 '좋은느낌'이고, \"absorption_encoded\" 값이 3인 행들을 선택합니다.\n",
    "feelgood_pad_3 = df[(df[\"brand_name\"] == '좋은느낌') & (df[\"absorption_encoded\"] == 3.0) & (df[\"sanitary_type\"] == \"pad\")]\n",
    "\n",
    "# 선택된 행들 중 \"absorption_encoded\" 값이 3인 비율을 계산합니다.\n",
    "feelgood_pad_3_ratio = (len(feelgood_pad_3) / len(df[(df[\"brand_name\"] == '좋은느낌') & (df[\"sanitary_type\"]==\"pad\")]))\n",
    "\n",
    "print(f\"The ratio of absorption_encoded being 3 for 좋은느낌: {absorption_3_ratio:.2%}\")"
   ]
  },
  {
   "cell_type": "code",
   "execution_count": 221,
   "id": "fa0ee426-a42e-4ac0-a131-2839b9099fc0",
   "metadata": {
    "tags": []
   },
   "outputs": [
    {
     "name": "stdout",
     "output_type": "stream",
     "text": [
      "The ratio of absorption_encoded being 2 for 좋은느낌: 19.32%\n"
     ]
    }
   ],
   "source": [
    "feelgood_pad_2 = df[(df[\"brand_name\"] == '좋은느낌') & (df[\"absorption_encoded\"] == 2.0) & (df[\"sanitary_type\"] == \"pad\")]\n",
    "feelgood_pad_2_ratio = (len(feelgood_pad_2) / len(df[(df[\"brand_name\"] == '좋은느낌') & (df[\"sanitary_type\"]==\"pad\")]))\n",
    "\n",
    "print(f\"The ratio of absorption_encoded being 2 for 좋은느낌: {absorption_2_ratio:.2%}\")"
   ]
  },
  {
   "cell_type": "code",
   "execution_count": 222,
   "id": "1d01961d-32d9-4087-8df0-6022657cf128",
   "metadata": {
    "tags": []
   },
   "outputs": [
    {
     "name": "stdout",
     "output_type": "stream",
     "text": [
      "The ratio of absorption_encoded being 1 for 좋은느낌: 0.56%\n"
     ]
    }
   ],
   "source": [
    "feelgood_pad_1 = df[(df[\"brand_name\"] == '좋은느낌') & (df[\"absorption_encoded\"] == 1.0) & (df[\"sanitary_type\"] == \"pad\")]\n",
    "feelgood_pad_1_ratio = (len(feelgood_pad_1) / len(df[(df[\"brand_name\"] == '좋은느낌') & (df[\"sanitary_type\"]==\"pad\")]))\n",
    "\n",
    "print(f\"The ratio of absorption_encoded being 1 for 좋은느낌: {feelgood_pad_1_ratio:.2%}\")"
   ]
  },
  {
   "cell_type": "code",
   "execution_count": 235,
   "id": "7a61bad4-5bd3-4be3-9c76-8e95b5847a4f",
   "metadata": {
    "tags": []
   },
   "outputs": [],
   "source": [
    "absorption_ratio_df = pd.DataFrame()\n",
    "absorption_ratio_df['pad_brand'] = ['이너시아','좋은느낌']\n",
    "absorption_ratio_df['흡수_3점 비율'] = [innersia_3_ratio * 100, feelgood_pad_3_ratio * 100]\n",
    "absorption_ratio_df['흡수_2점 비율'] = [innersia_2_ratio * 100, feelgood_pad_2_ratio * 100]\n",
    "absorption_ratio_df['흡수_1점 비율'] = [innersia_1_ratio * 100, feelgood_pad_1_ratio * 100]\n"
   ]
  },
  {
   "cell_type": "code",
   "execution_count": 236,
   "id": "063f7810-4c1a-44a0-8e8c-ed7f60869eb1",
   "metadata": {
    "tags": []
   },
   "outputs": [
    {
     "data": {
      "text/html": [
       "<div>\n",
       "<style scoped>\n",
       "    .dataframe tbody tr th:only-of-type {\n",
       "        vertical-align: middle;\n",
       "    }\n",
       "\n",
       "    .dataframe tbody tr th {\n",
       "        vertical-align: top;\n",
       "    }\n",
       "\n",
       "    .dataframe thead th {\n",
       "        text-align: right;\n",
       "    }\n",
       "</style>\n",
       "<table border=\"1\" class=\"dataframe\">\n",
       "  <thead>\n",
       "    <tr style=\"text-align: right;\">\n",
       "      <th></th>\n",
       "      <th>pad_brand</th>\n",
       "      <th>흡수_3점 비율</th>\n",
       "      <th>흡수_2점 비율</th>\n",
       "      <th>흡수_1점 비율</th>\n",
       "    </tr>\n",
       "  </thead>\n",
       "  <tbody>\n",
       "    <tr>\n",
       "      <th>0</th>\n",
       "      <td>이너시아</td>\n",
       "      <td>83.783784</td>\n",
       "      <td>16.016016</td>\n",
       "      <td>0.200200</td>\n",
       "    </tr>\n",
       "    <tr>\n",
       "      <th>1</th>\n",
       "      <td>좋은느낌</td>\n",
       "      <td>71.562964</td>\n",
       "      <td>27.578808</td>\n",
       "      <td>0.775706</td>\n",
       "    </tr>\n",
       "  </tbody>\n",
       "</table>\n",
       "</div>"
      ],
      "text/plain": [
       "  pad_brand   흡수_3점 비율   흡수_2점 비율  흡수_1점 비율\n",
       "0      이너시아  83.783784  16.016016  0.200200\n",
       "1      좋은느낌  71.562964  27.578808  0.775706"
      ]
     },
     "execution_count": 236,
     "metadata": {},
     "output_type": "execute_result"
    }
   ],
   "source": [
    "absorption_ratio_df"
   ]
  },
  {
   "cell_type": "markdown",
   "id": "0335470b-d43b-484f-82e6-9f583a702e04",
   "metadata": {},
   "source": [
    "#### 자극 각 점수별 비율"
   ]
  },
  {
   "cell_type": "code",
   "execution_count": 228,
   "id": "0641a498-4558-4498-be09-91cd620b9767",
   "metadata": {
    "tags": []
   },
   "outputs": [
    {
     "name": "stdout",
     "output_type": "stream",
     "text": [
      "The ratio of stimulation_encoded being 3 for 이너시아: 83.78%\n"
     ]
    }
   ],
   "source": [
    "# \"brand_name\"이 '이너시아'이고, \"stimulation_encoded\" 값이 3인 행들을 선택합니다.\n",
    "innersia_3 = df[(df[\"brand_name\"] == '이너시아') & (df[\"stimulation_encoded\"] == 3.0)]\n",
    "\n",
    "# 선택된 행들 중 \"absorption_encoded\" 값이 3인 비율을 계산합니다.\n",
    "innersia_3_ratio = len(innersia_3) / len(df[df[\"brand_name\"] == '이너시아'])\n",
    "\n",
    "print(f\"The ratio of stimulation_encoded being 3 for 이너시아: {innersia_3_ratio:.2%}\")"
   ]
  },
  {
   "cell_type": "code",
   "execution_count": 230,
   "id": "077a5ed6-a389-4d67-ab80-c54226c00bb0",
   "metadata": {
    "tags": []
   },
   "outputs": [
    {
     "name": "stdout",
     "output_type": "stream",
     "text": [
      "The ratio of stimulation_encoded being 2 for 이너시아: 16.02%\n"
     ]
    }
   ],
   "source": [
    "innersia_2 = df[(df[\"brand_name\"] == '이너시아') & (df[\"stimulation_encoded\"] == 2.0)]\n",
    "innersia_2_ratio = len(innersia_2) / len(df[df[\"brand_name\"] == '이너시아'])\n",
    "\n",
    "print(f\"The ratio of stimulation_encoded being 2 for 이너시아: {innersia_2_ratio:.2%}\")"
   ]
  },
  {
   "cell_type": "code",
   "execution_count": 231,
   "id": "456066a5-6e03-4cd0-86d5-1e5b9547cd3b",
   "metadata": {
    "tags": []
   },
   "outputs": [
    {
     "name": "stdout",
     "output_type": "stream",
     "text": [
      "The ratio of stimulation_encoded being 1 for 이너시아: 0.20%\n"
     ]
    }
   ],
   "source": [
    "innersia_1 = df[(df[\"brand_name\"] == '이너시아') & (df[\"stimulation_encoded\"] == 1.0)]\n",
    "innersia_1_ratio = len(innersia_1) / len(df[df[\"brand_name\"] == '이너시아'])\n",
    "\n",
    "print(f\"The ratio of stimulation_encoded being 1 for 이너시아: {innersia_1_ratio:.2%}\")"
   ]
  },
  {
   "cell_type": "code",
   "execution_count": 232,
   "id": "fb788c3a-9afd-446f-9fa2-cb07d4e0d9bc",
   "metadata": {
    "tags": []
   },
   "outputs": [
    {
     "name": "stdout",
     "output_type": "stream",
     "text": [
      "The ratio of stimulation_encoded being 3 for 좋은느낌: 71.30%\n"
     ]
    }
   ],
   "source": [
    "# \"brand_name\"이 '좋은느낌'이고, \"stimulation_encoded\" 값이 3인 행들을 선택합니다.\n",
    "feelgood_pad_3 = df[(df[\"brand_name\"] == '좋은느낌') & (df[\"stimulation_encoded\"] == 3.0) & (df[\"sanitary_type\"] == \"pad\")]\n",
    "\n",
    "# 선택된 행들 중 \"absorption_encoded\" 값이 3인 비율을 계산합니다.\n",
    "feelgood_pad_3_ratio = (len(feelgood_pad_3) / len(df[(df[\"brand_name\"] == '좋은느낌') & (df[\"sanitary_type\"]==\"pad\")]))\n",
    "\n",
    "print(f\"The ratio of stimulation_encoded being 3 for 좋은느낌: {absorption_3_ratio:.2%}\")"
   ]
  },
  {
   "cell_type": "code",
   "execution_count": 233,
   "id": "8a582051-d9a7-4262-a0a4-bd9d12d61e2d",
   "metadata": {
    "tags": []
   },
   "outputs": [
    {
     "name": "stdout",
     "output_type": "stream",
     "text": [
      "The ratio of stimulation_encoded being 2 for 좋은느낌: 19.32%\n"
     ]
    }
   ],
   "source": [
    "feelgood_pad_2 = df[(df[\"brand_name\"] == '좋은느낌') & (df[\"stimulation_encoded\"] == 2.0) & (df[\"sanitary_type\"] == \"pad\")]\n",
    "feelgood_pad_2_ratio = (len(feelgood_pad_2) / len(df[(df[\"brand_name\"] == '좋은느낌') & (df[\"sanitary_type\"]==\"pad\")]))\n",
    "\n",
    "print(f\"The ratio of stimulation_encoded being 2 for 좋은느낌: {absorption_2_ratio:.2%}\")"
   ]
  },
  {
   "cell_type": "code",
   "execution_count": 234,
   "id": "545ebf42-383b-4d54-8b30-429ad76fb7b0",
   "metadata": {
    "tags": []
   },
   "outputs": [
    {
     "name": "stdout",
     "output_type": "stream",
     "text": [
      "The ratio of stimulation_encoded being 1 for 좋은느낌: 0.78%\n"
     ]
    }
   ],
   "source": [
    "feelgood_pad_1 = df[(df[\"brand_name\"] == '좋은느낌') & (df[\"stimulation_encoded\"] == 1.0) & (df[\"sanitary_type\"] == \"pad\")]\n",
    "feelgood_pad_1_ratio = (len(feelgood_pad_1) / len(df[(df[\"brand_name\"] == '좋은느낌') & (df[\"sanitary_type\"]==\"pad\")]))\n",
    "\n",
    "print(f\"The ratio of stimulation_encoded being 1 for 좋은느낌: {feelgood_pad_1_ratio:.2%}\")"
   ]
  },
  {
   "cell_type": "code",
   "execution_count": 238,
   "id": "2a627864-fc9f-463e-8cab-9d6d5262d2d9",
   "metadata": {
    "tags": []
   },
   "outputs": [],
   "source": [
    "stimulation_ratio_df = pd.DataFrame()\n",
    "stimulation_ratio_df['pad_brand'] = ['이너시아','좋은느낌']\n",
    "stimulation_ratio_df['자극_3점 비율'] = [innersia_3_ratio * 100, feelgood_pad_3_ratio * 100]\n",
    "stimulation_ratio_df['자극_2점 비율'] = [innersia_2_ratio * 100, feelgood_pad_2_ratio * 100]\n",
    "stimulation_ratio_df['자극_1점 비율'] = [innersia_1_ratio * 100, feelgood_pad_1_ratio * 100]"
   ]
  },
  {
   "cell_type": "code",
   "execution_count": 239,
   "id": "84a02adb-ff15-4caa-92a3-0683a5f97767",
   "metadata": {
    "tags": []
   },
   "outputs": [
    {
     "data": {
      "text/html": [
       "<div>\n",
       "<style scoped>\n",
       "    .dataframe tbody tr th:only-of-type {\n",
       "        vertical-align: middle;\n",
       "    }\n",
       "\n",
       "    .dataframe tbody tr th {\n",
       "        vertical-align: top;\n",
       "    }\n",
       "\n",
       "    .dataframe thead th {\n",
       "        text-align: right;\n",
       "    }\n",
       "</style>\n",
       "<table border=\"1\" class=\"dataframe\">\n",
       "  <thead>\n",
       "    <tr style=\"text-align: right;\">\n",
       "      <th></th>\n",
       "      <th>pad_brand</th>\n",
       "      <th>자극_3점 비율</th>\n",
       "      <th>자극_2점 비율</th>\n",
       "      <th>자극_1점 비율</th>\n",
       "    </tr>\n",
       "  </thead>\n",
       "  <tbody>\n",
       "    <tr>\n",
       "      <th>0</th>\n",
       "      <td>이너시아</td>\n",
       "      <td>83.783784</td>\n",
       "      <td>16.016016</td>\n",
       "      <td>0.200200</td>\n",
       "    </tr>\n",
       "    <tr>\n",
       "      <th>1</th>\n",
       "      <td>좋은느낌</td>\n",
       "      <td>71.562964</td>\n",
       "      <td>27.578808</td>\n",
       "      <td>0.775706</td>\n",
       "    </tr>\n",
       "  </tbody>\n",
       "</table>\n",
       "</div>"
      ],
      "text/plain": [
       "  pad_brand   자극_3점 비율   자극_2점 비율  자극_1점 비율\n",
       "0      이너시아  83.783784  16.016016  0.200200\n",
       "1      좋은느낌  71.562964  27.578808  0.775706"
      ]
     },
     "execution_count": 239,
     "metadata": {},
     "output_type": "execute_result"
    }
   ],
   "source": [
    "stimulation_ratio_df"
   ]
  },
  {
   "cell_type": "markdown",
   "id": "69baa49a-28c8-48b8-9738-e38d3feb9190",
   "metadata": {},
   "source": [
    "#### 촉감 각 점수별 비율"
   ]
  },
  {
   "cell_type": "code",
   "execution_count": 240,
   "id": "c0fc2861-4557-4bd2-9721-cf727dfab8c3",
   "metadata": {
    "tags": []
   },
   "outputs": [
    {
     "name": "stdout",
     "output_type": "stream",
     "text": [
      "The ratio of texture_encoded being 3 for 이너시아: 81.48%\n"
     ]
    }
   ],
   "source": [
    "# \"brand_name\"이 '이너시아'이고, \"stimulation_encoded\" 값이 3인 행들을 선택합니다.\n",
    "innersia_3 = df[(df[\"brand_name\"] == '이너시아') & (df[\"texture_encoded\"] == 3.0)]\n",
    "\n",
    "# 선택된 행들 중 \"absorption_encoded\" 값이 3인 비율을 계산합니다.\n",
    "innersia_3_ratio = len(innersia_3) / len(df[df[\"brand_name\"] == '이너시아'])\n",
    "\n",
    "print(f\"The ratio of texture_encoded being 3 for 이너시아: {innersia_3_ratio:.2%}\")"
   ]
  },
  {
   "cell_type": "code",
   "execution_count": 241,
   "id": "0c902e4a-3451-4235-9539-aa6e01f7bf0c",
   "metadata": {
    "tags": []
   },
   "outputs": [
    {
     "name": "stdout",
     "output_type": "stream",
     "text": [
      "The ratio of texture_encoded being 2 for 이너시아: 18.42%\n"
     ]
    }
   ],
   "source": [
    "innersia_2 = df[(df[\"brand_name\"] == '이너시아') & (df[\"texture_encoded\"] == 2.0)]\n",
    "innersia_2_ratio = len(innersia_2) / len(df[df[\"brand_name\"] == '이너시아'])\n",
    "\n",
    "print(f\"The ratio of texture_encoded being 2 for 이너시아: {innersia_2_ratio:.2%}\")"
   ]
  },
  {
   "cell_type": "code",
   "execution_count": 242,
   "id": "8db159eb-a67d-4b94-bf14-949c0bfd5062",
   "metadata": {
    "tags": []
   },
   "outputs": [
    {
     "name": "stdout",
     "output_type": "stream",
     "text": [
      "The ratio of texture_encoded being 1 for 이너시아: 0.10%\n"
     ]
    }
   ],
   "source": [
    "innersia_1 = df[(df[\"brand_name\"] == '이너시아') & (df[\"texture_encoded\"] == 1.0)]\n",
    "innersia_1_ratio = len(innersia_1) / len(df[df[\"brand_name\"] == '이너시아'])\n",
    "\n",
    "print(f\"The ratio of texture_encoded being 1 for 이너시아: {innersia_1_ratio:.2%}\")"
   ]
  },
  {
   "cell_type": "code",
   "execution_count": 243,
   "id": "e6a3265c-74ba-4a94-9b36-038a9de985e0",
   "metadata": {
    "tags": []
   },
   "outputs": [
    {
     "name": "stdout",
     "output_type": "stream",
     "text": [
      "The ratio of texture_encoded being 3 for 좋은느낌: 71.30%\n"
     ]
    }
   ],
   "source": [
    "# \"brand_name\"이 '좋은느낌'이고, \"stimulation_encoded\" 값이 3인 행들을 선택합니다.\n",
    "feelgood_pad_3 = df[(df[\"brand_name\"] == '좋은느낌') & (df[\"texture_encoded\"] == 3.0) & (df[\"sanitary_type\"] == \"pad\")]\n",
    "\n",
    "# 선택된 행들 중 \"absorption_encoded\" 값이 3인 비율을 계산합니다.\n",
    "feelgood_pad_3_ratio = (len(feelgood_pad_3) / len(df[(df[\"brand_name\"] == '좋은느낌') & (df[\"sanitary_type\"]==\"pad\")]))\n",
    "\n",
    "print(f\"The ratio of texture_encoded being 3 for 좋은느낌: {absorption_3_ratio:.2%}\")"
   ]
  },
  {
   "cell_type": "code",
   "execution_count": 244,
   "id": "984e3cf0-7479-4cc5-9732-d4b75ca63c46",
   "metadata": {
    "tags": []
   },
   "outputs": [
    {
     "name": "stdout",
     "output_type": "stream",
     "text": [
      "The ratio of texture_encoded being 2 for 좋은느낌: 19.32%\n"
     ]
    }
   ],
   "source": [
    "feelgood_pad_2 = df[(df[\"brand_name\"] == '좋은느낌') & (df[\"texture_encoded\"] == 2.0) & (df[\"sanitary_type\"] == \"pad\")]\n",
    "feelgood_pad_2_ratio = (len(feelgood_pad_2) / len(df[(df[\"brand_name\"] == '좋은느낌') & (df[\"sanitary_type\"]==\"pad\")]))\n",
    "\n",
    "print(f\"The ratio of texture_encoded being 2 for 좋은느낌: {absorption_2_ratio:.2%}\")"
   ]
  },
  {
   "cell_type": "code",
   "execution_count": 245,
   "id": "a9f431e9-ae01-41f8-84e5-ba0f94f6176e",
   "metadata": {
    "tags": []
   },
   "outputs": [
    {
     "name": "stdout",
     "output_type": "stream",
     "text": [
      "The ratio of texture_encoded being 1 for 좋은느낌: 0.40%\n"
     ]
    }
   ],
   "source": [
    "feelgood_pad_1 = df[(df[\"brand_name\"] == '좋은느낌') & (df[\"texture_encoded\"] == 1.0) & (df[\"sanitary_type\"] == \"pad\")]\n",
    "feelgood_pad_1_ratio = (len(feelgood_pad_1) / len(df[(df[\"brand_name\"] == '좋은느낌') & (df[\"sanitary_type\"]==\"pad\")]))\n",
    "\n",
    "print(f\"The ratio of texture_encoded being 1 for 좋은느낌: {feelgood_pad_1_ratio:.2%}\")"
   ]
  },
  {
   "cell_type": "code",
   "execution_count": 246,
   "id": "34bf8555-689a-4b4c-985f-e6372ebf62f7",
   "metadata": {
    "tags": []
   },
   "outputs": [],
   "source": [
    "texture_ratio_df = pd.DataFrame()\n",
    "texture_ratio_df['pad_brand'] = ['이너시아','좋은느낌']\n",
    "texture_ratio_df['촉감_3점 비율'] = [innersia_3_ratio * 100, feelgood_pad_3_ratio * 100]\n",
    "texture_ratio_df['촉감_2점 비율'] = [innersia_2_ratio * 100, feelgood_pad_2_ratio * 100]\n",
    "texture_ratio_df['촉감_1점 비율'] = [innersia_1_ratio * 100, feelgood_pad_1_ratio * 100]"
   ]
  },
  {
   "cell_type": "code",
   "execution_count": 247,
   "id": "2e9eba46-ce64-49e0-ac7b-03bb075c9984",
   "metadata": {
    "tags": []
   },
   "outputs": [
    {
     "data": {
      "text/html": [
       "<div>\n",
       "<style scoped>\n",
       "    .dataframe tbody tr th:only-of-type {\n",
       "        vertical-align: middle;\n",
       "    }\n",
       "\n",
       "    .dataframe tbody tr th {\n",
       "        vertical-align: top;\n",
       "    }\n",
       "\n",
       "    .dataframe thead th {\n",
       "        text-align: right;\n",
       "    }\n",
       "</style>\n",
       "<table border=\"1\" class=\"dataframe\">\n",
       "  <thead>\n",
       "    <tr style=\"text-align: right;\">\n",
       "      <th></th>\n",
       "      <th>pad_brand</th>\n",
       "      <th>촉감_3점 비율</th>\n",
       "      <th>촉감_2점 비율</th>\n",
       "      <th>촉감_1점 비율</th>\n",
       "    </tr>\n",
       "  </thead>\n",
       "  <tbody>\n",
       "    <tr>\n",
       "      <th>0</th>\n",
       "      <td>이너시아</td>\n",
       "      <td>81.481481</td>\n",
       "      <td>18.418418</td>\n",
       "      <td>0.100100</td>\n",
       "    </tr>\n",
       "    <tr>\n",
       "      <th>1</th>\n",
       "      <td>좋은느낌</td>\n",
       "      <td>70.044562</td>\n",
       "      <td>29.443803</td>\n",
       "      <td>0.396105</td>\n",
       "    </tr>\n",
       "  </tbody>\n",
       "</table>\n",
       "</div>"
      ],
      "text/plain": [
       "  pad_brand   촉감_3점 비율   촉감_2점 비율  촉감_1점 비율\n",
       "0      이너시아  81.481481  18.418418  0.100100\n",
       "1      좋은느낌  70.044562  29.443803  0.396105"
      ]
     },
     "execution_count": 247,
     "metadata": {},
     "output_type": "execute_result"
    }
   ],
   "source": [
    "texture_ratio_df"
   ]
  },
  {
   "cell_type": "code",
   "execution_count": null,
   "id": "dca59253-b321-4583-b787-a64138446b8e",
   "metadata": {},
   "outputs": [],
   "source": []
  },
  {
   "cell_type": "markdown",
   "id": "20f1b014-b0f0-42d1-b322-1874b45da693",
   "metadata": {
    "tags": []
   },
   "source": [
    "# 가설3) 해피문데이 vs 템포 평균 만족도 비교\n",
    "- 해피문데이 평균 점수가 템포 평균 점수보다 통계적으로 높은지 t-test로 검정"
   ]
  },
  {
   "cell_type": "code",
   "execution_count": 266,
   "id": "25c76193-6207-42b4-8324-298123273c1f",
   "metadata": {
    "tags": []
   },
   "outputs": [],
   "source": [
    "filtered_brand = df[(df[\"brand_name\"].isin([\"템포\", \"해피문데이\"])) & (df[\"sanitary_type\"]==\"tampon\")]\n",
    "# filtered_brand"
   ]
  },
  {
   "cell_type": "markdown",
   "id": "588ac65a-5fc9-4524-a6cf-58f8a36bfca2",
   "metadata": {},
   "source": [
    "#### 등분산 검정\n",
    "- H0: 이분산\n",
    "- H1: 등분산"
   ]
  },
  {
   "cell_type": "code",
   "execution_count": 278,
   "id": "09db55ee-0cba-404c-a938-f3b9b27bd4ae",
   "metadata": {
    "tags": []
   },
   "outputs": [
    {
     "data": {
      "text/html": [
       "<div>\n",
       "<style scoped>\n",
       "    .dataframe tbody tr th:only-of-type {\n",
       "        vertical-align: middle;\n",
       "    }\n",
       "\n",
       "    .dataframe tbody tr th {\n",
       "        vertical-align: top;\n",
       "    }\n",
       "\n",
       "    .dataframe thead th {\n",
       "        text-align: right;\n",
       "    }\n",
       "</style>\n",
       "<table border=\"1\" class=\"dataframe\">\n",
       "  <thead>\n",
       "    <tr style=\"text-align: right;\">\n",
       "      <th></th>\n",
       "      <th>item_number</th>\n",
       "      <th>brand_name</th>\n",
       "      <th>sanitary_type</th>\n",
       "      <th>item_option</th>\n",
       "      <th>review_content</th>\n",
       "      <th>absorption_encoded</th>\n",
       "      <th>stimulation_encoded</th>\n",
       "      <th>texture_encoded</th>\n",
       "      <th>nouns</th>\n",
       "      <th>avg</th>\n",
       "    </tr>\n",
       "  </thead>\n",
       "  <tbody>\n",
       "    <tr>\n",
       "      <th>0</th>\n",
       "      <td>A000000191350</td>\n",
       "      <td>마리솜</td>\n",
       "      <td>pad</td>\n",
       "      <td></td>\n",
       "      <td>너무 귀여워서 살수 밖에 없었어요 사실 쿠로미 가지고싶었는데 마멜 당첨 됬지만 너무...</td>\n",
       "      <td>3.0</td>\n",
       "      <td>2.0</td>\n",
       "      <td>3.0</td>\n",
       "      <td>['너무', '귀엽', '살수', '밖', '없', '사실', '쿠로미', '마멜'...</td>\n",
       "      <td>2.666667</td>\n",
       "    </tr>\n",
       "    <tr>\n",
       "      <th>1</th>\n",
       "      <td>A000000191350</td>\n",
       "      <td>마리솜</td>\n",
       "      <td>pad</td>\n",
       "      <td></td>\n",
       "      <td>종류별로 다양하게 담겨있어서 좋아요  오버나이트가 급히 필요해서 뜯어 써봤는데 진짜...</td>\n",
       "      <td>2.0</td>\n",
       "      <td>3.0</td>\n",
       "      <td>2.0</td>\n",
       "      <td>['종류', '다양', '좋', '오버나이트', '급히', '필요', '진짜', '...</td>\n",
       "      <td>2.333333</td>\n",
       "    </tr>\n",
       "  </tbody>\n",
       "</table>\n",
       "</div>"
      ],
      "text/plain": [
       "     item_number brand_name sanitary_type item_option  \\\n",
       "0  A000000191350        마리솜           pad               \n",
       "1  A000000191350        마리솜           pad               \n",
       "\n",
       "                                      review_content  absorption_encoded  \\\n",
       "0  너무 귀여워서 살수 밖에 없었어요 사실 쿠로미 가지고싶었는데 마멜 당첨 됬지만 너무...                 3.0   \n",
       "1  종류별로 다양하게 담겨있어서 좋아요  오버나이트가 급히 필요해서 뜯어 써봤는데 진짜...                 2.0   \n",
       "\n",
       "   stimulation_encoded  texture_encoded  \\\n",
       "0                  2.0              3.0   \n",
       "1                  3.0              2.0   \n",
       "\n",
       "                                               nouns       avg  \n",
       "0  ['너무', '귀엽', '살수', '밖', '없', '사실', '쿠로미', '마멜'...  2.666667  \n",
       "1  ['종류', '다양', '좋', '오버나이트', '급히', '필요', '진짜', '...  2.333333  "
      ]
     },
     "execution_count": 278,
     "metadata": {},
     "output_type": "execute_result"
    }
   ],
   "source": [
    "df.head(2)"
   ]
  },
  {
   "cell_type": "code",
   "execution_count": 281,
   "id": "fcf555dd-4cc1-4bc1-ad2c-8b09a2710a02",
   "metadata": {
    "tags": []
   },
   "outputs": [
    {
     "data": {
      "text/plain": [
       "item_number            0\n",
       "brand_name             0\n",
       "sanitary_type          0\n",
       "item_option            0\n",
       "review_content         0\n",
       "absorption_encoded     8\n",
       "stimulation_encoded    8\n",
       "texture_encoded        8\n",
       "nouns                  0\n",
       "avg                    8\n",
       "dtype: int64"
      ]
     },
     "execution_count": 281,
     "metadata": {},
     "output_type": "execute_result"
    }
   ],
   "source": [
    "filtered_brand.isnull().sum()"
   ]
  },
  {
   "cell_type": "code",
   "execution_count": 283,
   "id": "985afbfd-38a9-4787-a67a-c7379dabba9c",
   "metadata": {
    "tags": []
   },
   "outputs": [
    {
     "name": "stdout",
     "output_type": "stream",
     "text": [
      "absorption_encoded p-value: 0.0028712477300827173, 이분산 가정 만족\n",
      "stimulation_encoded p-value: 2.4558270157768917e-12, 이분산 가정 만족\n",
      "texture_encoded p-value: 1.4686016370191568e-13, 이분산 가정 만족\n",
      "avg p-value: 4.97774801603303e-11, 이분산 가정 만족\n"
     ]
    }
   ],
   "source": [
    "from scipy import stats\n",
    "\n",
    "test_names = [\"absorption_encoded\", \"stimulation_encoded\", \"texture_encoded\", \"avg\"]\n",
    "\n",
    "tempo_scores = df[(df['brand_name'] == '템포') & (df[\"sanitary_type\"]==\"tampon\")][[\"absorption_encoded\", \"stimulation_encoded\", \"texture_encoded\", \"avg\"]]\n",
    "happymoonday_scores = df[(df['brand_name'] == '해피문데이') & (df[\"sanitary_type\"]==\"tampon\")][[\"absorption_encoded\", \"stimulation_encoded\", \"texture_encoded\", \"avg\"]]\n",
    "\n",
    "for test_name in test_names:\n",
    "    # 결측치를 제거한 후 등분산 검정 수행\n",
    "    tempo_data = tempo_scores[test_name].dropna()\n",
    "    happymoonday_data = happymoonday_scores[test_name].dropna()\n",
    "\n",
    "    _, p_value_levene = stats.levene(tempo_data, happymoonday_data)\n",
    "    if p_value_levene > 0.05:\n",
    "        print(f\"{test_name} p-value: {p_value_levene}, 등분산 가정 만족\")\n",
    "    else:\n",
    "        print(f\"{test_name} p-value: {p_value_levene}, 이분산 가정 만족\")\n",
    "        \n",
    "# 모두 이분산 가정을 만족함"
   ]
  },
  {
   "cell_type": "markdown",
   "id": "a6cbe6cc-4685-4270-bef7-9859d1fc9230",
   "metadata": {},
   "source": [
    "#### t-test 진행\n",
    "- H0: 두 그룹의 평균이 같다.\n",
    "- H1: 해피문데이 평균 점수가 템포 평균 점수보다 높을 것이다."
   ]
  },
  {
   "cell_type": "code",
   "execution_count": 284,
   "id": "530dfa02-5713-4e1a-a4ca-85a99bb12342",
   "metadata": {
    "tags": []
   },
   "outputs": [
    {
     "name": "stdout",
     "output_type": "stream",
     "text": [
      "p-value: [1.36555899e-03 6.32107568e-13 4.08980241e-14 1.56220911e-11]\n",
      "귀무 가설 기각: [ True  True  True  True]\n"
     ]
    }
   ],
   "source": [
    "t_statistic, p_value = stats.ttest_ind(\n",
    "    a=tempo_scores,\n",
    "    b=happymoonday_scores,\n",
    "    alternative=\"less\",    # a < b\n",
    "    equal_var=False,\n",
    "    nan_policy=\"omit\"     # nan값 무시하고 진행\n",
    ")\n",
    "print(f\"p-value: {p_value}\")\n",
    "print(f\"귀무 가설 기각: {p_value < 0.05}\")"
   ]
  },
  {
   "cell_type": "code",
   "execution_count": null,
   "id": "8cc1d731-0ad5-4c6a-83ec-fa049270d6d8",
   "metadata": {},
   "outputs": [],
   "source": []
  },
  {
   "cell_type": "markdown",
   "id": "2da07d40-c7e4-47db-9be6-cc6360be50d6",
   "metadata": {},
   "source": [
    "# 가설4) 해외 브랜드 vs 국내 브랜드"
   ]
  },
  {
   "cell_type": "markdown",
   "id": "ca262ae3-ee28-4894-a8e6-eeb61b293605",
   "metadata": {},
   "source": [
    "#### 가설 4-1) 패드 -> 라엘 vs 유기농분"
   ]
  },
  {
   "cell_type": "code",
   "execution_count": null,
   "id": "4969d00f-da3d-49c2-a2b4-8761e7116e35",
   "metadata": {},
   "outputs": [],
   "source": [
    "# 패드 -> 라엘 vs 유기농분(두 박스 플랏이 같았기 때문)"
   ]
  },
  {
   "cell_type": "code",
   "execution_count": 294,
   "id": "ccdc1aa1-9d8b-4b0a-bbad-8ca32ce80d81",
   "metadata": {
    "tags": []
   },
   "outputs": [],
   "source": [
    "broad_pad = df[(df[\"brand_name\"].isin([\"라엘\", \"유기농분\"])) & (df[\"sanitary_type\"]==\"pad\")]"
   ]
  },
  {
   "cell_type": "code",
   "execution_count": 295,
   "id": "0820341c-bcbb-46fd-9418-0bcb0fc4cde1",
   "metadata": {
    "tags": []
   },
   "outputs": [
    {
     "data": {
      "text/plain": [
       "item_number            0\n",
       "brand_name             0\n",
       "sanitary_type          0\n",
       "item_option            0\n",
       "review_content         0\n",
       "absorption_encoded     0\n",
       "stimulation_encoded    0\n",
       "texture_encoded        0\n",
       "nouns                  0\n",
       "avg                    0\n",
       "dtype: int64"
      ]
     },
     "execution_count": 295,
     "metadata": {},
     "output_type": "execute_result"
    }
   ],
   "source": [
    "broad_pad.isnull().sum()"
   ]
  },
  {
   "cell_type": "markdown",
   "id": "1f39c4e9-d11e-49be-8e7b-993d7ae8e281",
   "metadata": {},
   "source": [
    "#### 등분산 검정\n",
    "- H0: 이분산\n",
    "- H1: 등분산"
   ]
  },
  {
   "cell_type": "code",
   "execution_count": 301,
   "id": "49c44a5d-bb33-4768-8c04-eb3ed1eaa5a3",
   "metadata": {
    "tags": []
   },
   "outputs": [
    {
     "name": "stdout",
     "output_type": "stream",
     "text": [
      "absorption_encoded p-value: 0.09177633440834276, 등분산 가정 만족\n",
      "stimulation_encoded p-value: 0.15070112189900273, 등분산 가정 만족\n",
      "texture_encoded p-value: 0.7778418649152367, 등분산 가정 만족\n",
      "avg p-value: 0.9305102862879744, 등분산 가정 만족\n"
     ]
    }
   ],
   "source": [
    "from scipy import stats\n",
    "\n",
    "test_names = [\"absorption_encoded\", \"stimulation_encoded\", \"texture_encoded\", \"avg\"]\n",
    "\n",
    "rael_scores = df[(df['brand_name'] == '라엘') & (df[\"sanitary_type\"]==\"pad\")][[\"absorption_encoded\", \"stimulation_encoded\", \"texture_encoded\", \"avg\"]]\n",
    "organic_scores = df[(df['brand_name'] == '유기농본') & (df[\"sanitary_type\"]==\"pad\")][[\"absorption_encoded\", \"stimulation_encoded\", \"texture_encoded\", \"avg\"]]\n",
    "\n",
    "for test_name in test_names:\n",
    "    # 결측치를 제거한 후 등분산 검정 수행\n",
    "    rael_data = rael_scores[test_name].dropna()\n",
    "    organic_data = organic_scores[test_name].dropna()\n",
    "\n",
    "    _, p_value_levene = stats.levene(rael_data, organic_data)\n",
    "    if p_value_levene > 0.05:\n",
    "        print(f\"{test_name} p-value: {p_value_levene}, 등분산 가정 만족\")\n",
    "    else:\n",
    "        print(f\"{test_name} p-value: {p_value_levene}, 이분산 가정 만족\")\n",
    "        \n",
    "# 모두 등분산 가정을 만족함"
   ]
  },
  {
   "cell_type": "markdown",
   "id": "a9b05b1d-45a8-4a76-aded-8531598e0bb5",
   "metadata": {
    "tags": []
   },
   "source": [
    "#### t-test 진행\n",
    "- H0: 두 그룹의 평균이 같다.\n",
    "- H1: 라엘 평균 점수가 유기농본 평균 점수보다 높을 것이다."
   ]
  },
  {
   "cell_type": "code",
   "execution_count": 302,
   "id": "a244698d-4fdb-4228-8b26-9aeb02989896",
   "metadata": {
    "tags": []
   },
   "outputs": [
    {
     "name": "stdout",
     "output_type": "stream",
     "text": [
      "p-value: [0.04588817 0.92464944 0.61107907 0.46525514]\n",
      "귀무 가설 기각: [ True False False False]\n"
     ]
    }
   ],
   "source": [
    "t_statistic, p_value = stats.ttest_ind(\n",
    "    a=rael_scores,\n",
    "    b=organic_scores,\n",
    "    alternative=\"greater\",    # a > b\n",
    "    equal_var=True,\n",
    "    nan_policy=\"omit\"     # nan값 무시하고 진행\n",
    ")\n",
    "print(f\"p-value: {p_value}\")\n",
    "print(f\"귀무 가설 기각: {p_value < 0.05}\")"
   ]
  },
  {
   "cell_type": "code",
   "execution_count": null,
   "id": "ed538964-8c0c-4a82-b425-9bdf4dd07d9c",
   "metadata": {},
   "outputs": [],
   "source": [
    "fig, axes = plt.subplots(nrows=1, ncols=3, figsize=(15, 5))\n",
    "\n",
    "df.groupby(\"sanitary_type\")[\"absorption_encoded\"].value_counts().unstack().plot(kind=\"bar\", stacked=False, ax=axes[0])\n",
    "axes[0].set_title(\"Sanitary Type - Absorption\")\n",
    "axes[0].set_xlabel(\"Absorption\")\n",
    "axes[0].set_ylabel(\"Count\")\n",
    "\n",
    "df.groupby(\"sanitary_type\")[\"stimulation_encoded\"].value_counts().unstack().plot(kind=\"bar\", stacked=False, ax=axes[1])\n",
    "axes[1].set_title(\"Sanitary Type - Stimulation\")\n",
    "axes[1].set_xlabel(\"Stimulation\")\n",
    "# axes[1].set_ylabel(\"Count\")\n",
    "\n",
    "df.groupby(\"sanitary_type\")[\"texture_encoded\"].value_counts().unstack().plot(kind=\"bar\", stacked=False, ax=axes[2])\n",
    "axes[2].set_title(\"Sanitary Type - Texture\")\n",
    "axes[2].set_xlabel(\"Texture\")\n",
    "# axes[2].set_ylabel(\"Count\")"
   ]
  },
  {
   "cell_type": "code",
   "execution_count": 308,
   "id": "13c4a213-924a-49dd-ba65-3ca9dc0dfbc0",
   "metadata": {
    "tags": []
   },
   "outputs": [
    {
     "data": {
      "image/png": "[encoded data removed]",
      "text/plain": [
       "<Figure size 640x480 with 1 Axes>"
      ]
     },
     "metadata": {},
     "output_type": "display_data"
    }
   ],
   "source": [
    "import seaborn as sns\n",
    "import matplotlib.pyplot as plt\n",
    "\n",
    "# \"라엘\"과 \"유기농본\" 브랜드의 데이터를 선택합니다.\n",
    "rael_data = df[df['brand_name'] == '라엘']['absorption_encoded']\n",
    "organic_data = df[df['brand_name'] == '유기농본']['absorption_encoded']\n",
    "\n",
    "# 각 브랜드에서 \"absorption_encoded\" 값의 빈도를 계산합니다.\n",
    "rael_counts = rael_data.value_counts().sort_index()\n",
    "organic_counts = organic_data.value_counts().sort_index()\n",
    "\n",
    "# 두 브랜드의 빈도를 하나의 데이터프레임으로 합칩니다.\n",
    "brand_counts = pd.DataFrame({'라엘': rael_counts, '유기농본': organic_counts})\n",
    "\n",
    "# Bar 그래프를 그립니다.\n",
    "brand_counts.T.plot(kind='bar', stacked=False)\n",
    "plt.title('Absorption Encoded Counts by Brand')\n",
    "plt.xlabel('Absorption Encoded')\n",
    "plt.ylabel('Count')\n",
    "plt.show()"
   ]
  },
  {
   "cell_type": "code",
   "execution_count": 306,
   "id": "276f9781-4ed1-4fd0-be02-0f6656daaf58",
   "metadata": {
    "tags": []
   },
   "outputs": [
    {
     "data": {
      "text/html": [
       "<div>\n",
       "<style scoped>\n",
       "    .dataframe tbody tr th:only-of-type {\n",
       "        vertical-align: middle;\n",
       "    }\n",
       "\n",
       "    .dataframe tbody tr th {\n",
       "        vertical-align: top;\n",
       "    }\n",
       "\n",
       "    .dataframe thead th {\n",
       "        text-align: right;\n",
       "    }\n",
       "</style>\n",
       "<table border=\"1\" class=\"dataframe\">\n",
       "  <thead>\n",
       "    <tr style=\"text-align: right;\">\n",
       "      <th>absorption_encoded</th>\n",
       "      <th>1.0</th>\n",
       "      <th>2.0</th>\n",
       "      <th>3.0</th>\n",
       "    </tr>\n",
       "  </thead>\n",
       "  <tbody>\n",
       "    <tr>\n",
       "      <th>라엘</th>\n",
       "      <td>13</td>\n",
       "      <td>409</td>\n",
       "      <td>950</td>\n",
       "    </tr>\n",
       "    <tr>\n",
       "      <th>유기농본</th>\n",
       "      <td>26</td>\n",
       "      <td>569</td>\n",
       "      <td>1362</td>\n",
       "    </tr>\n",
       "  </tbody>\n",
       "</table>\n",
       "</div>"
      ],
      "text/plain": [
       "absorption_encoded  1.0  2.0   3.0\n",
       "라엘                   13  409   950\n",
       "유기농본                 26  569  1362"
      ]
     },
     "execution_count": 306,
     "metadata": {},
     "output_type": "execute_result"
    }
   ],
   "source": [
    "brand_counts.T"
   ]
  },
  {
   "cell_type": "code",
   "execution_count": null,
   "id": "3487238f-67c5-4e2a-80e0-da599ca2917a",
   "metadata": {},
   "outputs": [],
   "source": [
    "rael_data = df[df['brand_name'] == '라엘']['absorption_encoded']\n",
    "organic_data = df[df['brand_name'] == '유기농본']['absorption_encoded']\n",
    "\n",
    "# 각 브랜드에서 \"absorption_encoded\" 값의 빈도를 계산합니다.\n",
    "rael_counts = rael_data.value_counts().sort_index()\n",
    "organic_counts = organic_data.value_counts().sort_index()\n",
    "\n",
    "brand_counts = pd.DataFrame({'라엘': rael_counts, '유기농본': organic_counts})"
   ]
  },
  {
   "cell_type": "code",
   "execution_count": 311,
   "id": "dbc008cb-ff6a-41f0-8861-33ed1de0027b",
   "metadata": {
    "tags": []
   },
   "outputs": [],
   "source": [
    "brand_counts = pd.DataFrame(df.groupby(\"brand_name\")['absorption_encoded'].value_counts().sort_index())"
   ]
  },
  {
   "cell_type": "code",
   "execution_count": 314,
   "id": "2d962ee4-fb0a-4a1f-bfed-fd3823356daa",
   "metadata": {
    "tags": []
   },
   "outputs": [
    {
     "data": {
      "text/html": [
       "<div>\n",
       "<style scoped>\n",
       "    .dataframe tbody tr th:only-of-type {\n",
       "        vertical-align: middle;\n",
       "    }\n",
       "\n",
       "    .dataframe tbody tr th {\n",
       "        vertical-align: top;\n",
       "    }\n",
       "\n",
       "    .dataframe thead th {\n",
       "        text-align: right;\n",
       "    }\n",
       "</style>\n",
       "<table border=\"1\" class=\"dataframe\">\n",
       "  <thead>\n",
       "    <tr style=\"text-align: right;\">\n",
       "      <th></th>\n",
       "      <th></th>\n",
       "      <th>count</th>\n",
       "    </tr>\n",
       "    <tr>\n",
       "      <th>brand_name</th>\n",
       "      <th>absorption_encoded</th>\n",
       "      <th></th>\n",
       "    </tr>\n",
       "  </thead>\n",
       "  <tbody>\n",
       "    <tr>\n",
       "      <th rowspan=\"3\" valign=\"top\">나트라케어</th>\n",
       "      <th>1.0</th>\n",
       "      <td>7</td>\n",
       "    </tr>\n",
       "    <tr>\n",
       "      <th>2.0</th>\n",
       "      <td>121</td>\n",
       "    </tr>\n",
       "    <tr>\n",
       "      <th>3.0</th>\n",
       "      <td>210</td>\n",
       "    </tr>\n",
       "    <tr>\n",
       "      <th rowspan=\"3\" valign=\"top\">라네이처</th>\n",
       "      <th>1.0</th>\n",
       "      <td>4</td>\n",
       "    </tr>\n",
       "    <tr>\n",
       "      <th>2.0</th>\n",
       "      <td>186</td>\n",
       "    </tr>\n",
       "    <tr>\n",
       "      <th>3.0</th>\n",
       "      <td>330</td>\n",
       "    </tr>\n",
       "    <tr>\n",
       "      <th rowspan=\"3\" valign=\"top\">라엘</th>\n",
       "      <th>1.0</th>\n",
       "      <td>13</td>\n",
       "    </tr>\n",
       "    <tr>\n",
       "      <th>2.0</th>\n",
       "      <td>409</td>\n",
       "    </tr>\n",
       "    <tr>\n",
       "      <th>3.0</th>\n",
       "      <td>950</td>\n",
       "    </tr>\n",
       "    <tr>\n",
       "      <th rowspan=\"3\" valign=\"top\">마리솜</th>\n",
       "      <th>1.0</th>\n",
       "      <td>1</td>\n",
       "    </tr>\n",
       "    <tr>\n",
       "      <th>2.0</th>\n",
       "      <td>88</td>\n",
       "    </tr>\n",
       "    <tr>\n",
       "      <th>3.0</th>\n",
       "      <td>147</td>\n",
       "    </tr>\n",
       "    <tr>\n",
       "      <th rowspan=\"3\" valign=\"top\">순수한면</th>\n",
       "      <th>1.0</th>\n",
       "      <td>31</td>\n",
       "    </tr>\n",
       "    <tr>\n",
       "      <th>2.0</th>\n",
       "      <td>375</td>\n",
       "    </tr>\n",
       "    <tr>\n",
       "      <th>3.0</th>\n",
       "      <td>610</td>\n",
       "    </tr>\n",
       "    <tr>\n",
       "      <th rowspan=\"3\" valign=\"top\">쏘피</th>\n",
       "      <th>1.0</th>\n",
       "      <td>12</td>\n",
       "    </tr>\n",
       "    <tr>\n",
       "      <th>2.0</th>\n",
       "      <td>607</td>\n",
       "    </tr>\n",
       "    <tr>\n",
       "      <th>3.0</th>\n",
       "      <td>1381</td>\n",
       "    </tr>\n",
       "    <tr>\n",
       "      <th rowspan=\"2\" valign=\"top\">아임오</th>\n",
       "      <th>2.0</th>\n",
       "      <td>45</td>\n",
       "    </tr>\n",
       "    <tr>\n",
       "      <th>3.0</th>\n",
       "      <td>48</td>\n",
       "    </tr>\n",
       "    <tr>\n",
       "      <th rowspan=\"3\" valign=\"top\">예지미인</th>\n",
       "      <th>1.0</th>\n",
       "      <td>7</td>\n",
       "    </tr>\n",
       "    <tr>\n",
       "      <th>2.0</th>\n",
       "      <td>228</td>\n",
       "    </tr>\n",
       "    <tr>\n",
       "      <th>3.0</th>\n",
       "      <td>484</td>\n",
       "    </tr>\n",
       "    <tr>\n",
       "      <th rowspan=\"3\" valign=\"top\">유기농본</th>\n",
       "      <th>1.0</th>\n",
       "      <td>26</td>\n",
       "    </tr>\n",
       "    <tr>\n",
       "      <th>2.0</th>\n",
       "      <td>569</td>\n",
       "    </tr>\n",
       "    <tr>\n",
       "      <th>3.0</th>\n",
       "      <td>1362</td>\n",
       "    </tr>\n",
       "    <tr>\n",
       "      <th rowspan=\"3\" valign=\"top\">이너시아</th>\n",
       "      <th>1.0</th>\n",
       "      <td>2</td>\n",
       "    </tr>\n",
       "    <tr>\n",
       "      <th>2.0</th>\n",
       "      <td>193</td>\n",
       "    </tr>\n",
       "    <tr>\n",
       "      <th>3.0</th>\n",
       "      <td>804</td>\n",
       "    </tr>\n",
       "    <tr>\n",
       "      <th rowspan=\"3\" valign=\"top\">좋은느낌</th>\n",
       "      <th>1.0</th>\n",
       "      <td>36</td>\n",
       "    </tr>\n",
       "    <tr>\n",
       "      <th>2.0</th>\n",
       "      <td>1741</td>\n",
       "    </tr>\n",
       "    <tr>\n",
       "      <th>3.0</th>\n",
       "      <td>4392</td>\n",
       "    </tr>\n",
       "    <tr>\n",
       "      <th rowspan=\"3\" valign=\"top\">템포</th>\n",
       "      <th>1.0</th>\n",
       "      <td>46</td>\n",
       "    </tr>\n",
       "    <tr>\n",
       "      <th>2.0</th>\n",
       "      <td>909</td>\n",
       "    </tr>\n",
       "    <tr>\n",
       "      <th>3.0</th>\n",
       "      <td>1832</td>\n",
       "    </tr>\n",
       "    <tr>\n",
       "      <th rowspan=\"3\" valign=\"top\">해피문데이</th>\n",
       "      <th>1.0</th>\n",
       "      <td>31</td>\n",
       "    </tr>\n",
       "    <tr>\n",
       "      <th>2.0</th>\n",
       "      <td>579</td>\n",
       "    </tr>\n",
       "    <tr>\n",
       "      <th>3.0</th>\n",
       "      <td>1424</td>\n",
       "    </tr>\n",
       "    <tr>\n",
       "      <th rowspan=\"3\" valign=\"top\">화이트</th>\n",
       "      <th>1.0</th>\n",
       "      <td>10</td>\n",
       "    </tr>\n",
       "    <tr>\n",
       "      <th>2.0</th>\n",
       "      <td>224</td>\n",
       "    </tr>\n",
       "    <tr>\n",
       "      <th>3.0</th>\n",
       "      <td>401</td>\n",
       "    </tr>\n",
       "  </tbody>\n",
       "</table>\n",
       "</div>"
      ],
      "text/plain": [
       "                               count\n",
       "brand_name absorption_encoded       \n",
       "나트라케어      1.0                     7\n",
       "           2.0                   121\n",
       "           3.0                   210\n",
       "라네이처       1.0                     4\n",
       "           2.0                   186\n",
       "           3.0                   330\n",
       "라엘         1.0                    13\n",
       "           2.0                   409\n",
       "           3.0                   950\n",
       "마리솜        1.0                     1\n",
       "           2.0                    88\n",
       "           3.0                   147\n",
       "순수한면       1.0                    31\n",
       "           2.0                   375\n",
       "           3.0                   610\n",
       "쏘피         1.0                    12\n",
       "           2.0                   607\n",
       "           3.0                  1381\n",
       "아임오        2.0                    45\n",
       "           3.0                    48\n",
       "예지미인       1.0                     7\n",
       "           2.0                   228\n",
       "           3.0                   484\n",
       "유기농본       1.0                    26\n",
       "           2.0                   569\n",
       "           3.0                  1362\n",
       "이너시아       1.0                     2\n",
       "           2.0                   193\n",
       "           3.0                   804\n",
       "좋은느낌       1.0                    36\n",
       "           2.0                  1741\n",
       "           3.0                  4392\n",
       "템포         1.0                    46\n",
       "           2.0                   909\n",
       "           3.0                  1832\n",
       "해피문데이      1.0                    31\n",
       "           2.0                   579\n",
       "           3.0                  1424\n",
       "화이트        1.0                    10\n",
       "           2.0                   224\n",
       "           3.0                   401"
      ]
     },
     "execution_count": 314,
     "metadata": {},
     "output_type": "execute_result"
    }
   ],
   "source": [
    "brand_counts"
   ]
  },
  {
   "cell_type": "code",
   "execution_count": 317,
   "id": "bdc11694-2ed9-4248-ae14-aa9083268e9d",
   "metadata": {
    "tags": []
   },
   "outputs": [
    {
     "data": {
      "image/png": "[encoded data removed]",
      "text/plain": [
       "<Figure size 640x480 with 1 Axes>"
      ]
     },
     "metadata": {},
     "output_type": "display_data"
    }
   ],
   "source": [
    "import seaborn as sns\n",
    "import matplotlib.pyplot as plt\n",
    "\n",
    "# brand_counts DataFrame에서 \"라엘\"과 \"유기농본\" 데이터만 선택\n",
    "rael_data = brand_counts.loc['라엘']\n",
    "organic_data = brand_counts.loc['유기농본']\n",
    "\n",
    "# Bar 그래프를 그립니다.\n",
    "sns.barplot(x=rael_data.index, y=rael_data['count'], label='라엘', color='blue')\n",
    "sns.barplot(x=organic_data.index, y=organic_data['count'], label='유기농본', color='orange')\n",
    "\n",
    "plt.title('Absorption Encoded Counts by Brand')\n",
    "plt.xlabel('Absorption Encoded')\n",
    "plt.ylabel('Count')\n",
    "plt.legend()\n",
    "plt.show()\n"
   ]
  },
  {
   "cell_type": "code",
   "execution_count": null,
   "id": "78797d24-38e2-44c9-b96d-8920308d96ab",
   "metadata": {},
   "outputs": [],
   "source": []
  },
  {
   "cell_type": "markdown",
   "id": "1425a241-8a1e-451f-a743-00dee6f75771",
   "metadata": {},
   "source": [
    "#### 가설 4-2) 탐폰 -> 라엘 vs 해피문데이"
   ]
  },
  {
   "cell_type": "code",
   "execution_count": null,
   "id": "79751793-a98f-40f5-9dcc-09bfe7e9e288",
   "metadata": {},
   "outputs": [],
   "source": [
    "# 탐폰 -> 라엘 vs 해피문데이"
   ]
  },
  {
   "cell_type": "markdown",
   "id": "376e393d-ffa5-42b6-8d91-71727e899626",
   "metadata": {},
   "source": [
    "#### 등분산 검정\n",
    "- H0: 이분산\n",
    "- H1: 등분산"
   ]
  },
  {
   "cell_type": "code",
   "execution_count": 318,
   "id": "6bc97fc6-54af-45ba-81ae-81b0a4ea658e",
   "metadata": {
    "tags": []
   },
   "outputs": [
    {
     "name": "stdout",
     "output_type": "stream",
     "text": [
      "absorption_encoded p-value: 2.0737686984696208e-07, 이분산 가정 만족\n",
      "stimulation_encoded p-value: 1.4992455173749946e-07, 이분산 가정 만족\n",
      "texture_encoded p-value: 4.792119989584736e-09, 이분산 가정 만족\n",
      "avg p-value: 2.6143778119924797e-07, 이분산 가정 만족\n"
     ]
    }
   ],
   "source": [
    "from scipy import stats\n",
    "\n",
    "test_names = [\"absorption_encoded\", \"stimulation_encoded\", \"texture_encoded\", \"avg\"]\n",
    "\n",
    "rael_scores = df[(df['brand_name'] == '라엘') & (df[\"sanitary_type\"]==\"tampon\")][[\"absorption_encoded\", \"stimulation_encoded\", \"texture_encoded\", \"avg\"]]\n",
    "happy_scores = df[(df['brand_name'] == '해피문데이') & (df[\"sanitary_type\"]==\"tampon\")][[\"absorption_encoded\", \"stimulation_encoded\", \"texture_encoded\", \"avg\"]]\n",
    "\n",
    "for test_name in test_names:\n",
    "    # 결측치를 제거한 후 등분산 검정 수행\n",
    "    rael_data = rael_scores[test_name].dropna()\n",
    "    happy_data = happy_scores[test_name].dropna()\n",
    "\n",
    "    _, p_value_levene = stats.levene(rael_data, happy_data)\n",
    "    if p_value_levene > 0.05:\n",
    "        print(f\"{test_name} p-value: {p_value_levene}, 등분산 가정 만족\")\n",
    "    else:\n",
    "        print(f\"{test_name} p-value: {p_value_levene}, 이분산 가정 만족\")\n",
    "        \n",
    "# 모두 이분산 가정을 만족함"
   ]
  },
  {
   "cell_type": "markdown",
   "id": "ced68b2b-cd74-48a0-86e3-e0f6ea035a58",
   "metadata": {},
   "source": [
    "#### t-test 진행\n",
    "- H0: 두 그룹의 평균이 같다.\n",
    "- H1: 라엘 평균 점수가 해피문데이 평균 점수보다 높을 것이다."
   ]
  },
  {
   "cell_type": "code",
   "execution_count": 319,
   "id": "bcca7d5b-053e-4249-8926-1325474e8910",
   "metadata": {
    "tags": []
   },
   "outputs": [
    {
     "name": "stdout",
     "output_type": "stream",
     "text": [
      "p-value: [0.9999999  0.99999993 1.         1.        ]\n",
      "귀무 가설 기각: [False False False False]\n"
     ]
    }
   ],
   "source": [
    "t_statistic, p_value = stats.ttest_ind(\n",
    "    a=rael_scores,\n",
    "    b=happy_scores,\n",
    "    alternative=\"greater\",    # a > b\n",
    "    equal_var=True,\n",
    "    nan_policy=\"omit\"     # nan값 무시하고 진행\n",
    ")\n",
    "print(f\"p-value: {p_value}\")\n",
    "print(f\"귀무 가설 기각: {p_value < 0.05}\")"
   ]
  },
  {
   "cell_type": "code",
   "execution_count": null,
   "id": "5716af1b-e0c9-4944-9eb8-b1349c9f8370",
   "metadata": {},
   "outputs": [],
   "source": []
  },
  {
   "cell_type": "markdown",
   "id": "02d605db-5449-4fdc-a62a-a5adc4f76485",
   "metadata": {},
   "source": [
    "## 컵형 label encoding"
   ]
  },
  {
   "cell_type": "markdown",
   "id": "23b10fa3-3092-4c0a-b450-ac399ed2f730",
   "metadata": {
    "tags": []
   },
   "source": [
    "## 컵형 -> nouns에 '재구매' 있으면 1, 없으면 0"
   ]
  },
  {
   "cell_type": "code",
   "execution_count": 6,
   "id": "a26a6068-e95b-4455-ad22-a63609e59d85",
   "metadata": {
    "tags": []
   },
   "outputs": [
    {
     "name": "stdout",
     "output_type": "stream",
     "text": [
      "['원래', '루나컵', '링', '라지', '품절', '링', '스몰', '사이즈', '구매', '경도', '딱', '안', '잘', '정말', '아무것', '안', '방광', '압박', '없', '편하', '참고', '때', '리비아', '폴', '드', '폴', '드', '사용', '제일', '잘', '기존', '탐폰', '편하', '다음', '라지', '사이즈', '구매', '많', '날', '스몰', '라지', '사이즈', '적합', '많', '날', '스몰', '자주', '번거롭', '사람', '다르', '많', '날', '생각', '혈', '금방', '생리컵', '앞으로', '계속', '폐', '때', '동안', '쭉', '사용', '같', '고리', '때', '수월', '입문자', '꼬리', '고리', '제일', '나은', '루나컵', '링', '입문자', '제일', '무난', '경도', '말랑', '탄성', '좋아서', '쓰기', '편하', '같', '티읕컵', '같', '좀', '하드', '제품', '첨', '때', '힘들', '때', '실링', '힘들', '생리컵', '때', '밑', '힘', '손가락', '이용', '지속', '대변', '볼', '때', '골반', '근육', '힘', '압력', '자궁', '탈장', '골반', '장기', '탈출', '증', '이란', '부작용', '안', '좋', '생리컵', '인해', '자궁', '하수', '섭', '때', '최대한', '손가락', '이용', '생리컵', '꾹', '실링', '제대로', '살살', '생리컵', '처음', '참고']\n"
     ]
    }
   ],
   "source": [
    "print(df[df[\"sanitary_type\"]==\"cup\"].iloc[0][\"nouns\"])"
   ]
  },
  {
   "cell_type": "code",
   "execution_count": 7,
   "id": "a52ef5f0-b44e-444d-95f7-a1a0c7ea830f",
   "metadata": {},
   "outputs": [
    {
     "name": "stderr",
     "output_type": "stream",
     "text": [
      "100%|██████████████████████████████████████████████████████████████████████████| 21992/21992 [00:00<00:00, 44467.81it/s]\n"
     ]
    }
   ],
   "source": [
    "from tqdm import tqdm\n",
    "\n",
    "tqdm.pandas()\n",
    "df[\"nouns\"] = df[\"nouns\"].progress_apply(lambda x: eval(x))"
   ]
  },
  {
   "cell_type": "code",
   "execution_count": 8,
   "id": "aaf7ffa7-db69-4ae7-9a30-ac8273185bec",
   "metadata": {},
   "outputs": [],
   "source": [
    "# \"nouns\"에 \"재구매\" 키워드가 있는지 확인\n",
    "# >> \"repurchase\" 컬럼에 1 또는 0 할당\n",
    "df[\"repurchase\"] = df[\"nouns\"].apply(lambda x: 1 if \"재구매\" in x else 0)"
   ]
  },
  {
   "cell_type": "code",
   "execution_count": 10,
   "id": "2603e90d-104f-4d03-8e76-13521c91d252",
   "metadata": {},
   "outputs": [
    {
     "name": "stdout",
     "output_type": "stream",
     "text": [
      "0\n"
     ]
    }
   ],
   "source": [
    "print(df[\"repurchase\"].iloc[3])"
   ]
  },
  {
   "cell_type": "code",
   "execution_count": 35,
   "id": "f39a2b7a-d4f3-43a0-bef4-29171be2b67d",
   "metadata": {
    "tags": []
   },
   "outputs": [
    {
     "data": {
      "text/plain": [
       "brand_name\n",
       "나트라케어     18\n",
       "라네이처      26\n",
       "라엘       127\n",
       "루나        13\n",
       "마리솜       11\n",
       "순수한면      89\n",
       "쏘피       247\n",
       "아임오       14\n",
       "예지미인      41\n",
       "유기농본     151\n",
       "이너시아      88\n",
       "좋은느낌     389\n",
       "템포       207\n",
       "티읕        20\n",
       "한나         2\n",
       "해피문데이    121\n",
       "화이트       33\n",
       "Name: repurchase, dtype: int64"
      ]
     },
     "execution_count": 35,
     "metadata": {},
     "output_type": "execute_result"
    }
   ],
   "source": [
    "# 브랜드별 repurchase 수 카운트\n",
    "df.groupby(\"brand_name\")[\"repurchase\"].sum()"
   ]
  },
  {
   "cell_type": "code",
   "execution_count": 11,
   "id": "4c683f44-cdc6-4d88-8e9a-e2d45a98162f",
   "metadata": {
    "tags": []
   },
   "outputs": [],
   "source": [
    "from matplotlib import pyplot as plt"
   ]
  },
  {
   "cell_type": "code",
   "execution_count": 12,
   "id": "6aed05ce-6844-4cc0-baf2-0ad9bdb62c94",
   "metadata": {
    "tags": []
   },
   "outputs": [
    {
     "data": {
      "image/png": "[encoded data removed]",
      "text/plain": [
       "<Figure size 640x480 with 1 Axes>"
      ]
     },
     "metadata": {},
     "output_type": "display_data"
    }
   ],
   "source": [
    "# '재구매' 키워드가 있는 브랜드 카운트\n",
    "grouped_df = df.groupby(\"brand_name\")[\"repurchase\"].sum()\n",
    "\n",
    "plt.rc(\"font\", family=\"AppleGothic\")\n",
    "plt.bar(grouped_df.index, grouped_df.values, color='blue')\n",
    "plt.xlabel('Brand Name')\n",
    "plt.xticks(rotation=90)\n",
    "plt.ylabel('Repurchase')\n",
    "plt.title('Repurchase Sum by Brand Name')\n",
    "plt.show()"
   ]
  },
  {
   "cell_type": "code",
   "execution_count": 21,
   "id": "92a98709-6d90-453b-9f7a-0182d6053686",
   "metadata": {
    "tags": []
   },
   "outputs": [],
   "source": [
    "grouped_sum_cup = df[df[\"sanitary_type\"]==\"cup\"].groupby(\"brand_name\")[\"repurchase\"].sum()"
   ]
  },
  {
   "cell_type": "code",
   "execution_count": 22,
   "id": "a1db7d8f-f9af-468e-b8ab-8d6f8f704281",
   "metadata": {
    "tags": []
   },
   "outputs": [],
   "source": [
    "grouped_ratio_cup = df[df[\"sanitary_type\"]==\"cup\"].groupby(\"brand_name\")[\"repurchase\"].mean()"
   ]
  },
  {
   "cell_type": "code",
   "execution_count": 23,
   "id": "6be237b5-584e-4f5b-a82c-020047de123a",
   "metadata": {
    "tags": []
   },
   "outputs": [
    {
     "data": {
      "text/plain": [
       "Text(0.5, 1.0, 'Repurchase Ratio')"
      ]
     },
     "execution_count": 23,
     "metadata": {},
     "output_type": "execute_result"
    },
    {
     "data": {
      "image/png": "[encoded data removed]",
      "text/plain": [
       "<Figure size 1000x500 with 2 Axes>"
      ]
     },
     "metadata": {},
     "output_type": "display_data"
    }
   ],
   "source": [
    "# 생리컵 -> \"재구매\" 키워드\n",
    "plt.figure(figsize=(10,5))\n",
    "plt.rc(\"font\", family=\"AppleGothic\")\n",
    "\n",
    "plt.subplot(1, 2, 1)\n",
    "plt.bar(grouped_sum_cup.index, grouped_sum_cup.values, color='blue')\n",
    "plt.xticks(rotation=90)\n",
    "plt.title('Repurchase Sum')\n",
    "\n",
    "plt.subplot(1, 2, 2)\n",
    "plt.bar(grouped_ratio_cup.index, grouped_ratio_cup.values, color='blue')\n",
    "plt.xticks(rotation=90)\n",
    "plt.title('Repurchase Ratio')\n",
    "\n",
    "# >> 비율 그래프에서 '한나'는 제외하고 생각 -> '한나' 전체 리뷰 데이터 8개임 그 중에서 2개에서 '재구매' 키워드 발생. \n",
    "# => 유의하지 않는 결과라고 생각해서 '한나'는 제외하고 생각"
   ]
  },
  {
   "cell_type": "code",
   "execution_count": 25,
   "id": "6b79309f-691c-4369-bbdb-99a1cdc36d58",
   "metadata": {
    "tags": []
   },
   "outputs": [
    {
     "data": {
      "text/plain": [
       "brand_name\n",
       "라엘        0\n",
       "루나       13\n",
       "티읕       20\n",
       "한나        2\n",
       "해피문데이     0\n",
       "Name: repurchase, dtype: int64"
      ]
     },
     "execution_count": 25,
     "metadata": {},
     "output_type": "execute_result"
    }
   ],
   "source": [
    "df[df[\"sanitary_type\"]==\"cup\"].groupby(\"brand_name\")[\"repurchase\"].sum()"
   ]
  },
  {
   "cell_type": "code",
   "execution_count": 24,
   "id": "e0734f49-4893-486f-976b-f5ab3c8e99b2",
   "metadata": {
    "tags": []
   },
   "outputs": [
    {
     "data": {
      "text/plain": [
       "brand_name\n",
       "라엘       0.000000\n",
       "루나       0.038690\n",
       "티읕       0.034423\n",
       "한나       0.250000\n",
       "해피문데이    0.000000\n",
       "Name: repurchase, dtype: float64"
      ]
     },
     "execution_count": 24,
     "metadata": {},
     "output_type": "execute_result"
    }
   ],
   "source": [
    "# 재구매 / 전체 -> 재구매 비율\n",
    "df[df[\"sanitary_type\"]==\"cup\"].groupby(\"brand_name\")[\"repurchase\"].mean()"
   ]
  },
  {
   "cell_type": "code",
   "execution_count": null,
   "id": "cc15d21b-b233-4dc6-b216-cccc6f0d1690",
   "metadata": {},
   "outputs": [],
   "source": []
  },
  {
   "cell_type": "markdown",
   "id": "8b856d6f-4035-4994-a4c8-26aa411cc949",
   "metadata": {},
   "source": [
    "## 컵형 -> nouns에 '쉽' 있으면 2, '어렵' 또는 '어려' 있으면 1, 어떤 키워드도 없으면 0"
   ]
  },
  {
   "cell_type": "code",
   "execution_count": 9,
   "id": "cbd06c9e-6a15-4d75-877d-0cd9ce9657c7",
   "metadata": {},
   "outputs": [],
   "source": [
    "# \"nouns\" 컬럼의 각 리스트에 대해 \"쉽\", \"어렵\", \"어려\" 키워드를 확인하고 \"usability\" 컬럼 설정\n",
    "df[\"usability\"] = df[\"nouns\"].apply(lambda x: 2 if any(keyword in x for keyword in ['쉽']) else (1 if any(keyword in x for keyword in ['어렵', '어려']) else 0))"
   ]
  },
  {
   "cell_type": "code",
   "execution_count": 27,
   "id": "a9b23b19-1f7b-45bf-ac96-de31a4a0b253",
   "metadata": {
    "collapsed": true,
    "jupyter": {
     "outputs_hidden": true
    },
    "tags": []
   },
   "outputs": [
    {
     "data": {
      "text/html": [
       "<div>\n",
       "<style scoped>\n",
       "    .dataframe tbody tr th:only-of-type {\n",
       "        vertical-align: middle;\n",
       "    }\n",
       "\n",
       "    .dataframe tbody tr th {\n",
       "        vertical-align: top;\n",
       "    }\n",
       "\n",
       "    .dataframe thead th {\n",
       "        text-align: right;\n",
       "    }\n",
       "</style>\n",
       "<table border=\"1\" class=\"dataframe\">\n",
       "  <thead>\n",
       "    <tr style=\"text-align: right;\">\n",
       "      <th></th>\n",
       "      <th>item_number</th>\n",
       "      <th>brand_name</th>\n",
       "      <th>sanitary_type</th>\n",
       "      <th>item_option</th>\n",
       "      <th>review_content</th>\n",
       "      <th>absorption_encoded</th>\n",
       "      <th>stimulation_encoded</th>\n",
       "      <th>texture_encoded</th>\n",
       "      <th>nouns</th>\n",
       "      <th>avg</th>\n",
       "      <th>repurchase</th>\n",
       "      <th>usability</th>\n",
       "    </tr>\n",
       "  </thead>\n",
       "  <tbody>\n",
       "    <tr>\n",
       "      <th>11820</th>\n",
       "      <td>A000000154732</td>\n",
       "      <td>루나</td>\n",
       "      <td>cup</td>\n",
       "      <td>링 스몰(27ml)</td>\n",
       "      <td>쇼티 타이니 쓰다가 조금 더 크고 쉽게 빼고 싶어서 링 스몰로 재구매했는데 좋네요 ...</td>\n",
       "      <td>NaN</td>\n",
       "      <td>NaN</td>\n",
       "      <td>NaN</td>\n",
       "      <td>[쇼, 티, 타, 조금, 더, 크, 쉽, 링, 스몰, 재구매, 좋, 양, 같이, 사용]</td>\n",
       "      <td>NaN</td>\n",
       "      <td>1</td>\n",
       "      <td>2</td>\n",
       "    </tr>\n",
       "    <tr>\n",
       "      <th>11837</th>\n",
       "      <td>A000000154732</td>\n",
       "      <td>루나</td>\n",
       "      <td>cup</td>\n",
       "      <td>링 스몰(27ml)</td>\n",
       "      <td>예전부터 사고는 싶었는데 이 게 제약도 많고 알아봐야 할것도 많고 그리고 가장 중요...</td>\n",
       "      <td>NaN</td>\n",
       "      <td>NaN</td>\n",
       "      <td>NaN</td>\n",
       "      <td>[예전, 사고, 게, 제약, 많, 많, 가장, 중요, 판매, 곳, 적, 마침, 올리...</td>\n",
       "      <td>NaN</td>\n",
       "      <td>0</td>\n",
       "      <td>2</td>\n",
       "    </tr>\n",
       "    <tr>\n",
       "      <th>11839</th>\n",
       "      <td>A000000154732</td>\n",
       "      <td>루나</td>\n",
       "      <td>cup</td>\n",
       "      <td>링 스몰(27ml)</td>\n",
       "      <td>배송 도착했고 구성 너무 마음에 드네요 배지 너무 귀여워요   구성 너무 마음에 듭...</td>\n",
       "      <td>NaN</td>\n",
       "      <td>NaN</td>\n",
       "      <td>NaN</td>\n",
       "      <td>[배, 송, 도착, 구성, 너무, 마음, 배지, 너무, 귀엽, 구성, 너무, 마음,...</td>\n",
       "      <td>NaN</td>\n",
       "      <td>0</td>\n",
       "      <td>2</td>\n",
       "    </tr>\n",
       "    <tr>\n",
       "      <th>11847</th>\n",
       "      <td>A000000154732</td>\n",
       "      <td>루나</td>\n",
       "      <td>cup</td>\n",
       "      <td>링 타이니(22ml)</td>\n",
       "      <td>탐폰으로 신세계를 만났는데 탐폰은 밤에 착용할 수 없다는 충격적인 사실 하지만 이미...</td>\n",
       "      <td>NaN</td>\n",
       "      <td>NaN</td>\n",
       "      <td>NaN</td>\n",
       "      <td>[탐폰, 신세계, 탐폰, 밤, 착용, 없, 충격, 사실, 이미, 편리, 사람, 다시...</td>\n",
       "      <td>NaN</td>\n",
       "      <td>0</td>\n",
       "      <td>2</td>\n",
       "    </tr>\n",
       "    <tr>\n",
       "      <th>11857</th>\n",
       "      <td>A000000154732</td>\n",
       "      <td>루나</td>\n",
       "      <td>cup</td>\n",
       "      <td>링 스몰(27ml)</td>\n",
       "      <td>리뷰 등록 300자 이상 썼는데 날라가서 다시 써요  주변에서 사용하는 사람들이 추...</td>\n",
       "      <td>NaN</td>\n",
       "      <td>NaN</td>\n",
       "      <td>NaN</td>\n",
       "      <td>[리뷰, 등록, 이상, 다시, 주변, 사용, 사람, 추천, 고민, 생리대, 자유, ...</td>\n",
       "      <td>NaN</td>\n",
       "      <td>0</td>\n",
       "      <td>2</td>\n",
       "    </tr>\n",
       "    <tr>\n",
       "      <th>...</th>\n",
       "      <td>...</td>\n",
       "      <td>...</td>\n",
       "      <td>...</td>\n",
       "      <td>...</td>\n",
       "      <td>...</td>\n",
       "      <td>...</td>\n",
       "      <td>...</td>\n",
       "      <td>...</td>\n",
       "      <td>...</td>\n",
       "      <td>...</td>\n",
       "      <td>...</td>\n",
       "      <td>...</td>\n",
       "    </tr>\n",
       "    <tr>\n",
       "      <th>12760</th>\n",
       "      <td>A000000178799</td>\n",
       "      <td>라엘</td>\n",
       "      <td>cup</td>\n",
       "      <td>라엘컵 사이즈1</td>\n",
       "      <td>탐폰만 N년째 사용중이고  생리컵도 도전해보고싶었는데 예전에는 직구로 구입을해야하고...</td>\n",
       "      <td>NaN</td>\n",
       "      <td>NaN</td>\n",
       "      <td>NaN</td>\n",
       "      <td>[탐폰, 사용, 생리컵, 도전, 예전, 직구, 구입, 접근성, 쉽, 올영, 생리컵,...</td>\n",
       "      <td>NaN</td>\n",
       "      <td>0</td>\n",
       "      <td>2</td>\n",
       "    </tr>\n",
       "    <tr>\n",
       "      <th>12764</th>\n",
       "      <td>A000000178799</td>\n",
       "      <td>라엘</td>\n",
       "      <td>cup</td>\n",
       "      <td>라엘컵 사이즈1</td>\n",
       "      <td>우선 생리컵 종류도 많아지고 구매하기도 쉬워져서 너모 좋네요 재질이 딱딱하지 않고 ...</td>\n",
       "      <td>NaN</td>\n",
       "      <td>NaN</td>\n",
       "      <td>NaN</td>\n",
       "      <td>[우선, 생리컵, 종류, 많, 구매, 쉽, 모, 좋, 재질, 딱딱, 휴대, 파우치,...</td>\n",
       "      <td>NaN</td>\n",
       "      <td>0</td>\n",
       "      <td>2</td>\n",
       "    </tr>\n",
       "    <tr>\n",
       "      <th>12767</th>\n",
       "      <td>A000000185976</td>\n",
       "      <td>해피문데이</td>\n",
       "      <td>cup</td>\n",
       "      <td>해피문데이 베이직 컵-숏</td>\n",
       "      <td>체험단 후기 작성기간이 생리 시작보다 먼저라서 일단 손으로 느껴본 강도는 적당히 말...</td>\n",
       "      <td>NaN</td>\n",
       "      <td>NaN</td>\n",
       "      <td>NaN</td>\n",
       "      <td>[체험, 단, 후기, 작성, 기간, 생리, 시작, 먼저, 일단, 손, 강도, 적당히...</td>\n",
       "      <td>NaN</td>\n",
       "      <td>0</td>\n",
       "      <td>2</td>\n",
       "    </tr>\n",
       "    <tr>\n",
       "      <th>12769</th>\n",
       "      <td>A000000185976</td>\n",
       "      <td>해피문데이</td>\n",
       "      <td>cup</td>\n",
       "      <td>해피문데이 베이직 컵-숏</td>\n",
       "      <td>이번에 체험단으로 기회가 되어 해피문데이의 생리컵을 받아보게 되었는데요  사실 저는...</td>\n",
       "      <td>NaN</td>\n",
       "      <td>NaN</td>\n",
       "      <td>NaN</td>\n",
       "      <td>[이번, 체험, 단, 기회, 해피문데이, 생리컵, 사실, 생리컵, 사, 용해, 본적...</td>\n",
       "      <td>NaN</td>\n",
       "      <td>0</td>\n",
       "      <td>2</td>\n",
       "    </tr>\n",
       "    <tr>\n",
       "      <th>12773</th>\n",
       "      <td>A000000185976</td>\n",
       "      <td>해피문데이</td>\n",
       "      <td>cup</td>\n",
       "      <td>해피문데이 베이직 컵-숏</td>\n",
       "      <td>저는 생리컵을 사용하고 있던 터라 이 제품이 체험단에 나온 게 참 반갑더라구요 루 ...</td>\n",
       "      <td>NaN</td>\n",
       "      <td>NaN</td>\n",
       "      <td>NaN</td>\n",
       "      <td>[생리컵, 사용, 제품, 체험, 단, 게, 참, 반갑, 루, 티, 컵, 이렇, 종류...</td>\n",
       "      <td>NaN</td>\n",
       "      <td>0</td>\n",
       "      <td>2</td>\n",
       "    </tr>\n",
       "  </tbody>\n",
       "</table>\n",
       "<p>110 rows × 12 columns</p>\n",
       "</div>"
      ],
      "text/plain": [
       "         item_number brand_name sanitary_type    item_option  \\\n",
       "11820  A000000154732         루나           cup     링 스몰(27ml)   \n",
       "11837  A000000154732         루나           cup     링 스몰(27ml)   \n",
       "11839  A000000154732         루나           cup     링 스몰(27ml)   \n",
       "11847  A000000154732         루나           cup    링 타이니(22ml)   \n",
       "11857  A000000154732         루나           cup     링 스몰(27ml)   \n",
       "...              ...        ...           ...            ...   \n",
       "12760  A000000178799         라엘           cup       라엘컵 사이즈1   \n",
       "12764  A000000178799         라엘           cup       라엘컵 사이즈1   \n",
       "12767  A000000185976      해피문데이           cup  해피문데이 베이직 컵-숏   \n",
       "12769  A000000185976      해피문데이           cup  해피문데이 베이직 컵-숏   \n",
       "12773  A000000185976      해피문데이           cup  해피문데이 베이직 컵-숏   \n",
       "\n",
       "                                          review_content  absorption_encoded  \\\n",
       "11820  쇼티 타이니 쓰다가 조금 더 크고 쉽게 빼고 싶어서 링 스몰로 재구매했는데 좋네요 ...                 NaN   \n",
       "11837  예전부터 사고는 싶었는데 이 게 제약도 많고 알아봐야 할것도 많고 그리고 가장 중요...                 NaN   \n",
       "11839  배송 도착했고 구성 너무 마음에 드네요 배지 너무 귀여워요   구성 너무 마음에 듭...                 NaN   \n",
       "11847  탐폰으로 신세계를 만났는데 탐폰은 밤에 착용할 수 없다는 충격적인 사실 하지만 이미...                 NaN   \n",
       "11857  리뷰 등록 300자 이상 썼는데 날라가서 다시 써요  주변에서 사용하는 사람들이 추...                 NaN   \n",
       "...                                                  ...                 ...   \n",
       "12760  탐폰만 N년째 사용중이고  생리컵도 도전해보고싶었는데 예전에는 직구로 구입을해야하고...                 NaN   \n",
       "12764  우선 생리컵 종류도 많아지고 구매하기도 쉬워져서 너모 좋네요 재질이 딱딱하지 않고 ...                 NaN   \n",
       "12767  체험단 후기 작성기간이 생리 시작보다 먼저라서 일단 손으로 느껴본 강도는 적당히 말...                 NaN   \n",
       "12769  이번에 체험단으로 기회가 되어 해피문데이의 생리컵을 받아보게 되었는데요  사실 저는...                 NaN   \n",
       "12773  저는 생리컵을 사용하고 있던 터라 이 제품이 체험단에 나온 게 참 반갑더라구요 루 ...                 NaN   \n",
       "\n",
       "       stimulation_encoded  texture_encoded  \\\n",
       "11820                  NaN              NaN   \n",
       "11837                  NaN              NaN   \n",
       "11839                  NaN              NaN   \n",
       "11847                  NaN              NaN   \n",
       "11857                  NaN              NaN   \n",
       "...                    ...              ...   \n",
       "12760                  NaN              NaN   \n",
       "12764                  NaN              NaN   \n",
       "12767                  NaN              NaN   \n",
       "12769                  NaN              NaN   \n",
       "12773                  NaN              NaN   \n",
       "\n",
       "                                                   nouns  avg  repurchase  \\\n",
       "11820   [쇼, 티, 타, 조금, 더, 크, 쉽, 링, 스몰, 재구매, 좋, 양, 같이, 사용]  NaN           1   \n",
       "11837  [예전, 사고, 게, 제약, 많, 많, 가장, 중요, 판매, 곳, 적, 마침, 올리...  NaN           0   \n",
       "11839  [배, 송, 도착, 구성, 너무, 마음, 배지, 너무, 귀엽, 구성, 너무, 마음,...  NaN           0   \n",
       "11847  [탐폰, 신세계, 탐폰, 밤, 착용, 없, 충격, 사실, 이미, 편리, 사람, 다시...  NaN           0   \n",
       "11857  [리뷰, 등록, 이상, 다시, 주변, 사용, 사람, 추천, 고민, 생리대, 자유, ...  NaN           0   \n",
       "...                                                  ...  ...         ...   \n",
       "12760  [탐폰, 사용, 생리컵, 도전, 예전, 직구, 구입, 접근성, 쉽, 올영, 생리컵,...  NaN           0   \n",
       "12764  [우선, 생리컵, 종류, 많, 구매, 쉽, 모, 좋, 재질, 딱딱, 휴대, 파우치,...  NaN           0   \n",
       "12767  [체험, 단, 후기, 작성, 기간, 생리, 시작, 먼저, 일단, 손, 강도, 적당히...  NaN           0   \n",
       "12769  [이번, 체험, 단, 기회, 해피문데이, 생리컵, 사실, 생리컵, 사, 용해, 본적...  NaN           0   \n",
       "12773  [생리컵, 사용, 제품, 체험, 단, 게, 참, 반갑, 루, 티, 컵, 이렇, 종류...  NaN           0   \n",
       "\n",
       "       usability  \n",
       "11820          2  \n",
       "11837          2  \n",
       "11839          2  \n",
       "11847          2  \n",
       "11857          2  \n",
       "...          ...  \n",
       "12760          2  \n",
       "12764          2  \n",
       "12767          2  \n",
       "12769          2  \n",
       "12773          2  \n",
       "\n",
       "[110 rows x 12 columns]"
      ]
     },
     "execution_count": 27,
     "metadata": {},
     "output_type": "execute_result"
    }
   ],
   "source": [
    "df[(df[\"usability\"]==2) & (df[\"sanitary_type\"]==\"cup\")]"
   ]
  },
  {
   "cell_type": "code",
   "execution_count": 29,
   "id": "2799210a-b984-47ce-ab59-4072914634e5",
   "metadata": {},
   "outputs": [
    {
     "data": {
      "text/plain": [
       "60"
      ]
     },
     "execution_count": 29,
     "metadata": {},
     "output_type": "execute_result"
    }
   ],
   "source": [
    "len(df[(df[\"usability\"]==2) & (df[\"sanitary_type\"]==\"cup\") & (df[\"brand_name\"]==\"티읕\")])"
   ]
  },
  {
   "cell_type": "code",
   "execution_count": 32,
   "id": "f40131dd-d29b-49e2-aa6c-5d02a38e216d",
   "metadata": {},
   "outputs": [
    {
     "data": {
      "text/plain": [
       "120"
      ]
     },
     "execution_count": 32,
     "metadata": {},
     "output_type": "execute_result"
    }
   ],
   "source": [
    "df[(df[\"usability\"]==2) & (df[\"sanitary_type\"]==\"cup\") & (df[\"brand_name\"]==\"티읕\")][\"usability\"].sum()"
   ]
  },
  {
   "cell_type": "code",
   "execution_count": 88,
   "id": "5628a401-dc4d-4944-9ec8-c5987b0ee442",
   "metadata": {
    "tags": []
   },
   "outputs": [],
   "source": [
    "grouped_sum_cup = df[df[\"sanitary_type\"]==\"cup\"].groupby(\"brand_name\")[\"usability\"].sum()"
   ]
  },
  {
   "cell_type": "code",
   "execution_count": 89,
   "id": "2cccf6f3-8320-4e84-a09d-44cefa6a71e6",
   "metadata": {
    "tags": []
   },
   "outputs": [],
   "source": [
    "grouped_mean_cup = df[df[\"sanitary_type\"]==\"cup\"].groupby(\"brand_name\")[\"usability\"].mean()"
   ]
  },
  {
   "cell_type": "code",
   "execution_count": 90,
   "id": "954fc4a6-ab6a-4a02-8908-da19b9fdee4b",
   "metadata": {
    "tags": []
   },
   "outputs": [
    {
     "data": {
      "text/plain": [
       "Text(0.5, 1.0, 'Usability Mean')"
      ]
     },
     "execution_count": 90,
     "metadata": {},
     "output_type": "execute_result"
    },
    {
     "data": {
      "image/png": "[encoded data removed]",
      "text/plain": [
       "<Figure size 1000x500 with 2 Axes>"
      ]
     },
     "metadata": {},
     "output_type": "display_data"
    }
   ],
   "source": [
    "# 생리컵 -> \"사용성\" 키워드\n",
    "plt.figure(figsize=(10,5))\n",
    "plt.rc(\"font\", family=\"AppleGothic\")\n",
    "\n",
    "plt.subplot(1, 2, 1)\n",
    "plt.bar(grouped_sum_cup.index, grouped_sum_cup.values, color='blue')\n",
    "plt.xticks(rotation=90)\n",
    "plt.title('Usability Sum')\n",
    "\n",
    "plt.subplot(1, 2, 2)\n",
    "plt.bar(grouped_mean_cup.index, grouped_mean_cup.values, color='blue')\n",
    "plt.xticks(rotation=90)\n",
    "plt.title('Usability Mean')"
   ]
  },
  {
   "cell_type": "code",
   "execution_count": 35,
   "id": "3ab6fe61-65e5-4221-bb8f-aec76c95cafb",
   "metadata": {
    "tags": []
   },
   "outputs": [
    {
     "data": {
      "text/plain": [
       "brand_name\n",
       "라엘       0.428571\n",
       "루나       0.351190\n",
       "티읕       0.316695\n",
       "한나       0.000000\n",
       "해피문데이    0.750000\n",
       "Name: usability, dtype: float64"
      ]
     },
     "execution_count": 35,
     "metadata": {},
     "output_type": "execute_result"
    }
   ],
   "source": [
    "df[df[\"sanitary_type\"]==\"cup\"].groupby(\"brand_name\")[\"usability\"].mean()"
   ]
  },
  {
   "cell_type": "code",
   "execution_count": null,
   "id": "269c2047-85b1-48d6-972c-ff5ba61ab607",
   "metadata": {},
   "outputs": [],
   "source": []
  },
  {
   "cell_type": "markdown",
   "id": "ca34705e-feeb-46ec-acc4-f9b88008b457",
   "metadata": {},
   "source": [
    "## 컵형 -> nouns에 '편하', '편한' 있으면 2, '불편' 있으면 1, 어떤 키워드도 없으면 0"
   ]
  },
  {
   "cell_type": "code",
   "execution_count": 10,
   "id": "3eb05bd3-77e1-4c3b-ad43-a0490a6549c7",
   "metadata": {},
   "outputs": [],
   "source": [
    "df[\"convenience\"] = df[\"nouns\"].apply(lambda x: 2 if any(keyword in x for keyword in ['편하', '편한']) else (1 if any(keyword in x for keyword in ['불편']) else 0))\n"
   ]
  },
  {
   "cell_type": "code",
   "execution_count": 32,
   "id": "625fb59b-39e3-4b1a-829d-96e1595f7082",
   "metadata": {
    "collapsed": true,
    "jupyter": {
     "outputs_hidden": true
    },
    "tags": []
   },
   "outputs": [
    {
     "data": {
      "text/html": [
       "<div>\n",
       "<style scoped>\n",
       "    .dataframe tbody tr th:only-of-type {\n",
       "        vertical-align: middle;\n",
       "    }\n",
       "\n",
       "    .dataframe tbody tr th {\n",
       "        vertical-align: top;\n",
       "    }\n",
       "\n",
       "    .dataframe thead th {\n",
       "        text-align: right;\n",
       "    }\n",
       "</style>\n",
       "<table border=\"1\" class=\"dataframe\">\n",
       "  <thead>\n",
       "    <tr style=\"text-align: right;\">\n",
       "      <th></th>\n",
       "      <th>item_number</th>\n",
       "      <th>brand_name</th>\n",
       "      <th>sanitary_type</th>\n",
       "      <th>item_option</th>\n",
       "      <th>review_content</th>\n",
       "      <th>absorption_encoded</th>\n",
       "      <th>stimulation_encoded</th>\n",
       "      <th>texture_encoded</th>\n",
       "      <th>nouns</th>\n",
       "      <th>avg</th>\n",
       "      <th>repurchase</th>\n",
       "      <th>usability</th>\n",
       "      <th>convenience</th>\n",
       "    </tr>\n",
       "  </thead>\n",
       "  <tbody>\n",
       "    <tr>\n",
       "      <th>11846</th>\n",
       "      <td>A000000154732</td>\n",
       "      <td>루나</td>\n",
       "      <td>cup</td>\n",
       "      <td>링 스몰(27ml)</td>\n",
       "      <td>초심자인데 링 추천이 많길래 사봤어요 사용해보니 링이 없으면 뺄때 정말 불편할 것 ...</td>\n",
       "      <td>NaN</td>\n",
       "      <td>NaN</td>\n",
       "      <td>NaN</td>\n",
       "      <td>[초심자, 링, 추천, 많, 사용, 링, 없, 때, 정말, 불편, 같, 여름, 생리...</td>\n",
       "      <td>NaN</td>\n",
       "      <td>0</td>\n",
       "      <td>0</td>\n",
       "      <td>1</td>\n",
       "    </tr>\n",
       "    <tr>\n",
       "      <th>11847</th>\n",
       "      <td>A000000154732</td>\n",
       "      <td>루나</td>\n",
       "      <td>cup</td>\n",
       "      <td>링 타이니(22ml)</td>\n",
       "      <td>탐폰으로 신세계를 만났는데 탐폰은 밤에 착용할 수 없다는 충격적인 사실 하지만 이미...</td>\n",
       "      <td>NaN</td>\n",
       "      <td>NaN</td>\n",
       "      <td>NaN</td>\n",
       "      <td>[탐폰, 신세계, 탐폰, 밤, 착용, 없, 충격, 사실, 이미, 편리, 사람, 다시...</td>\n",
       "      <td>NaN</td>\n",
       "      <td>0</td>\n",
       "      <td>2</td>\n",
       "      <td>1</td>\n",
       "    </tr>\n",
       "    <tr>\n",
       "      <th>11854</th>\n",
       "      <td>A000000154732</td>\n",
       "      <td>루나</td>\n",
       "      <td>cup</td>\n",
       "      <td>링 스몰(27ml)</td>\n",
       "      <td>처음 써보는 생리컵에 두려움이 많았는데 생리통 완화 생리대의 불편함 감소 등으로 도...</td>\n",
       "      <td>NaN</td>\n",
       "      <td>NaN</td>\n",
       "      <td>NaN</td>\n",
       "      <td>[처음, 생리컵, 두려움, 많, 생리통, 완화, 생리대, 불편, 감소, 도전, 확실...</td>\n",
       "      <td>NaN</td>\n",
       "      <td>0</td>\n",
       "      <td>1</td>\n",
       "      <td>1</td>\n",
       "    </tr>\n",
       "    <tr>\n",
       "      <th>11863</th>\n",
       "      <td>A000000154732</td>\n",
       "      <td>루나</td>\n",
       "      <td>cup</td>\n",
       "      <td>링 스몰(27ml)</td>\n",
       "      <td>여름이고 해서 생리대 너무 불편해서 생리컵 사봤는데 기대돼요</td>\n",
       "      <td>NaN</td>\n",
       "      <td>NaN</td>\n",
       "      <td>NaN</td>\n",
       "      <td>[여름, 생리대, 너무, 불편, 생리컵, 기대]</td>\n",
       "      <td>NaN</td>\n",
       "      <td>0</td>\n",
       "      <td>0</td>\n",
       "      <td>1</td>\n",
       "    </tr>\n",
       "    <tr>\n",
       "      <th>11869</th>\n",
       "      <td>A000000154732</td>\n",
       "      <td>루나</td>\n",
       "      <td>cup</td>\n",
       "      <td>링 라지(35ml)</td>\n",
       "      <td>링이 없는 그냥 루나컵 2년 동안 잘 사용했는데 요즘 실링이 잘 안 되더라고요 그래...</td>\n",
       "      <td>NaN</td>\n",
       "      <td>NaN</td>\n",
       "      <td>NaN</td>\n",
       "      <td>[링, 없, 그냥, 루나컵, 동안, 잘, 사용, 요즘, 실링, 잘, 안, 올리브영,...</td>\n",
       "      <td>NaN</td>\n",
       "      <td>0</td>\n",
       "      <td>0</td>\n",
       "      <td>1</td>\n",
       "    </tr>\n",
       "    <tr>\n",
       "      <th>...</th>\n",
       "      <td>...</td>\n",
       "      <td>...</td>\n",
       "      <td>...</td>\n",
       "      <td>...</td>\n",
       "      <td>...</td>\n",
       "      <td>...</td>\n",
       "      <td>...</td>\n",
       "      <td>...</td>\n",
       "      <td>...</td>\n",
       "      <td>...</td>\n",
       "      <td>...</td>\n",
       "      <td>...</td>\n",
       "      <td>...</td>\n",
       "    </tr>\n",
       "    <tr>\n",
       "      <th>12751</th>\n",
       "      <td>A000000178799</td>\n",
       "      <td>라엘</td>\n",
       "      <td>cup</td>\n",
       "      <td>라엘컵 사이즈1</td>\n",
       "      <td>하필 그날이 끝나는 날에 늦게 도착해서 사용은 바로 못해봤어요   일단 사이즈는 중...</td>\n",
       "      <td>NaN</td>\n",
       "      <td>NaN</td>\n",
       "      <td>NaN</td>\n",
       "      <td>[하필, 그날, 날, 늦, 도착, 사용, 바로, 일단, 사이즈, 중간, 컵, 사이즈...</td>\n",
       "      <td>NaN</td>\n",
       "      <td>0</td>\n",
       "      <td>0</td>\n",
       "      <td>1</td>\n",
       "    </tr>\n",
       "    <tr>\n",
       "      <th>12765</th>\n",
       "      <td>A000000185976</td>\n",
       "      <td>해피문데이</td>\n",
       "      <td>cup</td>\n",
       "      <td>해피문데이 베이직 컵-숏</td>\n",
       "      <td>다른 생리컵 사용하다 교체하며 해피문데이꺼 사봤어요 저는 밖에서는 생리컵 갈기 불편...</td>\n",
       "      <td>NaN</td>\n",
       "      <td>NaN</td>\n",
       "      <td>NaN</td>\n",
       "      <td>[생리컵, 사용, 교체, 해피문데이, 밖, 생리컵, 갈기, 불편, 집, 때, 잘, ...</td>\n",
       "      <td>NaN</td>\n",
       "      <td>0</td>\n",
       "      <td>0</td>\n",
       "      <td>1</td>\n",
       "    </tr>\n",
       "    <tr>\n",
       "      <th>12768</th>\n",
       "      <td>A000000185976</td>\n",
       "      <td>해피문데이</td>\n",
       "      <td>cup</td>\n",
       "      <td>해피문데이 베이직 컵-숏</td>\n",
       "      <td>생리대에 불편함을 느끼던 중 다양한 종류의 제품을 써보고 싶다고 생각하던 차에 생리...</td>\n",
       "      <td>NaN</td>\n",
       "      <td>NaN</td>\n",
       "      <td>NaN</td>\n",
       "      <td>[생리대, 불편, 다양, 종류, 제품, 생각, 차, 생리컵, 체험, 단, 사용, 딱...</td>\n",
       "      <td>NaN</td>\n",
       "      <td>0</td>\n",
       "      <td>1</td>\n",
       "      <td>1</td>\n",
       "    </tr>\n",
       "    <tr>\n",
       "      <th>12769</th>\n",
       "      <td>A000000185976</td>\n",
       "      <td>해피문데이</td>\n",
       "      <td>cup</td>\n",
       "      <td>해피문데이 베이직 컵-숏</td>\n",
       "      <td>이번에 체험단으로 기회가 되어 해피문데이의 생리컵을 받아보게 되었는데요  사실 저는...</td>\n",
       "      <td>NaN</td>\n",
       "      <td>NaN</td>\n",
       "      <td>NaN</td>\n",
       "      <td>[이번, 체험, 단, 기회, 해피문데이, 생리컵, 사실, 생리컵, 사, 용해, 본적...</td>\n",
       "      <td>NaN</td>\n",
       "      <td>0</td>\n",
       "      <td>2</td>\n",
       "      <td>1</td>\n",
       "    </tr>\n",
       "    <tr>\n",
       "      <th>12773</th>\n",
       "      <td>A000000185976</td>\n",
       "      <td>해피문데이</td>\n",
       "      <td>cup</td>\n",
       "      <td>해피문데이 베이직 컵-숏</td>\n",
       "      <td>저는 생리컵을 사용하고 있던 터라 이 제품이 체험단에 나온 게 참 반갑더라구요 루 ...</td>\n",
       "      <td>NaN</td>\n",
       "      <td>NaN</td>\n",
       "      <td>NaN</td>\n",
       "      <td>[생리컵, 사용, 제품, 체험, 단, 게, 참, 반갑, 루, 티, 컵, 이렇, 종류...</td>\n",
       "      <td>NaN</td>\n",
       "      <td>0</td>\n",
       "      <td>2</td>\n",
       "      <td>1</td>\n",
       "    </tr>\n",
       "  </tbody>\n",
       "</table>\n",
       "<p>88 rows × 13 columns</p>\n",
       "</div>"
      ],
      "text/plain": [
       "         item_number brand_name sanitary_type    item_option  \\\n",
       "11846  A000000154732         루나           cup     링 스몰(27ml)   \n",
       "11847  A000000154732         루나           cup    링 타이니(22ml)   \n",
       "11854  A000000154732         루나           cup     링 스몰(27ml)   \n",
       "11863  A000000154732         루나           cup     링 스몰(27ml)   \n",
       "11869  A000000154732         루나           cup     링 라지(35ml)   \n",
       "...              ...        ...           ...            ...   \n",
       "12751  A000000178799         라엘           cup       라엘컵 사이즈1   \n",
       "12765  A000000185976      해피문데이           cup  해피문데이 베이직 컵-숏   \n",
       "12768  A000000185976      해피문데이           cup  해피문데이 베이직 컵-숏   \n",
       "12769  A000000185976      해피문데이           cup  해피문데이 베이직 컵-숏   \n",
       "12773  A000000185976      해피문데이           cup  해피문데이 베이직 컵-숏   \n",
       "\n",
       "                                          review_content  absorption_encoded  \\\n",
       "11846  초심자인데 링 추천이 많길래 사봤어요 사용해보니 링이 없으면 뺄때 정말 불편할 것 ...                 NaN   \n",
       "11847  탐폰으로 신세계를 만났는데 탐폰은 밤에 착용할 수 없다는 충격적인 사실 하지만 이미...                 NaN   \n",
       "11854  처음 써보는 생리컵에 두려움이 많았는데 생리통 완화 생리대의 불편함 감소 등으로 도...                 NaN   \n",
       "11863                 여름이고 해서 생리대 너무 불편해서 생리컵 사봤는데 기대돼요                  NaN   \n",
       "11869  링이 없는 그냥 루나컵 2년 동안 잘 사용했는데 요즘 실링이 잘 안 되더라고요 그래...                 NaN   \n",
       "...                                                  ...                 ...   \n",
       "12751  하필 그날이 끝나는 날에 늦게 도착해서 사용은 바로 못해봤어요   일단 사이즈는 중...                 NaN   \n",
       "12765  다른 생리컵 사용하다 교체하며 해피문데이꺼 사봤어요 저는 밖에서는 생리컵 갈기 불편...                 NaN   \n",
       "12768  생리대에 불편함을 느끼던 중 다양한 종류의 제품을 써보고 싶다고 생각하던 차에 생리...                 NaN   \n",
       "12769  이번에 체험단으로 기회가 되어 해피문데이의 생리컵을 받아보게 되었는데요  사실 저는...                 NaN   \n",
       "12773  저는 생리컵을 사용하고 있던 터라 이 제품이 체험단에 나온 게 참 반갑더라구요 루 ...                 NaN   \n",
       "\n",
       "       stimulation_encoded  texture_encoded  \\\n",
       "11846                  NaN              NaN   \n",
       "11847                  NaN              NaN   \n",
       "11854                  NaN              NaN   \n",
       "11863                  NaN              NaN   \n",
       "11869                  NaN              NaN   \n",
       "...                    ...              ...   \n",
       "12751                  NaN              NaN   \n",
       "12765                  NaN              NaN   \n",
       "12768                  NaN              NaN   \n",
       "12769                  NaN              NaN   \n",
       "12773                  NaN              NaN   \n",
       "\n",
       "                                                   nouns  avg  repurchase  \\\n",
       "11846  [초심자, 링, 추천, 많, 사용, 링, 없, 때, 정말, 불편, 같, 여름, 생리...  NaN           0   \n",
       "11847  [탐폰, 신세계, 탐폰, 밤, 착용, 없, 충격, 사실, 이미, 편리, 사람, 다시...  NaN           0   \n",
       "11854  [처음, 생리컵, 두려움, 많, 생리통, 완화, 생리대, 불편, 감소, 도전, 확실...  NaN           0   \n",
       "11863                         [여름, 생리대, 너무, 불편, 생리컵, 기대]  NaN           0   \n",
       "11869  [링, 없, 그냥, 루나컵, 동안, 잘, 사용, 요즘, 실링, 잘, 안, 올리브영,...  NaN           0   \n",
       "...                                                  ...  ...         ...   \n",
       "12751  [하필, 그날, 날, 늦, 도착, 사용, 바로, 일단, 사이즈, 중간, 컵, 사이즈...  NaN           0   \n",
       "12765  [생리컵, 사용, 교체, 해피문데이, 밖, 생리컵, 갈기, 불편, 집, 때, 잘, ...  NaN           0   \n",
       "12768  [생리대, 불편, 다양, 종류, 제품, 생각, 차, 생리컵, 체험, 단, 사용, 딱...  NaN           0   \n",
       "12769  [이번, 체험, 단, 기회, 해피문데이, 생리컵, 사실, 생리컵, 사, 용해, 본적...  NaN           0   \n",
       "12773  [생리컵, 사용, 제품, 체험, 단, 게, 참, 반갑, 루, 티, 컵, 이렇, 종류...  NaN           0   \n",
       "\n",
       "       usability  convenience  \n",
       "11846          0            1  \n",
       "11847          2            1  \n",
       "11854          1            1  \n",
       "11863          0            1  \n",
       "11869          0            1  \n",
       "...          ...          ...  \n",
       "12751          0            1  \n",
       "12765          0            1  \n",
       "12768          1            1  \n",
       "12769          2            1  \n",
       "12773          2            1  \n",
       "\n",
       "[88 rows x 13 columns]"
      ]
     },
     "execution_count": 32,
     "metadata": {},
     "output_type": "execute_result"
    }
   ],
   "source": [
    "df[(df[\"convenience\"]==1) & (df[\"sanitary_type\"]==\"cup\")]"
   ]
  },
  {
   "cell_type": "code",
   "execution_count": 84,
   "id": "7855b581-d050-49c3-9702-db8b8920e534",
   "metadata": {},
   "outputs": [],
   "source": [
    "grouped_sum_cup = df[df[\"sanitary_type\"]==\"cup\"].groupby(\"brand_name\")[\"convenience\"].sum()"
   ]
  },
  {
   "cell_type": "code",
   "execution_count": 85,
   "id": "d90633d7-b053-43dd-9722-04f84121b3a7",
   "metadata": {},
   "outputs": [],
   "source": [
    "grouped_mean_cup = df[df[\"sanitary_type\"]==\"cup\"].groupby(\"brand_name\")[\"convenience\"].mean()"
   ]
  },
  {
   "cell_type": "code",
   "execution_count": 87,
   "id": "29b6f5cf-41a8-474b-9a4e-420fd7d0ae45",
   "metadata": {},
   "outputs": [
    {
     "data": {
      "text/plain": [
       "Text(0.5, 1.0, 'Convenience Mean')"
      ]
     },
     "execution_count": 87,
     "metadata": {},
     "output_type": "execute_result"
    },
    {
     "data": {
      "image/png": "[encoded data removed]",
      "text/plain": [
       "<Figure size 1000x500 with 2 Axes>"
      ]
     },
     "metadata": {},
     "output_type": "display_data"
    }
   ],
   "source": [
    "# 생리컵 -> \"편리성\" 키워드\n",
    "plt.figure(figsize=(10,5))\n",
    "plt.rc(\"font\", family=\"AppleGothic\")\n",
    "\n",
    "plt.subplot(1, 2, 1)\n",
    "plt.bar(grouped_sum_cup.index, grouped_sum_cup.values, color='blue')\n",
    "plt.xticks(rotation=90)\n",
    "plt.title('Convenience Sum')\n",
    "\n",
    "plt.subplot(1, 2, 2)\n",
    "plt.bar(grouped_mean_cup.index, grouped_mean_cup.values, color='blue')\n",
    "plt.xticks(rotation=90)\n",
    "plt.title('Convenience Mean')"
   ]
  },
  {
   "cell_type": "code",
   "execution_count": null,
   "id": "db1a128f-e75a-4fc1-a17e-e254608c868d",
   "metadata": {},
   "outputs": [],
   "source": []
  },
  {
   "cell_type": "markdown",
   "id": "61bdcaef-504d-4324-a5c4-5eb351e1e942",
   "metadata": {},
   "source": [
    "### 컵형 label encoding 평균 "
   ]
  },
  {
   "cell_type": "code",
   "execution_count": 11,
   "id": "629ac05d-8bfd-4886-b66a-49aaa308772f",
   "metadata": {
    "tags": []
   },
   "outputs": [],
   "source": [
    "df[\"cup_avg\"] = df[[\"repurchase\", \"usability\", \"convenience\"]].mean(axis=1)"
   ]
  },
  {
   "cell_type": "code",
   "execution_count": 67,
   "id": "6428b39e-23b7-413e-9e64-1455f9b9f1d8",
   "metadata": {},
   "outputs": [
    {
     "data": {
      "text/html": [
       "<div>\n",
       "<style scoped>\n",
       "    .dataframe tbody tr th:only-of-type {\n",
       "        vertical-align: middle;\n",
       "    }\n",
       "\n",
       "    .dataframe tbody tr th {\n",
       "        vertical-align: top;\n",
       "    }\n",
       "\n",
       "    .dataframe thead th {\n",
       "        text-align: right;\n",
       "    }\n",
       "</style>\n",
       "<table border=\"1\" class=\"dataframe\">\n",
       "  <thead>\n",
       "    <tr style=\"text-align: right;\">\n",
       "      <th></th>\n",
       "      <th>repurchase</th>\n",
       "      <th>usability</th>\n",
       "      <th>convenience</th>\n",
       "      <th>cup_avg</th>\n",
       "    </tr>\n",
       "  </thead>\n",
       "  <tbody>\n",
       "    <tr>\n",
       "      <th>12525</th>\n",
       "      <td>0</td>\n",
       "      <td>0</td>\n",
       "      <td>0</td>\n",
       "      <td>0.000000</td>\n",
       "    </tr>\n",
       "    <tr>\n",
       "      <th>12526</th>\n",
       "      <td>0</td>\n",
       "      <td>0</td>\n",
       "      <td>0</td>\n",
       "      <td>0.000000</td>\n",
       "    </tr>\n",
       "    <tr>\n",
       "      <th>12527</th>\n",
       "      <td>0</td>\n",
       "      <td>0</td>\n",
       "      <td>1</td>\n",
       "      <td>0.333333</td>\n",
       "    </tr>\n",
       "    <tr>\n",
       "      <th>12528</th>\n",
       "      <td>0</td>\n",
       "      <td>0</td>\n",
       "      <td>1</td>\n",
       "      <td>0.333333</td>\n",
       "    </tr>\n",
       "    <tr>\n",
       "      <th>12529</th>\n",
       "      <td>0</td>\n",
       "      <td>0</td>\n",
       "      <td>0</td>\n",
       "      <td>0.000000</td>\n",
       "    </tr>\n",
       "    <tr>\n",
       "      <th>12530</th>\n",
       "      <td>0</td>\n",
       "      <td>0</td>\n",
       "      <td>0</td>\n",
       "      <td>0.000000</td>\n",
       "    </tr>\n",
       "    <tr>\n",
       "      <th>12531</th>\n",
       "      <td>1</td>\n",
       "      <td>0</td>\n",
       "      <td>0</td>\n",
       "      <td>0.333333</td>\n",
       "    </tr>\n",
       "    <tr>\n",
       "      <th>12532</th>\n",
       "      <td>1</td>\n",
       "      <td>0</td>\n",
       "      <td>2</td>\n",
       "      <td>1.000000</td>\n",
       "    </tr>\n",
       "  </tbody>\n",
       "</table>\n",
       "</div>"
      ],
      "text/plain": [
       "       repurchase  usability  convenience   cup_avg\n",
       "12525           0          0            0  0.000000\n",
       "12526           0          0            0  0.000000\n",
       "12527           0          0            1  0.333333\n",
       "12528           0          0            1  0.333333\n",
       "12529           0          0            0  0.000000\n",
       "12530           0          0            0  0.000000\n",
       "12531           1          0            0  0.333333\n",
       "12532           1          0            2  1.000000"
      ]
     },
     "execution_count": 67,
     "metadata": {},
     "output_type": "execute_result"
    }
   ],
   "source": [
    "df[df[\"brand_name\"]==\"한나\"][[\"repurchase\", \"usability\", \"convenience\", \"cup_avg\"]]"
   ]
  },
  {
   "cell_type": "code",
   "execution_count": 66,
   "id": "eb1cf2d6-3339-4bab-a738-5f9aa850f2b5",
   "metadata": {},
   "outputs": [
    {
     "data": {
      "image/png": "[encoded data removed]",
      "text/plain": [
       "<Figure size 640x480 with 1 Axes>"
      ]
     },
     "metadata": {},
     "output_type": "display_data"
    }
   ],
   "source": [
    "plt.rc(\"font\", family=\"AppleGothic\")\n",
    "sns.boxplot(x=\"brand_name\", y=\"cup_avg\", data=cup_brand)\n",
    "\n",
    "plt.title(\"Cup - Average\")\n",
    "plt.xlabel(\"Cup Brand\")\n",
    "plt.xticks(rotation=45)\n",
    "plt.ylabel(\"Average\")\n",
    "\n",
    "plt.show()\n",
    "\n",
    "# >> '한나' 이상치 -> 대부분 재구매, 사용성, 편리성에서 0 또는 1 값을 가지는데, 하나만 편리성에서 2 값을 가짐. \n",
    "# 티읕과 라엘 "
   ]
  },
  {
   "cell_type": "code",
   "execution_count": 131,
   "id": "5ed38088-76ab-40f0-a83e-7fcfc225f0a6",
   "metadata": {
    "tags": []
   },
   "outputs": [
    {
     "data": {
      "text/html": [
       "<div>\n",
       "<style scoped>\n",
       "    .dataframe tbody tr th:only-of-type {\n",
       "        vertical-align: middle;\n",
       "    }\n",
       "\n",
       "    .dataframe tbody tr th {\n",
       "        vertical-align: top;\n",
       "    }\n",
       "\n",
       "    .dataframe thead th {\n",
       "        text-align: right;\n",
       "    }\n",
       "</style>\n",
       "<table border=\"1\" class=\"dataframe\">\n",
       "  <thead>\n",
       "    <tr style=\"text-align: right;\">\n",
       "      <th></th>\n",
       "      <th>item_number</th>\n",
       "      <th>brand_name</th>\n",
       "      <th>sanitary_type</th>\n",
       "      <th>item_option</th>\n",
       "      <th>review_content</th>\n",
       "      <th>absorption_encoded</th>\n",
       "      <th>stimulation_encoded</th>\n",
       "      <th>texture_encoded</th>\n",
       "      <th>nouns</th>\n",
       "      <th>avg</th>\n",
       "      <th>repurchase</th>\n",
       "      <th>usability</th>\n",
       "      <th>convenience</th>\n",
       "      <th>cup_avg</th>\n",
       "    </tr>\n",
       "  </thead>\n",
       "  <tbody>\n",
       "    <tr>\n",
       "      <th>0</th>\n",
       "      <td>A000000191350</td>\n",
       "      <td>마리솜</td>\n",
       "      <td>pad</td>\n",
       "      <td></td>\n",
       "      <td>너무 귀여워서 살수 밖에 없었어요 사실 쿠로미 가지고싶었는데 마멜 당첨 됬지만 너무...</td>\n",
       "      <td>3.0</td>\n",
       "      <td>2.0</td>\n",
       "      <td>3.0</td>\n",
       "      <td>[너무, 귀엽, 살수, 밖, 없, 사실, 쿠로미, 마멜, 당첨, 너무, 귀엽, 마멜...</td>\n",
       "      <td>2.666667</td>\n",
       "      <td>0</td>\n",
       "      <td>0</td>\n",
       "      <td>0</td>\n",
       "      <td>0.0</td>\n",
       "    </tr>\n",
       "    <tr>\n",
       "      <th>1</th>\n",
       "      <td>A000000191350</td>\n",
       "      <td>마리솜</td>\n",
       "      <td>pad</td>\n",
       "      <td></td>\n",
       "      <td>종류별로 다양하게 담겨있어서 좋아요  오버나이트가 급히 필요해서 뜯어 써봤는데 진짜...</td>\n",
       "      <td>2.0</td>\n",
       "      <td>3.0</td>\n",
       "      <td>2.0</td>\n",
       "      <td>[종류, 다양, 좋, 오버나이트, 급히, 필요, 진짜, 좋, 추천, 합, 당]</td>\n",
       "      <td>2.333333</td>\n",
       "      <td>0</td>\n",
       "      <td>0</td>\n",
       "      <td>0</td>\n",
       "      <td>0.0</td>\n",
       "    </tr>\n",
       "    <tr>\n",
       "      <th>2</th>\n",
       "      <td>A000000193819</td>\n",
       "      <td>마리솜</td>\n",
       "      <td>pad</td>\n",
       "      <td></td>\n",
       "      <td>조카가 얼마전에 생리시작해서 생리대 선물해 주려고했는데 마침 퍼스트박스 세트가 있어...</td>\n",
       "      <td>3.0</td>\n",
       "      <td>3.0</td>\n",
       "      <td>3.0</td>\n",
       "      <td>[조카, 얼마, 전, 생리, 시작, 생리대, 선물, 마침, 퍼스트, 박스 세트, 구...</td>\n",
       "      <td>3.000000</td>\n",
       "      <td>0</td>\n",
       "      <td>0</td>\n",
       "      <td>0</td>\n",
       "      <td>0.0</td>\n",
       "    </tr>\n",
       "  </tbody>\n",
       "</table>\n",
       "</div>"
      ],
      "text/plain": [
       "     item_number brand_name sanitary_type item_option  \\\n",
       "0  A000000191350        마리솜           pad               \n",
       "1  A000000191350        마리솜           pad               \n",
       "2  A000000193819        마리솜           pad               \n",
       "\n",
       "                                      review_content  absorption_encoded  \\\n",
       "0  너무 귀여워서 살수 밖에 없었어요 사실 쿠로미 가지고싶었는데 마멜 당첨 됬지만 너무...                 3.0   \n",
       "1  종류별로 다양하게 담겨있어서 좋아요  오버나이트가 급히 필요해서 뜯어 써봤는데 진짜...                 2.0   \n",
       "2  조카가 얼마전에 생리시작해서 생리대 선물해 주려고했는데 마침 퍼스트박스 세트가 있어...                 3.0   \n",
       "\n",
       "   stimulation_encoded  texture_encoded  \\\n",
       "0                  2.0              3.0   \n",
       "1                  3.0              2.0   \n",
       "2                  3.0              3.0   \n",
       "\n",
       "                                               nouns       avg  repurchase  \\\n",
       "0  [너무, 귀엽, 살수, 밖, 없, 사실, 쿠로미, 마멜, 당첨, 너무, 귀엽, 마멜...  2.666667           0   \n",
       "1        [종류, 다양, 좋, 오버나이트, 급히, 필요, 진짜, 좋, 추천, 합, 당]  2.333333           0   \n",
       "2  [조카, 얼마, 전, 생리, 시작, 생리대, 선물, 마침, 퍼스트, 박스 세트, 구...  3.000000           0   \n",
       "\n",
       "   usability  convenience  cup_avg  \n",
       "0          0            0      0.0  \n",
       "1          0            0      0.0  \n",
       "2          0            0      0.0  "
      ]
     },
     "execution_count": 131,
     "metadata": {},
     "output_type": "execute_result"
    }
   ],
   "source": [
    "df.head(3)"
   ]
  },
  {
   "cell_type": "markdown",
   "id": "9645751e-bebd-4b1a-b383-179276805f09",
   "metadata": {},
   "source": [
    "### 티읕과 라엘의 평균이 정말 같을까? >> t-test 진행"
   ]
  },
  {
   "cell_type": "code",
   "execution_count": 91,
   "id": "60db0bae-fd05-453b-8e44-e9dbb0d377c5",
   "metadata": {
    "tags": []
   },
   "outputs": [],
   "source": [
    "from scipy import stats"
   ]
  },
  {
   "cell_type": "markdown",
   "id": "477efc28-e3f2-4b51-9dad-bceb8c4936b5",
   "metadata": {},
   "source": [
    "#### 등분산 검정\n",
    "- H0: 이분산\n",
    "- H1: 등분산"
   ]
  },
  {
   "cell_type": "code",
   "execution_count": 94,
   "id": "0b58ec80-be94-4758-87a9-f85ed6609353",
   "metadata": {},
   "outputs": [
    {
     "name": "stdout",
     "output_type": "stream",
     "text": [
      "repurchase p-value: 0.38803486682584243, 등분산 가정 만족\n",
      "usability p-value: 0.4435140103584516, 등분산 가정 만족\n",
      "convenience p-value: 0.08275653854139314, 등분산 가정 만족\n",
      "cup_avg p-value: 0.9207933204743548, 등분산 가정 만족\n"
     ]
    }
   ],
   "source": [
    "from scipy import stats\n",
    "\n",
    "test_names = ['repurchase', 'usability', 'convenience', 'cup_avg']\n",
    "\n",
    "t_scores = df[(df['sanitary_type'] == 'cup') & (df[\"brand_name\"]==\"티읕\")][['repurchase', 'usability', 'convenience', 'cup_avg']]\n",
    "r_scores = df[(df['sanitary_type'] == 'cup') & (df[\"brand_name\"]==\"라엘\")][['repurchase', 'usability', 'convenience', 'cup_avg']]\n",
    "\n",
    "for test_name in test_names:\n",
    "    # 결측치를 제거한 후 등분산 검정 수행\n",
    "    t_data = t_scores[test_name].dropna()\n",
    "    r_data = r_scores[test_name].dropna()\n",
    "\n",
    "    _, p_value_levene = stats.levene(t_data, r_data)\n",
    "    if p_value_levene > 0.05:\n",
    "        print(f\"{test_name} p-value: {p_value_levene}, 등분산 가정 만족\")\n",
    "    else:\n",
    "        print(f\"{test_name} p-value: {p_value_levene}, 이분산 가정 만족\")\n",
    "\n",
    "# 모두 등분산 가정 만족함"
   ]
  },
  {
   "cell_type": "markdown",
   "id": "17440ce8-5502-4f51-8566-6468ef644dc8",
   "metadata": {},
   "source": [
    "#### t-test 진행\n",
    "- H0: 두 그룹의 평균의 차이는 0이다. => 두 그룹의 평균이 같다.\n",
    "- H1: 두 그룹의 평균의 차이는 0이 아니다 => 두 그룹의 평균이 같지 않다."
   ]
  },
  {
   "cell_type": "code",
   "execution_count": 95,
   "id": "2ee9728f-88f1-4e35-99f9-a99521db0d68",
   "metadata": {},
   "outputs": [
    {
     "name": "stdout",
     "output_type": "stream",
     "text": [
      "p-value: [0.38803487 0.44351401 0.00620469 0.01757706]\n",
      "귀무 가설 기각: [False False  True  True]\n"
     ]
    }
   ],
   "source": [
    "t_statistic, p_value = stats.ttest_ind(\n",
    "    a=t_scores,\n",
    "    b=r_scores,\n",
    "    alternative=\"two-sided\",    # 양측\n",
    "    equal_var=True,\n",
    "    nan_policy=\"omit\"     # nan값 무시하고 진행\n",
    ")\n",
    "print(f\"p-value: {p_value}\")\n",
    "print(f\"귀무 가설 기각: {p_value < 0.05}\")\n",
    "\n",
    "# 재구매와 사용성에서는 유의확률이 유의수준 0.05 보다 크기때문에 귀무가설을 기각할 수 없음.\n",
    "# >> 따라서 재구매와 사용성에서는 두 그룹의 평균이 같다고 할 수 있다.\n",
    "\n",
    "# 편리성과 전체 평균에서는 유의확률이 유의수준 0.05 보다 작기때문에 귀무가설을 기각한다.\n",
    "# >> 따라서 편리성과 전체 평균에서는 두 그룹의 평균이 같지 않다고 할 수 있다."
   ]
  },
  {
   "cell_type": "code",
   "execution_count": null,
   "id": "d7279a20-994b-4286-9821-f750865717be",
   "metadata": {},
   "outputs": [],
   "source": []
  },
  {
   "cell_type": "code",
   "execution_count": 12,
   "id": "b6505d52-6d5a-496f-9048-7d4778b17b30",
   "metadata": {
    "tags": []
   },
   "outputs": [
    {
     "data": {
      "text/html": [
       "<div>\n",
       "<style scoped>\n",
       "    .dataframe tbody tr th:only-of-type {\n",
       "        vertical-align: middle;\n",
       "    }\n",
       "\n",
       "    .dataframe tbody tr th {\n",
       "        vertical-align: top;\n",
       "    }\n",
       "\n",
       "    .dataframe thead th {\n",
       "        text-align: right;\n",
       "    }\n",
       "</style>\n",
       "<table border=\"1\" class=\"dataframe\">\n",
       "  <thead>\n",
       "    <tr style=\"text-align: right;\">\n",
       "      <th></th>\n",
       "      <th>item_number</th>\n",
       "      <th>brand_name</th>\n",
       "      <th>sanitary_type</th>\n",
       "      <th>item_option</th>\n",
       "      <th>review_content</th>\n",
       "      <th>absorption_encoded</th>\n",
       "      <th>stimulation_encoded</th>\n",
       "      <th>texture_encoded</th>\n",
       "      <th>nouns</th>\n",
       "      <th>avg</th>\n",
       "      <th>repurchase</th>\n",
       "      <th>usability</th>\n",
       "      <th>convenience</th>\n",
       "      <th>cup_avg</th>\n",
       "    </tr>\n",
       "  </thead>\n",
       "  <tbody>\n",
       "    <tr>\n",
       "      <th>0</th>\n",
       "      <td>A000000191350</td>\n",
       "      <td>마리솜</td>\n",
       "      <td>pad</td>\n",
       "      <td></td>\n",
       "      <td>너무 귀여워서 살수 밖에 없었어요 사실 쿠로미 가지고싶었는데 마멜 당첨 됬지만 너무...</td>\n",
       "      <td>3.0</td>\n",
       "      <td>2.0</td>\n",
       "      <td>3.0</td>\n",
       "      <td>[너무, 귀엽, 살수, 밖, 없, 사실, 쿠로미, 마멜, 당첨, 너무, 귀엽, 마멜...</td>\n",
       "      <td>2.666667</td>\n",
       "      <td>0</td>\n",
       "      <td>0</td>\n",
       "      <td>0</td>\n",
       "      <td>0.0</td>\n",
       "    </tr>\n",
       "    <tr>\n",
       "      <th>1</th>\n",
       "      <td>A000000191350</td>\n",
       "      <td>마리솜</td>\n",
       "      <td>pad</td>\n",
       "      <td></td>\n",
       "      <td>종류별로 다양하게 담겨있어서 좋아요  오버나이트가 급히 필요해서 뜯어 써봤는데 진짜...</td>\n",
       "      <td>2.0</td>\n",
       "      <td>3.0</td>\n",
       "      <td>2.0</td>\n",
       "      <td>[종류, 다양, 좋, 오버나이트, 급히, 필요, 진짜, 좋, 추천, 합, 당]</td>\n",
       "      <td>2.333333</td>\n",
       "      <td>0</td>\n",
       "      <td>0</td>\n",
       "      <td>0</td>\n",
       "      <td>0.0</td>\n",
       "    </tr>\n",
       "    <tr>\n",
       "      <th>2</th>\n",
       "      <td>A000000193819</td>\n",
       "      <td>마리솜</td>\n",
       "      <td>pad</td>\n",
       "      <td></td>\n",
       "      <td>조카가 얼마전에 생리시작해서 생리대 선물해 주려고했는데 마침 퍼스트박스 세트가 있어...</td>\n",
       "      <td>3.0</td>\n",
       "      <td>3.0</td>\n",
       "      <td>3.0</td>\n",
       "      <td>[조카, 얼마, 전, 생리, 시작, 생리대, 선물, 마침, 퍼스트, 박스 세트, 구...</td>\n",
       "      <td>3.000000</td>\n",
       "      <td>0</td>\n",
       "      <td>0</td>\n",
       "      <td>0</td>\n",
       "      <td>0.0</td>\n",
       "    </tr>\n",
       "  </tbody>\n",
       "</table>\n",
       "</div>"
      ],
      "text/plain": [
       "     item_number brand_name sanitary_type item_option  \\\n",
       "0  A000000191350        마리솜           pad               \n",
       "1  A000000191350        마리솜           pad               \n",
       "2  A000000193819        마리솜           pad               \n",
       "\n",
       "                                      review_content  absorption_encoded  \\\n",
       "0  너무 귀여워서 살수 밖에 없었어요 사실 쿠로미 가지고싶었는데 마멜 당첨 됬지만 너무...                 3.0   \n",
       "1  종류별로 다양하게 담겨있어서 좋아요  오버나이트가 급히 필요해서 뜯어 써봤는데 진짜...                 2.0   \n",
       "2  조카가 얼마전에 생리시작해서 생리대 선물해 주려고했는데 마침 퍼스트박스 세트가 있어...                 3.0   \n",
       "\n",
       "   stimulation_encoded  texture_encoded  \\\n",
       "0                  2.0              3.0   \n",
       "1                  3.0              2.0   \n",
       "2                  3.0              3.0   \n",
       "\n",
       "                                               nouns       avg  repurchase  \\\n",
       "0  [너무, 귀엽, 살수, 밖, 없, 사실, 쿠로미, 마멜, 당첨, 너무, 귀엽, 마멜...  2.666667           0   \n",
       "1        [종류, 다양, 좋, 오버나이트, 급히, 필요, 진짜, 좋, 추천, 합, 당]  2.333333           0   \n",
       "2  [조카, 얼마, 전, 생리, 시작, 생리대, 선물, 마침, 퍼스트, 박스 세트, 구...  3.000000           0   \n",
       "\n",
       "   usability  convenience  cup_avg  \n",
       "0          0            0      0.0  \n",
       "1          0            0      0.0  \n",
       "2          0            0      0.0  "
      ]
     },
     "execution_count": 12,
     "metadata": {},
     "output_type": "execute_result"
    }
   ],
   "source": [
    "df.head(3)"
   ]
  },
  {
   "cell_type": "code",
   "execution_count": 17,
   "id": "77902106-bca8-4700-8daa-8ef50fde17bd",
   "metadata": {},
   "outputs": [],
   "source": [
    "# heatmap_df = df.dropna(subset=[\"absorption_encoded\", \"stimulation_encoded\", \"texture_encoded\"])\n",
    "# heatmap_df"
   ]
  },
  {
   "cell_type": "code",
   "execution_count": 22,
   "id": "d379805d-67a7-47eb-8dd6-f99c86775dd3",
   "metadata": {},
   "outputs": [],
   "source": [
    "heatmap_df = heatmap_df.dropna(subset=[\"absorption_encoded\", \"stimulation_encoded\", \"texture_encoded\"])[[\"absorption_encoded\", \"stimulation_encoded\", \"texture_encoded\"]]\n",
    "heatmap_df[\"repurchase\"] = df[\"repurchase\"]\n",
    "heatmap_df[\"usability\"] = df[\"usability\"]\n",
    "heatmap_df[\"convenience\"] = df[\"convenience\"]"
   ]
  },
  {
   "cell_type": "code",
   "execution_count": 23,
   "id": "b05ef08f-7cdc-4990-a515-24a8688c2ae6",
   "metadata": {
    "tags": []
   },
   "outputs": [
    {
     "data": {
      "text/html": [
       "<div>\n",
       "<style scoped>\n",
       "    .dataframe tbody tr th:only-of-type {\n",
       "        vertical-align: middle;\n",
       "    }\n",
       "\n",
       "    .dataframe tbody tr th {\n",
       "        vertical-align: top;\n",
       "    }\n",
       "\n",
       "    .dataframe thead th {\n",
       "        text-align: right;\n",
       "    }\n",
       "</style>\n",
       "<table border=\"1\" class=\"dataframe\">\n",
       "  <thead>\n",
       "    <tr style=\"text-align: right;\">\n",
       "      <th></th>\n",
       "      <th>absorption_encoded</th>\n",
       "      <th>stimulation_encoded</th>\n",
       "      <th>texture_encoded</th>\n",
       "      <th>repurchase</th>\n",
       "      <th>usability</th>\n",
       "      <th>convenience</th>\n",
       "    </tr>\n",
       "  </thead>\n",
       "  <tbody>\n",
       "    <tr>\n",
       "      <th>0</th>\n",
       "      <td>3.0</td>\n",
       "      <td>2.0</td>\n",
       "      <td>3.0</td>\n",
       "      <td>0</td>\n",
       "      <td>0</td>\n",
       "      <td>0</td>\n",
       "    </tr>\n",
       "    <tr>\n",
       "      <th>1</th>\n",
       "      <td>2.0</td>\n",
       "      <td>3.0</td>\n",
       "      <td>2.0</td>\n",
       "      <td>0</td>\n",
       "      <td>0</td>\n",
       "      <td>0</td>\n",
       "    </tr>\n",
       "    <tr>\n",
       "      <th>2</th>\n",
       "      <td>3.0</td>\n",
       "      <td>3.0</td>\n",
       "      <td>3.0</td>\n",
       "      <td>0</td>\n",
       "      <td>0</td>\n",
       "      <td>0</td>\n",
       "    </tr>\n",
       "    <tr>\n",
       "      <th>3</th>\n",
       "      <td>3.0</td>\n",
       "      <td>3.0</td>\n",
       "      <td>3.0</td>\n",
       "      <td>0</td>\n",
       "      <td>0</td>\n",
       "      <td>0</td>\n",
       "    </tr>\n",
       "    <tr>\n",
       "      <th>4</th>\n",
       "      <td>2.0</td>\n",
       "      <td>2.0</td>\n",
       "      <td>2.0</td>\n",
       "      <td>0</td>\n",
       "      <td>0</td>\n",
       "      <td>0</td>\n",
       "    </tr>\n",
       "    <tr>\n",
       "      <th>...</th>\n",
       "      <td>...</td>\n",
       "      <td>...</td>\n",
       "      <td>...</td>\n",
       "      <td>...</td>\n",
       "      <td>...</td>\n",
       "      <td>...</td>\n",
       "    </tr>\n",
       "    <tr>\n",
       "      <th>21987</th>\n",
       "      <td>3.0</td>\n",
       "      <td>3.0</td>\n",
       "      <td>3.0</td>\n",
       "      <td>0</td>\n",
       "      <td>0</td>\n",
       "      <td>0</td>\n",
       "    </tr>\n",
       "    <tr>\n",
       "      <th>21988</th>\n",
       "      <td>2.0</td>\n",
       "      <td>2.0</td>\n",
       "      <td>2.0</td>\n",
       "      <td>0</td>\n",
       "      <td>0</td>\n",
       "      <td>0</td>\n",
       "    </tr>\n",
       "    <tr>\n",
       "      <th>21989</th>\n",
       "      <td>3.0</td>\n",
       "      <td>3.0</td>\n",
       "      <td>3.0</td>\n",
       "      <td>0</td>\n",
       "      <td>0</td>\n",
       "      <td>0</td>\n",
       "    </tr>\n",
       "    <tr>\n",
       "      <th>21990</th>\n",
       "      <td>2.0</td>\n",
       "      <td>2.0</td>\n",
       "      <td>2.0</td>\n",
       "      <td>0</td>\n",
       "      <td>0</td>\n",
       "      <td>0</td>\n",
       "    </tr>\n",
       "    <tr>\n",
       "      <th>21991</th>\n",
       "      <td>3.0</td>\n",
       "      <td>3.0</td>\n",
       "      <td>3.0</td>\n",
       "      <td>0</td>\n",
       "      <td>0</td>\n",
       "      <td>2</td>\n",
       "    </tr>\n",
       "  </tbody>\n",
       "</table>\n",
       "<p>20871 rows × 6 columns</p>\n",
       "</div>"
      ],
      "text/plain": [
       "       absorption_encoded  stimulation_encoded  texture_encoded  repurchase  \\\n",
       "0                     3.0                  2.0              3.0           0   \n",
       "1                     2.0                  3.0              2.0           0   \n",
       "2                     3.0                  3.0              3.0           0   \n",
       "3                     3.0                  3.0              3.0           0   \n",
       "4                     2.0                  2.0              2.0           0   \n",
       "...                   ...                  ...              ...         ...   \n",
       "21987                 3.0                  3.0              3.0           0   \n",
       "21988                 2.0                  2.0              2.0           0   \n",
       "21989                 3.0                  3.0              3.0           0   \n",
       "21990                 2.0                  2.0              2.0           0   \n",
       "21991                 3.0                  3.0              3.0           0   \n",
       "\n",
       "       usability  convenience  \n",
       "0              0            0  \n",
       "1              0            0  \n",
       "2              0            0  \n",
       "3              0            0  \n",
       "4              0            0  \n",
       "...          ...          ...  \n",
       "21987          0            0  \n",
       "21988          0            0  \n",
       "21989          0            0  \n",
       "21990          0            0  \n",
       "21991          0            2  \n",
       "\n",
       "[20871 rows x 6 columns]"
      ]
     },
     "execution_count": 23,
     "metadata": {},
     "output_type": "execute_result"
    }
   ],
   "source": [
    "heatmap_df"
   ]
  },
  {
   "cell_type": "code",
   "execution_count": 24,
   "id": "e6332cc8-1855-4d44-a1de-617a17700227",
   "metadata": {
    "tags": []
   },
   "outputs": [
    {
     "data": {
      "text/plain": [
       "Text(0.5, 1.0, 'Heatmap')"
      ]
     },
     "execution_count": 24,
     "metadata": {},
     "output_type": "execute_result"
    },
    {
     "data": {
      "image/png": "[encoded data removed]",
      "text/plain": [
       "<Figure size 640x480 with 2 Axes>"
      ]
     },
     "metadata": {},
     "output_type": "display_data"
    }
   ],
   "source": [
    "import seaborn as sns\n",
    "import matplotlib.pyplot as plt\n",
    "\n",
    "sns.heatmap(\n",
    "    heatmap_df.corr(),\n",
    "    annot=True,\n",
    "    linewidth=0.5,\n",
    "    cmap=\"YlGnBu\"\n",
    ")\n",
    "\n",
    "# 그래프 출력\n",
    "plt.title(\"Heatmap\")\n",
    "# plt.show()\n"
   ]
  },
  {
   "cell_type": "code",
   "execution_count": null,
   "id": "8d18fae2-468f-47e3-ae86-2dbbddf91539",
   "metadata": {},
   "outputs": [],
   "source": []
  }
 ],
 "metadata": {
  "kernelspec": {
   "display_name": "Python 3 (ipykernel)",
   "language": "python",
   "name": "python3"
  },
  "language_info": {
   "codemirror_mode": {
    "name": "ipython",
    "version": 3
   },
   "file_extension": ".py",
   "mimetype": "text/x-python",
   "name": "python",
   "nbconvert_exporter": "python",
   "pygments_lexer": "ipython3",
   "version": "3.11.5"
  }
 },
 "nbformat": 4,
 "nbformat_minor": 5
}
